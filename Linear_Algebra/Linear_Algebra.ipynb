{
  "nbformat": 4,
  "nbformat_minor": 0,
  "metadata": {
    "colab": {
      "provenance": []
    },
    "kernelspec": {
      "name": "python3",
      "display_name": "Python 3"
    },
    "language_info": {
      "name": "python"
    }
  },
  "cells": [
    {
      "cell_type": "markdown",
      "source": [
        "# Section 1: Scalars, Vectors, Matrices, and Tensors."
      ],
      "metadata": {
        "id": "txIcMqL_jv3x"
      }
    },
    {
      "cell_type": "markdown",
      "source": [
        "1.1 Scalars\n",
        "- A scalar is a single number.\n",
        "- It represents magnitude only (no direction).\n",
        "- In NumPy: simply a number, e.g., x = 5"
      ],
      "metadata": {
        "id": "EDEBSn0nj6PZ"
      }
    },
    {
      "cell_type": "code",
      "execution_count": 1,
      "metadata": {
        "colab": {
          "base_uri": "https://localhost:8080/"
        },
        "id": "Ca-cC6wfjhAb",
        "outputId": "4582a883-f985-40c6-be1d-df206d3dfe7c"
      },
      "outputs": [
        {
          "output_type": "stream",
          "name": "stdout",
          "text": [
            "Scalar: 5\n"
          ]
        }
      ],
      "source": [
        "x=5\n",
        "print(\"Scalar:\",x)"
      ]
    },
    {
      "cell_type": "markdown",
      "source": [
        "1.2 Vectors\n",
        "- A vector is an ordered 1D array of numbers.\n",
        "- Represents both magnitude and direction.\n",
        "- Example: velocity in 3D → [vx, vy, vz]"
      ],
      "metadata": {
        "id": "v9rMyV9MkOA6"
      }
    },
    {
      "cell_type": "code",
      "source": [
        "import numpy as np\n",
        "\n",
        "x=np.array([1,2,3])\n",
        "print(\"Vector:\",x)"
      ],
      "metadata": {
        "colab": {
          "base_uri": "https://localhost:8080/"
        },
        "id": "kLKHgg36kSr9",
        "outputId": "5f646f16-91d0-423c-881b-3af53e102bb7"
      },
      "execution_count": 2,
      "outputs": [
        {
          "output_type": "stream",
          "name": "stdout",
          "text": [
            "Vector: [1 2 3]\n"
          ]
        }
      ]
    },
    {
      "cell_type": "markdown",
      "source": [
        "1.3 Matrices\n",
        "- A matrix is a 2D array of numbers.\n",
        "- Used to represent linear transformations or data tables."
      ],
      "metadata": {
        "id": "cxiyqzH7kbtN"
      }
    },
    {
      "cell_type": "code",
      "source": [
        "matrix=np.array([[1,2],[3,4]])\n",
        "print(\"Matrix:\\n\",matrix)"
      ],
      "metadata": {
        "colab": {
          "base_uri": "https://localhost:8080/"
        },
        "id": "TPNc2iIVkfie",
        "outputId": "d1d9f85b-f47b-486a-e201-944ebe9e9fe8"
      },
      "execution_count": 5,
      "outputs": [
        {
          "output_type": "stream",
          "name": "stdout",
          "text": [
            "Matrix:\n",
            " [[1 2]\n",
            " [3 4]]\n"
          ]
        }
      ]
    },
    {
      "cell_type": "markdown",
      "source": [
        "1.4 Tensors\n",
        "- A tensor generalizes vectors and matrices to higher dimensions.\n",
        "- Examples in AI:\n",
        "   - Images (RGB) → shape (Height, Width, Channels)\n",
        "   - Text embeddings → shape (Batch, Tokens, Embedding_Dim)\n",
        "- Tensors are the default data structure in frameworks like TensorFlow and PyTorch."
      ],
      "metadata": {
        "id": "oAv_XJEukuzY"
      }
    },
    {
      "cell_type": "code",
      "source": [
        "tensor=np.array([[[1,2],[3,4]],[[5,6],[7,8]]])\n",
        "print(\"Tensor:\\n\",tensor)"
      ],
      "metadata": {
        "colab": {
          "base_uri": "https://localhost:8080/"
        },
        "id": "EU0yEgHCk2zU",
        "outputId": "5207caf8-c9d5-4f75-eba6-bee67194f7bd"
      },
      "execution_count": 6,
      "outputs": [
        {
          "output_type": "stream",
          "name": "stdout",
          "text": [
            "Tensor:\n",
            " [[[1 2]\n",
            "  [3 4]]\n",
            "\n",
            " [[5 6]\n",
            "  [7 8]]]\n"
          ]
        }
      ]
    },
    {
      "cell_type": "markdown",
      "source": [
        "#Section 2: Matrix Operations"
      ],
      "metadata": {
        "id": "TlNpadgRlP8J"
      }
    },
    {
      "cell_type": "markdown",
      "source": [
        "2.1 Matrix Addition & Subtraction\n",
        "- Only valid when both matrices have the same shape.\n",
        "- Element-wise operation."
      ],
      "metadata": {
        "id": "NDYT2-OclNOd"
      }
    },
    {
      "cell_type": "code",
      "source": [
        "import numpy as np\n",
        "\n",
        "#lets create example matrices\n",
        "mat1=np.array([[1,2],[3,4]])\n",
        "mat2=np.array([[5,6],[7,8]])"
      ],
      "metadata": {
        "id": "aP4ZQbW5lpoy"
      },
      "execution_count": 8,
      "outputs": []
    },
    {
      "cell_type": "code",
      "source": [
        "add=mat1+mat2\n",
        "sub=mat1-mat2\n",
        "\n",
        "print(\"Addition:\\n\",add)\n",
        "print(\"Subtraction:\\n\",sub)"
      ],
      "metadata": {
        "colab": {
          "base_uri": "https://localhost:8080/"
        },
        "id": "RotoHYnKlWaJ",
        "outputId": "25e9e511-551e-428e-d035-085814223c53"
      },
      "execution_count": 9,
      "outputs": [
        {
          "output_type": "stream",
          "name": "stdout",
          "text": [
            "Addition:\n",
            " [[ 6  8]\n",
            " [10 12]]\n",
            "Subtraction:\n",
            " [[-4 -4]\n",
            " [-4 -4]]\n"
          ]
        }
      ]
    },
    {
      "cell_type": "markdown",
      "source": [
        "2.2 Element-wise Multiplication (*)\n",
        "- Multiply corresponding elements only (not matrix product)."
      ],
      "metadata": {
        "id": "qsUYUXVnliU8"
      }
    },
    {
      "cell_type": "code",
      "source": [
        "elemul=mat1*mat2\n",
        "print(\"Element-wise Multiplication:\\n\",elemul)"
      ],
      "metadata": {
        "colab": {
          "base_uri": "https://localhost:8080/"
        },
        "id": "CrRiS94XloI5",
        "outputId": "e7b535b9-c335-45ff-d568-ab3643e95cf2"
      },
      "execution_count": 11,
      "outputs": [
        {
          "output_type": "stream",
          "name": "stdout",
          "text": [
            "Element-wise Multiplication:\n",
            " [[ 5 12]\n",
            " [21 32]]\n"
          ]
        }
      ]
    },
    {
      "cell_type": "markdown",
      "source": [
        " 2.3 Matrix Multiplication (@ or np.dot)\n",
        "- Actual linear transformation, used in ML models.\n",
        "- Rows of A × columns of B\n"
      ],
      "metadata": {
        "id": "VYliZyn1l6qd"
      }
    },
    {
      "cell_type": "code",
      "source": [
        "mul=mat1@mat2\n",
        "mul2=np.dot(mat1,mat2)\n",
        "print(\"Matrix Multiplication:\\n\",mul)\n",
        "print(\"Matrix Multiplication:\\n\",mul2)"
      ],
      "metadata": {
        "colab": {
          "base_uri": "https://localhost:8080/"
        },
        "id": "6G7t9NermAVN",
        "outputId": "cdfc7f06-5d84-4376-f16c-837a1825a66b"
      },
      "execution_count": 12,
      "outputs": [
        {
          "output_type": "stream",
          "name": "stdout",
          "text": [
            "Matrix Multiplication:\n",
            " [[19 22]\n",
            " [43 50]]\n",
            "Matrix Multiplication:\n",
            " [[19 22]\n",
            " [43 50]]\n"
          ]
        }
      ]
    },
    {
      "cell_type": "markdown",
      "source": [
        " 2.4 Transpose of a Matrix\n",
        "- Rows become columns and vice versa.\n",
        "- Often used in vector projections, dot products, and backpropagation."
      ],
      "metadata": {
        "id": "sVl8BHHfmJNV"
      }
    },
    {
      "cell_type": "code",
      "source": [
        "Trans1=mat1.T\n",
        "Trans2=mat2.T\n",
        "print(\"Transpose of 1st matrix:\\n\",Trans1)\n",
        "print(\"Transpose of 2nd matrix:\\n\",Trans2)"
      ],
      "metadata": {
        "colab": {
          "base_uri": "https://localhost:8080/"
        },
        "id": "lAerRNBhmNxC",
        "outputId": "0add0f0a-12b5-4ace-c567-38415577e778"
      },
      "execution_count": 13,
      "outputs": [
        {
          "output_type": "stream",
          "name": "stdout",
          "text": [
            "Transpose of 1st matrix:\n",
            " [[1 3]\n",
            " [2 4]]\n",
            "Transpose of 2nd matrix:\n",
            " [[5 7]\n",
            " [6 8]]\n"
          ]
        }
      ]
    },
    {
      "cell_type": "markdown",
      "source": [
        "2.5 Identity Matrix\n",
        "- Square matrix with 1s on the diagonal, 0s elsewhere.\n",
        "- A @ I = A"
      ],
      "metadata": {
        "id": "hcLEBwJdmcms"
      }
    },
    {
      "cell_type": "code",
      "source": [
        "iden=np.eye(2)\n",
        "print(\"Identity matrix:\\n\",iden)\n",
        "print(\"matrix @ I =\\n\", mat1 @ iden)"
      ],
      "metadata": {
        "colab": {
          "base_uri": "https://localhost:8080/"
        },
        "id": "L0Yo9M7Pmewg",
        "outputId": "9d307b14-8c9f-4251-86c7-54fba583ae3e"
      },
      "execution_count": 16,
      "outputs": [
        {
          "output_type": "stream",
          "name": "stdout",
          "text": [
            "Identity matrix:\n",
            " [[1. 0.]\n",
            " [0. 1.]]\n",
            "matrix @ I =\n",
            " [[1. 2.]\n",
            " [3. 4.]]\n"
          ]
        }
      ]
    },
    {
      "cell_type": "markdown",
      "source": [
        " 2.6 Inverse of a Matrix\n",
        "- Only possible for square matrices with non-zero determinant.\n",
        "- Used to solve linear systems and in optimization problems.\n"
      ],
      "metadata": {
        "id": "1_9C_w0sm6EY"
      }
    },
    {
      "cell_type": "code",
      "source": [
        "mat1_inv = np.linalg.inv(mat1)\n",
        "print(\"Inverse of A:\\n\", mat1_inv)\n",
        "\n",
        "# Checking mat1 * mat1_inv = I\n",
        "print(\"mat1 @ mat1_inv =\\n\", mat1 @ mat1_inv)"
      ],
      "metadata": {
        "colab": {
          "base_uri": "https://localhost:8080/"
        },
        "id": "6yZXUsX5m8o5",
        "outputId": "f205ba92-385f-46f5-8e6c-003c799c71aa"
      },
      "execution_count": 17,
      "outputs": [
        {
          "output_type": "stream",
          "name": "stdout",
          "text": [
            "Inverse of A:\n",
            " [[-2.   1. ]\n",
            " [ 1.5 -0.5]]\n",
            "mat1 @ mat1_inv =\n",
            " [[1.0000000e+00 0.0000000e+00]\n",
            " [8.8817842e-16 1.0000000e+00]]\n"
          ]
        }
      ]
    },
    {
      "cell_type": "markdown",
      "source": [
        "#Section 3: Dot Product & Norms"
      ],
      "metadata": {
        "id": "dC3NCFKPnTEc"
      }
    },
    {
      "cell_type": "markdown",
      "source": [
        " 3.1 Dot Product of Vectors\n",
        "- The dot product of two vectors is the sum of the products of their corresponding components.\n",
        "- Gives a scalar.\n",
        "- Measures how much one vector “goes in the direction” of another."
      ],
      "metadata": {
        "id": "jK2jcqVfnWI-"
      }
    },
    {
      "cell_type": "code",
      "source": [
        "import numpy as np\n",
        "\n",
        "a = np.array([1, 2])\n",
        "b = np.array([3, 4])\n",
        "\n",
        "dot_product = np.dot(a, b)\n",
        "print(\"Dot product of a and b:\", dot_product)"
      ],
      "metadata": {
        "colab": {
          "base_uri": "https://localhost:8080/"
        },
        "id": "yG-HllwYnd46",
        "outputId": "56aa1af4-b73e-4c0a-a759-0d7408525a4f"
      },
      "execution_count": 18,
      "outputs": [
        {
          "output_type": "stream",
          "name": "stdout",
          "text": [
            "Dot product of a and b: 11\n"
          ]
        }
      ]
    },
    {
      "cell_type": "markdown",
      "source": [
        "3.2 Cosine Similarity\n",
        "- Use dot product to find angle between vectors.\n",
        "- Useful in NLP and recommendation systems to find similarity between embeddings."
      ],
      "metadata": {
        "id": "BQgp7Hw7nkJF"
      }
    },
    {
      "cell_type": "code",
      "source": [
        "cos_sim = np.dot(a, b) / (np.linalg.norm(a) * np.linalg.norm(b))\n",
        "print(\"Cosine similarity:\", cos_sim)"
      ],
      "metadata": {
        "colab": {
          "base_uri": "https://localhost:8080/"
        },
        "id": "MC5HeQMzno5S",
        "outputId": "24699113-2077-4843-b123-6e8755d9f11d"
      },
      "execution_count": 19,
      "outputs": [
        {
          "output_type": "stream",
          "name": "stdout",
          "text": [
            "Cosine similarity: 0.9838699100999074\n"
          ]
        }
      ]
    },
    {
      "cell_type": "markdown",
      "source": [
        " 3.3 Norms (Vector Magnitude)\n",
        "- The norm is the length or magnitude of a vector.\n",
        "- Common norms:\n",
        "   - L1 norm: sum of absolute values\n",
        "   - L2 norm (Euclidean norm): square root of sum of squares"
      ],
      "metadata": {
        "id": "57gemHp-nxcf"
      }
    },
    {
      "cell_type": "code",
      "source": [
        "print(\"L1 norm of a:\", np.linalg.norm(a, ord=1))\n",
        "print(\"L2 norm of a:\", np.linalg.norm(a))  # default is L2"
      ],
      "metadata": {
        "colab": {
          "base_uri": "https://localhost:8080/"
        },
        "id": "2g_JccxGn55I",
        "outputId": "fe78308e-1678-4b84-acdd-4733d666040b"
      },
      "execution_count": 20,
      "outputs": [
        {
          "output_type": "stream",
          "name": "stdout",
          "text": [
            "L1 norm of a: 3.0\n",
            "L2 norm of a: 2.23606797749979\n"
          ]
        }
      ]
    },
    {
      "cell_type": "markdown",
      "source": [
        "3.4 Unit Vector\n",
        "- A vector with length = 1.\n",
        "- Used to represent directions without affecting magnitude."
      ],
      "metadata": {
        "id": "jd6oouqXn-uo"
      }
    },
    {
      "cell_type": "code",
      "source": [
        "unit_v = a / np.linalg.norm(a)\n",
        "print(\"Unit vector of a:\", unit_v)"
      ],
      "metadata": {
        "colab": {
          "base_uri": "https://localhost:8080/"
        },
        "id": "Pj4PcOWYoDQV",
        "outputId": "4d80e18f-9b52-4514-a7da-b0e57141c881"
      },
      "execution_count": 22,
      "outputs": [
        {
          "output_type": "stream",
          "name": "stdout",
          "text": [
            "Unit vector of a: [0.4472136  0.89442719]\n"
          ]
        }
      ]
    },
    {
      "cell_type": "markdown",
      "source": [
        "#Section 4: Eigenvalues, Eigenvectors & Singular Value Decomposition (SVD)"
      ],
      "metadata": {
        "id": "MXoSQuG2oR4z"
      }
    },
    {
      "cell_type": "markdown",
      "source": [
        "4.1 What are Eigenvalues and Eigenvectors?\n",
        "- For a square matrix A, if:\n",
        "                  𝐴 ⋅ 𝑣 = 𝜆 ⋅ 𝑣\n",
        "    then v is an eigenvector, and λ is its corresponding eigenvalue.\n",
        "- Interpretation: When you apply matrix A to vector v, the direction of v doesn't change — it only gets scaled by λ.\n",
        "\n"
      ],
      "metadata": {
        "id": "OwMF-FKOoWBE"
      }
    },
    {
      "cell_type": "markdown",
      "source": [
        "4.2 Compute Eigenvalues & Eigenvectors"
      ],
      "metadata": {
        "id": "eSef2TkYowPA"
      }
    },
    {
      "cell_type": "code",
      "source": [
        "import numpy as np\n",
        "\n",
        "A = np.array([[4, 2], [1, 3]])\n",
        "eigenvalues, eigenvectors = np.linalg.eig(A)\n",
        "\n",
        "print(\"Eigenvalues:\\n\", eigenvalues)\n",
        "print(\"Eigenvectors:\\n\", eigenvectors)"
      ],
      "metadata": {
        "colab": {
          "base_uri": "https://localhost:8080/"
        },
        "id": "4WKrmrCvo0cX",
        "outputId": "13ee6bd0-f03f-403f-8650-da92325dead7"
      },
      "execution_count": 23,
      "outputs": [
        {
          "output_type": "stream",
          "name": "stdout",
          "text": [
            "Eigenvalues:\n",
            " [5. 2.]\n",
            "Eigenvectors:\n",
            " [[ 0.89442719 -0.70710678]\n",
            " [ 0.4472136   0.70710678]]\n"
          ]
        }
      ]
    },
    {
      "cell_type": "markdown",
      "source": [
        "4.3 Visual Meaning"
      ],
      "metadata": {
        "id": "mHETXivqo4Y0"
      }
    },
    {
      "cell_type": "code",
      "source": [
        "import matplotlib.pyplot as plt\n",
        "\n",
        "vec = eigenvectors[:, 0]\n",
        "Av = A @ vec\n",
        "\n",
        "plt.quiver(0, 0, vec[0], vec[1], angles='xy', scale_units='xy', scale=1, color='blue', label='v')\n",
        "plt.quiver(0, 0, Av[0], Av[1], angles='xy', scale_units='xy', scale=1, color='red', label='A·v')\n",
        "plt.xlim(-5, 5)\n",
        "plt.ylim(-5, 5)\n",
        "plt.axhline(0, color='gray')\n",
        "plt.axvline(0, color='gray')\n",
        "plt.gca().set_aspect('equal')\n",
        "plt.legend()\n",
        "plt.title(\"Eigenvector (v) and Transformed (A·v)\")\n",
        "plt.show()"
      ],
      "metadata": {
        "colab": {
          "base_uri": "https://localhost:8080/",
          "height": 452
        },
        "id": "IO0GOOI6o808",
        "outputId": "39d63dd4-abf4-49b2-9b55-18acc6267170"
      },
      "execution_count": 24,
      "outputs": [
        {
          "output_type": "display_data",
          "data": {
            "text/plain": [
              "<Figure size 640x480 with 1 Axes>"
            ],
            "image/png": "[encoded data removed]"
          },
          "metadata": {}
        }
      ]
    },
    {
      "cell_type": "markdown",
      "source": [
        "4.4 Singular Value Decomposition (SVD)\n",
        "- SVD generalizes eigendecomposition for any matrix (even non-square).\n",
        "- For matrix A:\n",
        "                   𝐴 = 𝑈 Σ 𝑉^𝑇\n",
        " Where:\n",
        "\n",
        "  - 𝑈 = Left singular vectors (eigenvectors of 𝐴.𝐴^𝑇)\n",
        "  - Σ = Diagonal matrix of singular values\n",
        "  - 𝑉^𝑇 = Right singular vectors (eigenvectors of  𝐴^𝑇.𝐴)"
      ],
      "metadata": {
        "id": "maa0kTnrpBT4"
      }
    },
    {
      "cell_type": "code",
      "source": [
        "A = np.array([[1, 2], [3, 4], [5, 6]])\n",
        "U, S, VT = np.linalg.svd(A)\n",
        "\n",
        "print(\"U (Left singular vectors):\\n\\n\", U)\n",
        "print(\"\\nSingular values (Sigma):\\n\", S)\n",
        "print(\"\\nV^T (Right singular vectors):\\n\", VT)"
      ],
      "metadata": {
        "colab": {
          "base_uri": "https://localhost:8080/"
        },
        "id": "XF6mwqxUpqXE",
        "outputId": "c989fd3e-7447-4163-9f3b-1fc0a0990523"
      },
      "execution_count": 29,
      "outputs": [
        {
          "output_type": "stream",
          "name": "stdout",
          "text": [
            "U (Left singular vectors):\n",
            "\n",
            " [[-0.2298477   0.88346102  0.40824829]\n",
            " [-0.52474482  0.24078249 -0.81649658]\n",
            " [-0.81964194 -0.40189603  0.40824829]]\n",
            "\n",
            "Singular values (Sigma):\n",
            " [9.52551809 0.51430058]\n",
            "\n",
            "V^T (Right singular vectors):\n",
            " [[-0.61962948 -0.78489445]\n",
            " [-0.78489445  0.61962948]]\n"
          ]
        }
      ]
    },
    {
      "cell_type": "markdown",
      "source": [
        "4.5 ML Application: Principal Component Analysis (PCA)\n",
        "- PCA uses SVD to reduce data dimensionality.\n",
        "- It finds directions (principal components) that capture the most variance."
      ],
      "metadata": {
        "id": "8PgMAa4YsLZj"
      }
    },
    {
      "cell_type": "code",
      "source": [
        "from sklearn.decomposition import PCA\n",
        "from sklearn.datasets import load_iris\n",
        "\n",
        "data = load_iris().data\n",
        "pca = PCA(n_components=2)\n",
        "reduced = pca.fit_transform(data)\n",
        "\n",
        "print(\"PCA Output:\\n\", reduced[:5])"
      ],
      "metadata": {
        "colab": {
          "base_uri": "https://localhost:8080/"
        },
        "id": "KDiJL_S7sUND",
        "outputId": "7903f72e-9bc4-4102-fca3-72c7f83e1ce5"
      },
      "execution_count": 30,
      "outputs": [
        {
          "output_type": "stream",
          "name": "stdout",
          "text": [
            "PCA Output:\n",
            " [[-2.68412563  0.31939725]\n",
            " [-2.71414169 -0.17700123]\n",
            " [-2.88899057 -0.14494943]\n",
            " [-2.74534286 -0.31829898]\n",
            " [-2.72871654  0.32675451]]\n"
          ]
        }
      ]
    },
    {
      "cell_type": "markdown",
      "source": [
        "#Section 5: Rank, Span, Basis & Linear Independence"
      ],
      "metadata": {
        "id": "2fPpGXylsaAX"
      }
    },
    {
      "cell_type": "markdown",
      "source": [
        "5.1 Span of Vectors\n",
        "- The span of a set of vectors is the set of all linear combinations of those vectors.\n",
        "- It tells you the space those vectors cover."
      ],
      "metadata": {
        "id": "xEFbe3ossghD"
      }
    },
    {
      "cell_type": "code",
      "source": [
        "import numpy as np\n",
        "\n",
        "v1 = np.array([1, 0])\n",
        "v2 = np.array([0, 1])\n",
        "\n",
        "# All combinations of v1 and v2 span R^2\n",
        "span_example = 2*v1 + 3*v2\n",
        "print(\"Example vector in span of v1 and v2:\", span_example)"
      ],
      "metadata": {
        "colab": {
          "base_uri": "https://localhost:8080/"
        },
        "id": "Dl8j6vSYsm2P",
        "outputId": "9a968c1f-c858-449d-cbc9-081e5e652b66"
      },
      "execution_count": 31,
      "outputs": [
        {
          "output_type": "stream",
          "name": "stdout",
          "text": [
            "Example vector in span of v1 and v2: [2 3]\n"
          ]
        }
      ]
    },
    {
      "cell_type": "markdown",
      "source": [
        "5.2 Linear Independence\n",
        "- A set of vectors is linearly independent if no vector in the set can be written as a linear combination of others.\n",
        "- Otherwise, they are dependent.\n",
        "- **If rank < number of vectors ⇒ linearly dependent**"
      ],
      "metadata": {
        "id": "fBPdtAicsre0"
      }
    },
    {
      "cell_type": "code",
      "source": [
        "# Linear dependence check using determinant\n",
        "A = np.array([[1, 2], [2, 4]])  # Rows are linearly dependent\n",
        "rank = np.linalg.matrix_rank(A)\n",
        "print(\"Rank of matrix A:\", rank)"
      ],
      "metadata": {
        "colab": {
          "base_uri": "https://localhost:8080/"
        },
        "id": "s5VV1VHvsuwA",
        "outputId": "b7a0dae1-a4ea-4ddc-ffc5-47c9145375c3"
      },
      "execution_count": 32,
      "outputs": [
        {
          "output_type": "stream",
          "name": "stdout",
          "text": [
            "Rank of matrix A: 1\n"
          ]
        }
      ]
    },
    {
      "cell_type": "markdown",
      "source": [
        "5.3 Basis\n",
        "- A basis is a set of linearly independent vectors that span a space.\n",
        "- Every vector in the space can be uniquely represented using a basis."
      ],
      "metadata": {
        "id": "rP68mIhLs36J"
      }
    },
    {
      "cell_type": "code",
      "source": [
        "# Standard basis for R^2\n",
        "e1 = np.array([1, 0])\n",
        "e2 = np.array([0, 1])"
      ],
      "metadata": {
        "id": "QkgPMsk1s9S_"
      },
      "execution_count": 33,
      "outputs": []
    },
    {
      "cell_type": "markdown",
      "source": [
        "5.4 Rank of a Matrix\n",
        "- The rank is the maximum number of linearly independent rows or columns in a matrix.\n",
        "- It tells us the dimension of the output space of a linear transformation."
      ],
      "metadata": {
        "id": "uD51F1EutBXQ"
      }
    },
    {
      "cell_type": "code",
      "source": [
        "A = np.array([[1, 2], [3, 4], [5, 6]])\n",
        "print(\"Rank of matrix A:\", np.linalg.matrix_rank(A))"
      ],
      "metadata": {
        "colab": {
          "base_uri": "https://localhost:8080/"
        },
        "id": "msw1jqQ2tECw",
        "outputId": "839988b3-49fe-46f9-b458-9ee6698c7578"
      },
      "execution_count": 34,
      "outputs": [
        {
          "output_type": "stream",
          "name": "stdout",
          "text": [
            "Rank of matrix A: 2\n"
          ]
        }
      ]
    },
    {
      "cell_type": "markdown",
      "source": [
        " 5.5 Nullity (Optional)\n",
        "- Nullity is the dimension of the null space (solutions to 𝐴𝑥 = 0).\n",
        "- Rank-Nullity Theorem\n",
        "  - Rank + Nullity = No.of Columns in the matrix"
      ],
      "metadata": {
        "id": "N8b3On45tIhX"
      }
    },
    {
      "cell_type": "code",
      "source": [
        "from scipy.linalg import null_space\n",
        "\n",
        "nullspace = null_space(A)\n",
        "print(\"Null space of A:\\n\", nullspace)"
      ],
      "metadata": {
        "colab": {
          "base_uri": "https://localhost:8080/"
        },
        "id": "Gq8OUZ_utZmw",
        "outputId": "806d098e-8f47-4953-ef21-11475f4acc51"
      },
      "execution_count": 35,
      "outputs": [
        {
          "output_type": "stream",
          "name": "stdout",
          "text": [
            "Null space of A:\n",
            " []\n"
          ]
        }
      ]
    },
    {
      "cell_type": "markdown",
      "source": [
        "# PCA From Scratch"
      ],
      "metadata": {
        "id": "lfdEZ-K-t75P"
      }
    },
    {
      "cell_type": "markdown",
      "source": [
        "Steps:\n",
        "- Center the data\n",
        "- Compute covariance matrix\n",
        "- Compute eigenvectors/values\n",
        "- Select top-k eigenvectors\n",
        "- Project data"
      ],
      "metadata": {
        "id": "AqaOFTs_u42z"
      }
    },
    {
      "cell_type": "code",
      "source": [
        "#Necessary libraries\n",
        "import numpy as np\n",
        "import matplotlib.pyplot as plt"
      ],
      "metadata": {
        "id": "1bRDaPS6t-pi"
      },
      "execution_count": 36,
      "outputs": []
    },
    {
      "cell_type": "code",
      "source": [
        "# Step 1: Simulating high-dimensional data\n",
        "np.random.seed(42)\n",
        "X = np.random.randn(100, 3) * [3, 1, 0.5] + [5, 10, 15]"
      ],
      "metadata": {
        "id": "rpzq1zTOuH__"
      },
      "execution_count": 37,
      "outputs": []
    },
    {
      "cell_type": "code",
      "source": [
        "# Step 2: Center the data\n",
        "X_meaned = X - np.mean(X, axis=0)"
      ],
      "metadata": {
        "id": "Vw1jloK1uUtj"
      },
      "execution_count": 38,
      "outputs": []
    },
    {
      "cell_type": "code",
      "source": [
        "# Step 3: Compute the covariance matrix\n",
        "cov_matrix = np.cov(X_meaned, rowvar=False)"
      ],
      "metadata": {
        "id": "Mz4UcGMZuWOb"
      },
      "execution_count": 39,
      "outputs": []
    },
    {
      "cell_type": "code",
      "source": [
        "# Step 4: Eigen decomposition\n",
        "eigen_values, eigen_vectors = np.linalg.eigh(cov_matrix)"
      ],
      "metadata": {
        "id": "mRiWLlh5urxk"
      },
      "execution_count": 40,
      "outputs": []
    },
    {
      "cell_type": "code",
      "source": [
        "# Step 5: Sort eigenvectors by eigenvalues\n",
        "sorted_indices = np.argsort(eigen_values)[::-1]\n",
        "eigen_vectors = eigen_vectors[:, sorted_indices]"
      ],
      "metadata": {
        "id": "ZHzG70N1vBK7"
      },
      "execution_count": 41,
      "outputs": []
    },
    {
      "cell_type": "code",
      "source": [
        "# Step 6: Project the data\n",
        "k = 2  # reduced to 2D\n",
        "W = eigen_vectors[:, :k]\n",
        "X_pca = X_meaned @ W"
      ],
      "metadata": {
        "id": "SHyxRNL7vHSX"
      },
      "execution_count": 43,
      "outputs": []
    },
    {
      "cell_type": "code",
      "source": [
        "# Step 7: Visualize\n",
        "plt.scatter(X_pca[:, 0], X_pca[:, 1])\n",
        "plt.title(\"PCA Projection (2D)\")\n",
        "plt.xlabel(\"PC1\")\n",
        "plt.ylabel(\"PC2\")\n",
        "plt.grid(True)\n",
        "plt.show()"
      ],
      "metadata": {
        "colab": {
          "base_uri": "https://localhost:8080/",
          "height": 472
        },
        "id": "_LSIJIuovMJz",
        "outputId": "65169dc1-fcc2-4786-a546-6b50abf1d6a7"
      },
      "execution_count": 44,
      "outputs": [
        {
          "output_type": "display_data",
          "data": {
            "text/plain": [
              "<Figure size 640x480 with 1 Axes>"
            ],
            "image/png": "[encoded data removed]"
          },
          "metadata": {}
        }
      ]
    },
    {
      "cell_type": "markdown",
      "source": [
        "#Solve Linear Regression (Normal Equation) from Scratch"
      ],
      "metadata": {
        "id": "lvVRVyLbvZl7"
      }
    },
    {
      "cell_type": "markdown",
      "source": [
        "\"Linear Regression via Normal Equation — Matrix solution using closed-form least squares.\""
      ],
      "metadata": {
        "id": "fy5rdOeLvbcQ"
      }
    },
    {
      "cell_type": "code",
      "source": [
        "# Generate toy data\n",
        "np.random.seed(0)\n",
        "X = 2 * np.random.rand(100, 1)\n",
        "y = 4 + 3 * X + np.random.randn(100, 1)"
      ],
      "metadata": {
        "id": "0dMwi1glvg8D"
      },
      "execution_count": 45,
      "outputs": []
    },
    {
      "cell_type": "code",
      "source": [
        "# Add bias term to X\n",
        "X_b = np.c_[np.ones((100, 1)), X]  # shape = (100, 2)"
      ],
      "metadata": {
        "id": "pLxLEDzYvoZx"
      },
      "execution_count": 46,
      "outputs": []
    },
    {
      "cell_type": "code",
      "source": [
        "# Normal equation: θ = (XᵀX)⁻¹Xᵀy\n",
        "theta_best = np.linalg.inv(X_b.T @ X_b) @ X_b.T @ y\n",
        "print(\"Estimated parameters:\", theta_best.ravel())"
      ],
      "metadata": {
        "colab": {
          "base_uri": "https://localhost:8080/"
        },
        "id": "4gZuR_Hkvq-e",
        "outputId": "0b5f4816-3353-4500-87b5-4ee5782f8ce4"
      },
      "execution_count": 47,
      "outputs": [
        {
          "output_type": "stream",
          "name": "stdout",
          "text": [
            "Estimated parameters: [4.22215108 2.96846751]\n"
          ]
        }
      ]
    },
    {
      "cell_type": "markdown",
      "source": [
        "#Manual Matrix Rank Calculation via Row Reduction"
      ],
      "metadata": {
        "id": "N0NuKBESvugI"
      }
    },
    {
      "cell_type": "markdown",
      "source": [
        "\"Manual Rank Calculation — Gaussian elimination using NumPy to estimate rank.\""
      ],
      "metadata": {
        "id": "qTA3-3sDv_Y7"
      }
    },
    {
      "cell_type": "code",
      "source": [
        "def row_reduce(A):\n",
        "    A = A.astype(float)\n",
        "    rows, cols = A.shape\n",
        "    r = 0\n",
        "    for c in range(cols):\n",
        "        pivot = None\n",
        "        for i in range(r, rows):\n",
        "            if A[i, c] != 0:\n",
        "                pivot = i\n",
        "                break\n",
        "        if pivot is None:\n",
        "            continue\n",
        "        A[[r, pivot]] = A[[pivot, r]]\n",
        "        A[r] = A[r] / A[r, c]\n",
        "        for i in range(rows):\n",
        "            if i != r:\n",
        "                A[i] = A[i] - A[i, c] * A[r]\n",
        "        r += 1\n",
        "    return A"
      ],
      "metadata": {
        "id": "ROYko93NvzzZ"
      },
      "execution_count": 48,
      "outputs": []
    },
    {
      "cell_type": "code",
      "source": [
        "A = np.array([[1, 2, 3], [2, 4, 6], [1, 1, 1]])\n",
        "reduced_A = row_reduce(A)\n",
        "rank = np.sum(np.any(reduced_A != 0, axis=1))\n",
        "print(\"Manual Rank:\", rank)"
      ],
      "metadata": {
        "colab": {
          "base_uri": "https://localhost:8080/"
        },
        "id": "wfX2UQ47v4kX",
        "outputId": "6a16d3d9-2da4-4f3f-8c07-2badddb44c3b"
      },
      "execution_count": 49,
      "outputs": [
        {
          "output_type": "stream",
          "name": "stdout",
          "text": [
            "Manual Rank: 2\n"
          ]
        }
      ]
    },
    {
      "cell_type": "markdown",
      "source": [
        "#Final Summary: Linear Algebra for AI/ML\n",
        "\n",
        "This notebook explored core Linear Algebra concepts essential for understanding and implementing machine learning algorithms. We connected theory to code through both NumPy-based operations and manual \"from scratch\" implementations.\n",
        "\n",
        "---\n",
        "\n",
        "### 📌 **Key Concepts Covered**\n",
        "\n",
        "* **Vectors, Matrices, and Tensors**: Foundations of data representation.\n",
        "* **Matrix Operations**: Addition, multiplication, transpose, inverse.\n",
        "* **Linear Systems**: Solving using matrix inversion and Gaussian elimination.\n",
        "* **Vector Spaces**: Span, basis, dimension, linear independence.\n",
        "* **Projections & Special Matrices**: Orthogonal, idempotent, and partitioned matrices.\n",
        "* **Eigenvalues & Eigenvectors**: Diagonalization, transformation directions.\n",
        "* **SVD (Singular Value Decomposition)**: Matrix factorization and dimensionality reduction.\n",
        "* **Rank, Nullity, and Solutions**: Understanding matrix structure and feature redundancy.\n",
        "\n",
        "---\n",
        "\n",
        "### 🔬 **From-Scratch ML Implementations**\n",
        "\n",
        "* ✅ **PCA from scratch** (covariance matrix → eigendecomposition → projection)\n",
        "* ✅ **Linear Regression (Normal Equation)** using matrix algebra\n",
        "* ✅ **Manual Matrix Rank** estimation via row reduction (Gaussian elimination)\n",
        "\n",
        "---\n",
        "\n",
        "### 🤖 **Applications to Machine Learning**\n",
        "\n",
        "* **PCA** → Dimensionality reduction & feature transformation\n",
        "* **Linear Regression** → Parameter estimation via closed-form solution\n",
        "* **Vector spaces** → Feature relationships & encoding\n",
        "* **Matrix factorization (SVD)** → Data compression and recommendation systems\n",
        "* **Projection matrices** → Orthogonal projections in optimization and regression\n",
        "\n",
        "---\n"
      ],
      "metadata": {
        "id": "6m9bJtdawLtk"
      }
    }
  ]
}