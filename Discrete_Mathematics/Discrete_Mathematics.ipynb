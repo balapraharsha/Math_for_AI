{
  "nbformat": 4,
  "nbformat_minor": 0,
  "metadata": {
    "colab": {
      "provenance": []
    },
    "kernelspec": {
      "name": "python3",
      "display_name": "Python 3"
    },
    "language_info": {
      "name": "python"
    }
  },
  "cells": [
    {
      "cell_type": "markdown",
      "source": [
        "#Section 1️: Introduction to Discrete Mathematics\n"
      ],
      "metadata": {
        "id": "StBSl8spSLtu"
      }
    },
    {
      "cell_type": "markdown",
      "source": [
        "##1.1 What is Discrete Mathematics?\n",
        "Discrete Mathematics is the branch of mathematics that deals with discrete and distinct objects, rather than continuous ones. It focuses on countable, separated values and structures such as:\n",
        "- Integers\n",
        "- Graphs\n",
        "- Logical statements\n",
        "- Finite sets and operations on them\n",
        "\n",
        "Unlike calculus or real analysis which deal with continuous change, discrete math explores things you can count—objects, events, and logical decisions.\n",
        "\n"
      ],
      "metadata": {
        "id": "V_UiJvr3SNzB"
      }
    },
    {
      "cell_type": "markdown",
      "source": [
        "Examples of Discrete Structures:\n",
        "- A graph with nodes and edges\n",
        "- A truth table for logical expressions\n",
        "- A set of distinct integers\n",
        "- A finite state machine (used in computer science)\n",
        "\n"
      ],
      "metadata": {
        "id": "Uga5V7E1SgqV"
      }
    },
    {
      "cell_type": "markdown",
      "source": [
        "##1.2 Importance and Applications of Discrete Mathematics\n",
        "Discrete Mathematics is foundational in computer science and plays a major role in many areas of software development, data science, and artificial intelligence.\n",
        "\n",
        "| Domain                  | Role of Discrete Mathematics                     |\n",
        "| ----------------------- | ------------------------------------------------ |\n",
        "| Algorithms              | Design and analysis using recurrence, logic      |\n",
        "| Programming Languages   | Syntax trees and logic-based interpretation      |\n",
        "| Cryptography            | Number theory, combinatorics, modular arithmetic |\n",
        "| Databases               | Set theory, relational algebra                   |\n",
        "| Computer Networks       | Graph theory for routing algorithms              |\n",
        "| Artificial Intelligence | Knowledge representation, propositional logic    |\n",
        "| Machine Learning        | Graphs, optimization, decision trees             |\n"
      ],
      "metadata": {
        "id": "CShTvv27SnwZ"
      }
    },
    {
      "cell_type": "markdown",
      "source": [
        "Real-World Examples:\n",
        "- Google Search: Uses graph theory to rank websites (PageRank)\n",
        "- Digital Circuits: Designed using Boolean algebra\n",
        "- Spam Filters: Use logical inference and pattern detection\n",
        "- AI Planning Systems: Use propositional and predicate logic\n",
        "- Recommendation Engines: Use set operations and discrete probability\n",
        "\n"
      ],
      "metadata": {
        "id": "rjMUKl8bSv_d"
      }
    },
    {
      "cell_type": "code",
      "source": [
        "# Continuous data: can take any value in a range\n",
        "temperature = 98.6\n",
        "\n",
        "# Discrete data: limited to distinct values\n",
        "students = 30\n",
        "\n",
        "print(\"Temperature (Continuous):\", temperature)\n",
        "print(\"Number of Students (Discrete):\", students)"
      ],
      "metadata": {
        "colab": {
          "base_uri": "https://localhost:8080/"
        },
        "id": "e4PVWmAbS1sk",
        "outputId": "9f801316-6a9c-48c8-8a8a-8e01dd07943b"
      },
      "execution_count": 1,
      "outputs": [
        {
          "output_type": "stream",
          "name": "stdout",
          "text": [
            "Temperature (Continuous): 98.6\n",
            "Number of Students (Discrete): 30\n"
          ]
        }
      ]
    },
    {
      "cell_type": "markdown",
      "source": [
        "#Section 2: Set Theory and Operations\n"
      ],
      "metadata": {
        "id": "pIIdb4aKTQO5"
      }
    },
    {
      "cell_type": "markdown",
      "source": [
        "##2.1 Introduction to Sets\n",
        "- A set is a well-defined collection of distinct elements. Sets are usually denoted using curly braces {} and elements are separated by commas.\n",
        "- Example:\n",
        "  - A = {1, 2, 3}\n",
        "  - B = {2, 4, 6}"
      ],
      "metadata": {
        "id": "MqZn6U6VTRdF"
      }
    },
    {
      "cell_type": "code",
      "source": [
        "# Creating sets\n",
        "A = {1, 2, 3}\n",
        "B = {2, 4, 6}\n",
        "\n",
        "print(\"Set A:\", A)\n",
        "print(\"Set B:\", B)\n",
        "print(\"Cardinality of A:\", len(A))\n",
        "print(\"Is 2 in A?\", 2 in A)"
      ],
      "metadata": {
        "colab": {
          "base_uri": "https://localhost:8080/"
        },
        "id": "We2u5IfvUDTh",
        "outputId": "c6abdcf2-10d3-4707-c048-42dafee5b58f"
      },
      "execution_count": 2,
      "outputs": [
        {
          "output_type": "stream",
          "name": "stdout",
          "text": [
            "Set A: {1, 2, 3}\n",
            "Set B: {2, 4, 6}\n",
            "Cardinality of A: 3\n",
            "Is 2 in A? True\n"
          ]
        }
      ]
    },
    {
      "cell_type": "markdown",
      "source": [
        "##2.2 Basic Terminology\n",
        "\n",
        "| Term              | Meaning                                 |\n",
        "| ----------------- | --------------------------------------- |\n",
        "| Element           | A member of the set                     |\n",
        "| Cardinality       | Number of elements in a set             |\n",
        "| Subset            | All elements of A are in B (`A ⊆ B`)    |\n",
        "| Superset          | All elements of B are in A (`A ⊇ B`)    |\n",
        "| Universal Set (U) | Set containing all elements under study |\n",
        "| Empty Set (∅)     | Set with no elements                    |\n"
      ],
      "metadata": {
        "id": "IetFLDSRTcw5"
      }
    },
    {
      "cell_type": "markdown",
      "source": [
        "##2.3 Set Representation and Types\n",
        "- Roster Form: Listing all elements explicitly, e.g. A = {1, 2, 3}\n",
        "- Set-builder Form: Describing the property of elements, e.g. A = {x | x < 5, x ∈ ℕ}\n",
        "\n",
        "Types of Sets:\n",
        "  - Finite Set: Has a finite number of elements\n",
        "  - Infinite Set: Has an infinite number of elements\n",
        "  - Equal Sets: Two sets with identical elements\n",
        "  - Disjoint Sets: No elements in common\n",
        "\n"
      ],
      "metadata": {
        "id": "famMu6zDThMY"
      }
    },
    {
      "cell_type": "code",
      "source": [
        "# Roster Form\n",
        "A = {1, 2, 3, 4, 5}\n",
        "print(\"Roster form A:\", A)\n",
        "\n",
        "# Set-builder (e.g., all even numbers less than 10)\n",
        "B = {x for x in range(10) if x % 2 == 0}\n",
        "print(\"Set-builder form B:\", B)"
      ],
      "metadata": {
        "colab": {
          "base_uri": "https://localhost:8080/"
        },
        "id": "nde0eq9aUIha",
        "outputId": "bad6ead8-7d95-4198-c15b-b214ab40410a"
      },
      "execution_count": 3,
      "outputs": [
        {
          "output_type": "stream",
          "name": "stdout",
          "text": [
            "Roster form A: {1, 2, 3, 4, 5}\n",
            "Set-builder form B: {0, 2, 4, 6, 8}\n"
          ]
        }
      ]
    },
    {
      "cell_type": "code",
      "source": [
        "# Finite Set\n",
        "finite_set = {1, 2, 3}\n",
        "\n",
        "# Infinite Set (simulated by generators)\n",
        "def infinite_even():\n",
        "    n = 0\n",
        "    while True:\n",
        "        yield n\n",
        "        n += 2\n",
        "\n",
        "# Disjoint Sets\n",
        "A = {1, 2}\n",
        "B = {3, 4}\n",
        "print(\"Are A and B disjoint?\", A.isdisjoint(B))"
      ],
      "metadata": {
        "colab": {
          "base_uri": "https://localhost:8080/"
        },
        "id": "kB9GJXeDUMB0",
        "outputId": "b56c3519-6292-4d72-974b-aa33ff614840"
      },
      "execution_count": 4,
      "outputs": [
        {
          "output_type": "stream",
          "name": "stdout",
          "text": [
            "Are A and B disjoint? True\n"
          ]
        }
      ]
    },
    {
      "cell_type": "markdown",
      "source": [
        "##2.4 Set Operations\n",
        "Let A = {1, 2, 3} and B = {3, 4, 5}\n",
        "\n",
        "| Operation       | Symbol  | Result                                       |\n",
        "| --------------- | ------- | -------------------------------------------- |\n",
        "| Union           | `A ∪ B` | `{1, 2, 3, 4, 5}`                            |\n",
        "| Intersection    | `A ∩ B` | `{3}`                                        |\n",
        "| Difference      | `A - B` | `{1, 2}`                                     |\n",
        "| Complement      | `A'`    | All elements not in A (w\\.r.t universal set) |\n",
        "| Symmetric Diff. | `A Δ B` | `{1, 2, 4, 5}`                               |\n"
      ],
      "metadata": {
        "id": "FSqhK0PzTu-i"
      }
    },
    {
      "cell_type": "code",
      "source": [
        "A = {1, 2, 3}\n",
        "B = {3, 4, 5}\n",
        "U = set(range(1, 7))  # Universal Set\n",
        "\n",
        "# Union\n",
        "print(\"A ∪ B:\", A.union(B))\n",
        "\n",
        "# Intersection\n",
        "print(\"A ∩ B:\", A.intersection(B))\n",
        "\n",
        "# Difference\n",
        "print(\"A - B:\", A.difference(B))\n",
        "print(\"B - A:\", B.difference(A))\n",
        "\n",
        "# Symmetric Difference\n",
        "print(\"A Δ B:\", A.symmetric_difference(B))\n",
        "\n",
        "# Complement of A with respect to Universal Set\n",
        "print(\"A' (complement):\", U - A)"
      ],
      "metadata": {
        "colab": {
          "base_uri": "https://localhost:8080/"
        },
        "id": "l7m5HFD_UZtx",
        "outputId": "9b58c502-fb04-451d-b37e-d4a55e5961f9"
      },
      "execution_count": 5,
      "outputs": [
        {
          "output_type": "stream",
          "name": "stdout",
          "text": [
            "A ∪ B: {1, 2, 3, 4, 5}\n",
            "A ∩ B: {3}\n",
            "A - B: {1, 2}\n",
            "B - A: {4, 5}\n",
            "A Δ B: {1, 2, 4, 5}\n",
            "A' (complement): {4, 5, 6}\n"
          ]
        }
      ]
    },
    {
      "cell_type": "markdown",
      "source": [
        "2.4 Venn Diagram Insights\n",
        "- Venn diagrams are visual representations of set operations:\n",
        "  - Union: All regions covered by A or B\n",
        "  - Intersection: Overlapping region\n",
        "  - Difference: Region only in one set"
      ],
      "metadata": {
        "id": "ihts-P-pT7fv"
      }
    },
    {
      "cell_type": "code",
      "source": [
        "from matplotlib import pyplot as plt\n",
        "from matplotlib_venn import venn2\n",
        "\n",
        "A = {1, 2, 3}\n",
        "B = {3, 4, 5}\n",
        "\n",
        "venn2([A, B], set_labels=('A', 'B'))\n",
        "plt.title(\"Venn Diagram: A and B\")\n",
        "plt.show()"
      ],
      "metadata": {
        "colab": {
          "base_uri": "https://localhost:8080/",
          "height": 401
        },
        "id": "ONzDEhanUezS",
        "outputId": "cb96582d-5c8f-428e-8944-56c747168a25"
      },
      "execution_count": 6,
      "outputs": [
        {
          "output_type": "display_data",
          "data": {
            "text/plain": [
              "<Figure size 640x480 with 1 Axes>"
            ],
            "image/png": "[encoded data removed]"
          },
          "metadata": {}
        }
      ]
    },
    {
      "cell_type": "markdown",
      "source": [
        "##2.5 Properties of Set Operations"
      ],
      "metadata": {
        "id": "HiIDHbSkUhr5"
      }
    },
    {
      "cell_type": "markdown",
      "source": [
        "###Commutative Property\n",
        "\n",
        "- Union\n",
        "$$\n",
        "A \\cup B = B \\cup A \\quad\n",
        "$$\n",
        "\n",
        "- Intersection\n",
        "$$\n",
        "A \\cap B = B \\cap A \\quad\n",
        "$$"
      ],
      "metadata": {
        "id": "1Og8Kt2uUj43"
      }
    },
    {
      "cell_type": "code",
      "source": [
        "A = {1, 2, 3}\n",
        "B = {3, 4, 5}\n",
        "print(\"A ∪ B == B ∪ A:\", A.union(B) == B.union(A))\n",
        "print(\"A ∩ B == B ∩ A:\", A.intersection(B) == B.intersection(A))"
      ],
      "metadata": {
        "colab": {
          "base_uri": "https://localhost:8080/"
        },
        "id": "QyOTsqp1UnY0",
        "outputId": "2657e4a0-1a39-4b4e-cfc4-408e656aaaca"
      },
      "execution_count": 7,
      "outputs": [
        {
          "output_type": "stream",
          "name": "stdout",
          "text": [
            "A ∪ B == B ∪ A: True\n",
            "A ∩ B == B ∩ A: True\n"
          ]
        }
      ]
    },
    {
      "cell_type": "markdown",
      "source": [
        "###Associative Property\n",
        "\n",
        "- Union\n",
        "$$\n",
        "A \\cup (B \\cup C) = (A \\cup B) \\cup C\n",
        "$$\n",
        "\n",
        "- Intersection\n",
        "$$\n",
        "A \\cap (B \\cap C) = (A \\cap B) \\cap C\n",
        "$$"
      ],
      "metadata": {
        "id": "ZIZnXYDPUpzB"
      }
    },
    {
      "cell_type": "code",
      "source": [
        "A = {1, 2}\n",
        "B = {2, 3}\n",
        "C = {3, 4}\n",
        "\n",
        "print(\"A ∪ (B ∪ C) == (A ∪ B) ∪ C:\", A.union(B.union(C)) == (A.union(B)).union(C))\n",
        "print(\"A ∩ (B ∩ C) == (A ∩ B) ∩ C:\", A.intersection(B.intersection(C)) == (A.intersection(B)).intersection(C))"
      ],
      "metadata": {
        "colab": {
          "base_uri": "https://localhost:8080/"
        },
        "id": "BRCqPNllUuZf",
        "outputId": "f533a9d2-1116-4073-8880-5f7600807933"
      },
      "execution_count": 12,
      "outputs": [
        {
          "output_type": "stream",
          "name": "stdout",
          "text": [
            "A ∪ (B ∪ C) == (A ∪ B) ∪ C: True\n",
            "A ∩ (B ∩ C) == (A ∩ B) ∩ C: True\n"
          ]
        }
      ]
    },
    {
      "cell_type": "markdown",
      "source": [
        "###Distributive Property\n",
        "\n",
        "$$\n",
        "A \\cup (B \\cap C) = (A \\cup B) \\cap (A \\cup C)\n",
        "$$\n",
        "$$\n",
        "A \\cap (B \\cup C) = (A \\cap B) \\cup (A \\cap C)\n",
        "$$"
      ],
      "metadata": {
        "id": "DEQwRXi5UweR"
      }
    },
    {
      "cell_type": "code",
      "source": [
        "A = {1, 2}\n",
        "B = {2, 3}\n",
        "C = {3, 4}\n",
        "\n",
        "left1 = A.union(B.intersection(C))\n",
        "right1 = A.union(B).intersection(A.union(C))\n",
        "print(\"A ∪ (B ∩ C) == (A ∪ B) ∩ (A ∪ C):\", left1 == right1)\n",
        "\n",
        "left2 = A.intersection(B.union(C))\n",
        "right2 = A.intersection(B).union(A.intersection(C))\n",
        "print(\"A ∩ (B ∪ C) == (A ∩ B) ∪ (A ∩ C):\", left2 == right2)"
      ],
      "metadata": {
        "colab": {
          "base_uri": "https://localhost:8080/"
        },
        "id": "xWdT8RPNU1Bl",
        "outputId": "cbcf7345-332d-4238-b46c-d649abe680b3"
      },
      "execution_count": 13,
      "outputs": [
        {
          "output_type": "stream",
          "name": "stdout",
          "text": [
            "A ∪ (B ∩ C) == (A ∪ B) ∩ (A ∪ C): True\n",
            "A ∩ (B ∪ C) == (A ∩ B) ∪ (A ∩ C): True\n"
          ]
        }
      ]
    },
    {
      "cell_type": "markdown",
      "source": [
        "### Identity Laws\n",
        "\n",
        "$$\n",
        "A \\cup \\emptyset = A\n",
        "$$\n",
        "$$\n",
        "A \\cap U = A\n",
        "$$"
      ],
      "metadata": {
        "id": "lYw-xGJwWHKi"
      }
    },
    {
      "cell_type": "code",
      "source": [
        "A = {1, 2, 3}\n",
        "empty_set = set()\n",
        "universal_set = {1, 2, 3, 4, 5}\n",
        "\n",
        "print(\"A ∪ ∅ == A:\", A.union(empty_set) == A)\n",
        "print(\"A ∩ U == A:\", A.intersection(universal_set) == A)"
      ],
      "metadata": {
        "colab": {
          "base_uri": "https://localhost:8080/"
        },
        "id": "5LX2QEhvWR5x",
        "outputId": "c29e0b3f-02b9-4678-c64e-e1caaf6f1544"
      },
      "execution_count": 14,
      "outputs": [
        {
          "output_type": "stream",
          "name": "stdout",
          "text": [
            "A ∪ ∅ == A: True\n",
            "A ∩ U == A: True\n"
          ]
        }
      ]
    },
    {
      "cell_type": "markdown",
      "source": [
        "### Domination Laws\n",
        "$$\n",
        "A \\cup U = U\n",
        "$$\n",
        "$$\n",
        "A \\cap \\emptyset = \\emptyset\n",
        "$$"
      ],
      "metadata": {
        "id": "a-ZongovWatK"
      }
    },
    {
      "cell_type": "code",
      "source": [
        "A = {1, 2}\n",
        "U = {1, 2, 3, 4}\n",
        "empty = set()\n",
        "\n",
        "print(\"A ∪ U == U:\", A.union(U) == U)\n",
        "print(\"A ∩ ∅ == ∅:\", A.intersection(empty) == empty)"
      ],
      "metadata": {
        "colab": {
          "base_uri": "https://localhost:8080/"
        },
        "id": "MYiAKj13WcmW",
        "outputId": "782544ee-9157-4637-9d7b-7240da8ea2e4"
      },
      "execution_count": 15,
      "outputs": [
        {
          "output_type": "stream",
          "name": "stdout",
          "text": [
            "A ∪ U == U: True\n",
            "A ∩ ∅ == ∅: True\n"
          ]
        }
      ]
    },
    {
      "cell_type": "markdown",
      "source": [
        "### Idempotent Laws\n",
        "$$\n",
        "A \\cup A = A\n",
        "$$\n",
        "$$\n",
        "A \\cap A = A\n",
        "$$"
      ],
      "metadata": {
        "id": "s9KVCMWwWiWy"
      }
    },
    {
      "cell_type": "code",
      "source": [
        "A = {1, 2, 3}\n",
        "\n",
        "print(\"A ∪ A == A:\", A.union(A) == A)\n",
        "print(\"A ∩ A == A:\", A.intersection(A) == A)"
      ],
      "metadata": {
        "colab": {
          "base_uri": "https://localhost:8080/"
        },
        "id": "1wssL3tLWm4q",
        "outputId": "c780aa64-dc85-454e-97c4-f5773d9ca19e"
      },
      "execution_count": 16,
      "outputs": [
        {
          "output_type": "stream",
          "name": "stdout",
          "text": [
            "A ∪ A == A: True\n",
            "A ∩ A == A: True\n"
          ]
        }
      ]
    },
    {
      "cell_type": "markdown",
      "source": [
        "### Complement Laws\n",
        "$$\n",
        "A \\cup A' = U\n",
        "$$\n",
        "$$\n",
        "A \\cap A' = \\emptyset\n",
        "$$"
      ],
      "metadata": {
        "id": "VUTtZRM4WpC1"
      }
    },
    {
      "cell_type": "code",
      "source": [
        "U = {1, 2, 3, 4, 5}\n",
        "A = {1, 2, 3}\n",
        "A_comp = U - A\n",
        "\n",
        "print(\"A ∪ A′ == U:\", A.union(A_comp) == U)\n",
        "print(\"A ∩ A′ == ∅:\", A.intersection(A_comp) == set())"
      ],
      "metadata": {
        "colab": {
          "base_uri": "https://localhost:8080/"
        },
        "id": "kJblirRoWtj2",
        "outputId": "7d1977d5-d64a-4df4-e35f-21ad8c1fc520"
      },
      "execution_count": 17,
      "outputs": [
        {
          "output_type": "stream",
          "name": "stdout",
          "text": [
            "A ∪ A′ == U: True\n",
            "A ∩ A′ == ∅: True\n"
          ]
        }
      ]
    },
    {
      "cell_type": "markdown",
      "source": [
        "### Double Complement Law\n",
        "$$\n",
        "(A')' = A\n",
        "$$"
      ],
      "metadata": {
        "id": "G1E-_BI2W3ja"
      }
    },
    {
      "cell_type": "code",
      "source": [
        "U = {1, 2, 3, 4}\n",
        "A = {1, 2}\n",
        "A_comp = U - A\n",
        "A_double_comp = U - A_comp\n",
        "\n",
        "print(\"(A′)′ == A:\", A_double_comp == A)"
      ],
      "metadata": {
        "colab": {
          "base_uri": "https://localhost:8080/"
        },
        "id": "o-WZ3m1NW7Sf",
        "outputId": "8474dd57-95b1-4348-8451-b9a6763a3576"
      },
      "execution_count": 18,
      "outputs": [
        {
          "output_type": "stream",
          "name": "stdout",
          "text": [
            "(A′)′ == A: True\n"
          ]
        }
      ]
    },
    {
      "cell_type": "markdown",
      "source": [
        "### De Morgan’s Laws\n",
        "$$\n",
        "(A \\cup B)' = A' \\cap B'\n",
        "$$\n",
        "$$\n",
        "(A \\cap B)' = A' \\cup B'\n",
        "$$"
      ],
      "metadata": {
        "id": "zA5KbjMCW-yu"
      }
    },
    {
      "cell_type": "code",
      "source": [
        "U = {1, 2, 3, 4, 5}\n",
        "A = {1, 2}\n",
        "B = {2, 3}\n",
        "\n",
        "lhs1 = U - (A.union(B))\n",
        "rhs1 = (U - A).intersection(U - B)\n",
        "print(\"(A ∪ B)′ == A′ ∩ B′:\", lhs1 == rhs1)\n",
        "\n",
        "lhs2 = U - (A.intersection(B))\n",
        "rhs2 = (U - A).union(U - B)\n",
        "print(\"(A ∩ B)′ == A′ ∪ B′:\", lhs2 == rhs2)"
      ],
      "metadata": {
        "colab": {
          "base_uri": "https://localhost:8080/"
        },
        "id": "VUPTaAibXDtB",
        "outputId": "61224bd6-e972-4fb4-a2fd-b84fb2d65ea7"
      },
      "execution_count": 19,
      "outputs": [
        {
          "output_type": "stream",
          "name": "stdout",
          "text": [
            "(A ∪ B)′ == A′ ∩ B′: True\n",
            "(A ∩ B)′ == A′ ∪ B′: True\n"
          ]
        }
      ]
    },
    {
      "cell_type": "markdown",
      "source": [
        "### Absorption Laws\n",
        "$$\n",
        "A \\cup (A \\cap B) = A\n",
        "$$\n",
        "$$\n",
        "A \\cap (A \\cup B) = A\n",
        "$$"
      ],
      "metadata": {
        "id": "i0udv5qpXFwu"
      }
    },
    {
      "cell_type": "code",
      "source": [
        "A = {1, 2}\n",
        "B = {2, 3}\n",
        "\n",
        "print(\"A ∪ (A ∩ B) == A:\", A.union(A.intersection(B)) == A)\n",
        "print(\"A ∩ (A ∪ B) == A:\", A.intersection(A.union(B)) == A)"
      ],
      "metadata": {
        "colab": {
          "base_uri": "https://localhost:8080/"
        },
        "id": "NFUzqQeNXKuA",
        "outputId": "209fc2eb-d7ce-470c-d433-b271fdc8d20e"
      },
      "execution_count": 20,
      "outputs": [
        {
          "output_type": "stream",
          "name": "stdout",
          "text": [
            "A ∪ (A ∩ B) == A: True\n",
            "A ∩ (A ∪ B) == A: True\n"
          ]
        }
      ]
    },
    {
      "cell_type": "markdown",
      "source": [
        "#Section 3:Logic and Propositional Calculus"
      ],
      "metadata": {
        "id": "nS92TKguXM9W"
      }
    },
    {
      "cell_type": "markdown",
      "source": [
        "##3.1 Propositions and Logical Connectives\n",
        "- Definition of a Proposition\n",
        "  - A proposition is a declarative sentence that is either true or false, but not both.\n",
        "- Examples:\n",
        "  - \"It is raining.\" (Proposition)\n",
        "  - \"2 + 2 = 4\" (Proposition)\n",
        "  - \"What time is it?\" (Not a proposition — it’s a question)"
      ],
      "metadata": {
        "id": "lbS-N-nzXYBq"
      }
    },
    {
      "cell_type": "markdown",
      "source": [
        "##3.2 Logic Connectives\n",
        "\n",
        "| Symbol | Name          | Meaning            |\n",
        "| ------ | ------------- | ------------------ |\n",
        "| ¬      | Negation      | Not P              |\n",
        "| ∧      | Conjunction   | P and Q            |\n",
        "| ∨      | Disjunction   | P or Q             |\n",
        "| →      | Implication   | If P then Q        |\n",
        "| ↔      | Biconditional | P if and only if Q |\n"
      ],
      "metadata": {
        "id": "on_daaPmXimq"
      }
    },
    {
      "cell_type": "code",
      "source": [
        "def logic_operations(p, q):\n",
        "    print(f\"P = {p}, Q = {q}\")\n",
        "    print(f\"¬P = {not p}\")\n",
        "    print(f\"P ∧ Q = {p and q}\")\n",
        "    print(f\"P ∨ Q = {p or q}\")\n",
        "    print(f\"P → Q = {not p or q}\")\n",
        "    print(f\"P ↔ Q = {p == q}\")\n",
        "\n",
        "logic_operations(True, False)"
      ],
      "metadata": {
        "colab": {
          "base_uri": "https://localhost:8080/"
        },
        "id": "4GDYl61ZXodf",
        "outputId": "4215c7ad-20e2-4bf9-c687-c37b145da2ef"
      },
      "execution_count": 21,
      "outputs": [
        {
          "output_type": "stream",
          "name": "stdout",
          "text": [
            "P = True, Q = False\n",
            "¬P = False\n",
            "P ∧ Q = False\n",
            "P ∨ Q = True\n",
            "P → Q = False\n",
            "P ↔ Q = False\n"
          ]
        }
      ]
    },
    {
      "cell_type": "markdown",
      "source": [
        "##3.3 Truth Tables\n",
        "- A truth table lists all possible truth values for a compound proposition."
      ],
      "metadata": {
        "id": "hL0AR-YtXwkt"
      }
    },
    {
      "cell_type": "markdown",
      "source": [
        "Example: P -> Q\n",
        "\n",
        "| P | Q | ¬P | P ∧ Q | P ∨ Q | P → Q | P ↔ Q |\n",
        "| - | - | -- | ----- | ----- | ----- | ----- |\n",
        "| T | T | F  | T     | T     | T     | T     |\n",
        "| T | F | F  | F     | T     | F     | F     |\n",
        "| F | T | T  | F     | T     | T     | F     |\n",
        "| F | F | T  | F     | F     | T     | T     |\n"
      ],
      "metadata": {
        "id": "HkQyuLSPX2fF"
      }
    },
    {
      "cell_type": "code",
      "source": [
        "from itertools import product\n",
        "\n",
        "def truth_table():\n",
        "    print(\"P | Q | ¬P | P ∧ Q | P ∨ Q | P → Q | P ↔ Q\")\n",
        "    print(\"-----------------------------------------\")\n",
        "    for p, q in product([True, False], repeat=2):\n",
        "        not_p = not p\n",
        "        and_pq = p and q\n",
        "        or_pq = p or q\n",
        "        imp_pq = not p or q\n",
        "        eq_pq = p == q\n",
        "        print(f\"{int(p)} | {int(q)} |  {int(not_p)}  |   {int(and_pq)}   |   {int(or_pq)}   |   {int(imp_pq)}   |   {int(eq_pq)}\")\n",
        "\n",
        "truth_table()"
      ],
      "metadata": {
        "colab": {
          "base_uri": "https://localhost:8080/"
        },
        "id": "j9uXaJo-Xzrm",
        "outputId": "d247b13f-5b59-4951-9e5d-72f8b7a61e66"
      },
      "execution_count": 22,
      "outputs": [
        {
          "output_type": "stream",
          "name": "stdout",
          "text": [
            "P | Q | ¬P | P ∧ Q | P ∨ Q | P → Q | P ↔ Q\n",
            "-----------------------------------------\n",
            "1 | 1 |  0  |   1   |   1   |   1   |   1\n",
            "1 | 0 |  0  |   0   |   1   |   0   |   0\n",
            "0 | 1 |  1  |   0   |   1   |   1   |   0\n",
            "0 | 0 |  1  |   0   |   0   |   1   |   1\n"
          ]
        }
      ]
    },
    {
      "cell_type": "markdown",
      "source": [
        "## 3.4 Logical Equivalence\n",
        "\n",
        "- Two compound propositions are **logically equivalent** if they have the same truth value in every possible case.\n",
        "\n",
        "- Examples:\n",
        "  - **De Morgan’s Law:**\n",
        "$$\n",
        "\\neg(P \\lor Q) \\equiv \\neg P \\land \\neg Q\n",
        "$$\n",
        "\n",
        "  - **Implication equivalence:**\n",
        "$$\n",
        "P \\rightarrow Q \\equiv \\neg P \\lor Q\n",
        "$$\n"
      ],
      "metadata": {
        "id": "yDusOR-SYDM9"
      }
    },
    {
      "cell_type": "code",
      "source": [
        "def check_equivalence():\n",
        "    for p, q in product([True, False], repeat=2):\n",
        "        left = not (p or q)\n",
        "        right = (not p) and (not q)\n",
        "        assert left == right, \"Not equivalent!\"\n",
        "    print(\"¬(P ∨ Q) ≡ ¬P ∧ ¬Q — Verified\")\n",
        "\n",
        "check_equivalence()"
      ],
      "metadata": {
        "colab": {
          "base_uri": "https://localhost:8080/"
        },
        "id": "_FKzSsx0YLWX",
        "outputId": "31f7369a-3b0e-4f05-aa9f-72bfa008c887"
      },
      "execution_count": 23,
      "outputs": [
        {
          "output_type": "stream",
          "name": "stdout",
          "text": [
            "¬(P ∨ Q) ≡ ¬P ∧ ¬Q — Verified\n"
          ]
        }
      ]
    },
    {
      "cell_type": "markdown",
      "source": [
        "#Section 4:Predicate Logic and Quantifiers"
      ],
      "metadata": {
        "id": "3G-zVaYJYSR6"
      }
    },
    {
      "cell_type": "markdown",
      "source": [
        "##4.1 Predicates and Propositional Functions\n",
        "- Definition: Predicate\n",
        "  - A **predicate** is a propositional function denoted by \\( P(x) \\) that returns **True** or **False** depending on the value of \\( x \\).\n",
        "\n",
        "- Example:\n",
        "  - Let the predicate be:\n",
        "$$\n",
        "P(x):\\ x \\text{ is even}\n",
        "$$\n",
        "  - Let the **domain** be:\n",
        "$$\n",
        "\\{1, 2, 3, 4\\}\n",
        "$$\n",
        "  - Then:\n",
        "$$\n",
        "P(1) \\rightarrow \\text{False}\n",
        "$$\n",
        "$$\n",
        "P(2) \\rightarrow \\text{True}\n",
        "$$\n",
        "$$\n",
        "P(3) \\rightarrow \\text{False}\n",
        "$$\n",
        "$$\n",
        "P(4) \\rightarrow \\text{True}\n",
        "$$\n"
      ],
      "metadata": {
        "id": "HdQ55b7_YVvx"
      }
    },
    {
      "cell_type": "code",
      "source": [
        "def is_even(x):\n",
        "    return x % 2 == 0\n",
        "\n",
        "domain = [1, 2, 3, 4]\n",
        "results = {x: is_even(x) for x in domain}\n",
        "print(results)"
      ],
      "metadata": {
        "colab": {
          "base_uri": "https://localhost:8080/"
        },
        "id": "afrFZrahYwAb",
        "outputId": "553b4a3f-a572-486e-e952-53f355a14fa4"
      },
      "execution_count": 24,
      "outputs": [
        {
          "output_type": "stream",
          "name": "stdout",
          "text": [
            "{1: False, 2: True, 3: False, 4: True}\n"
          ]
        }
      ]
    },
    {
      "cell_type": "markdown",
      "source": [
        "## 4.2 Quantifiers\n",
        "\n",
        "- Quantifiers express the extent to which a **predicate** is true over a given domain.\n",
        "\n",
        "### Universal Quantifier ( ∀ )\n",
        "\n",
        "- **Symbol:** \\( \\forall \\)\n",
        "- **Meaning:** “For all”\n",
        "- **Example:**\n",
        "$$\n",
        "\\forall x\\ P(x) \\quad \\text{means “\\( P(x) \\) is true for every \\( x \\)”}\n",
        "$$\n",
        "\n",
        "### 2. Existential Quantifier ( ∃ )\n",
        "\n",
        "- **Symbol:** \\( \\exists \\)\n",
        "- **Meaning:** “There exists”\n",
        "- **Example:**\n",
        "$$\n",
        "\\exists x\\ P(x) \\quad \\text{means “There exists some \\( x \\) such that \\( P(x) \\) is true”}\n",
        "$$\n"
      ],
      "metadata": {
        "id": "YOGwulqfYzoC"
      }
    },
    {
      "cell_type": "code",
      "source": [
        "def P(x):\n",
        "    return x % 2 == 0  # x is even\n",
        "\n",
        "domain = [2, 4, 6, 8]\n",
        "\n",
        "# Universal quantifier\n",
        "all_true = all(P(x) for x in domain)\n",
        "print(\"∀x P(x):\", all_true)\n",
        "\n",
        "# Existential quantifier\n",
        "any_true = any(P(x) for x in domain)\n",
        "print(\"∃x P(x):\", any_true)"
      ],
      "metadata": {
        "colab": {
          "base_uri": "https://localhost:8080/"
        },
        "id": "rOOzCMYhZDy_",
        "outputId": "3aaa831e-434f-4f9e-99e9-93eb9bd51544"
      },
      "execution_count": 25,
      "outputs": [
        {
          "output_type": "stream",
          "name": "stdout",
          "text": [
            "∀x P(x): True\n",
            "∃x P(x): True\n"
          ]
        }
      ]
    },
    {
      "cell_type": "markdown",
      "source": [
        "## 4.3 Nested Quantifiers\n",
        "\n",
        "- Expressions can contain **more than one quantifier**, applied in sequence.\n",
        "- Example:\n",
        "\n",
        "$$\n",
        "\\forall x\\ \\exists y\\ (x < y)\n",
        "$$\n",
        "\n",
        "- **Meaning:**  \n",
        "  “For every \\( x \\), there exists a \\( y \\) such that \\( x < y \\)”\n",
        "\n",
        "This means that no matter which value of \\( x \\) you choose from the domain, you can find a corresponding \\( y \\) such that the condition \\( x < y \\) holds.\n",
        "\n",
        "- Notes:\n",
        "- The **order of quantifiers matters**.\n",
        "  - Example:  \n",
        "    $$\n",
        "    \\forall x\\ \\exists y\\ (x < y) \\not\\equiv \\exists y\\ \\forall x\\ (x < y)\n",
        "    $$\n",
        "    The first means **every x has its own y** such that \\( x < y \\).  \n",
        "    The second means there is **one y that is greater than all x**, which is a much stronger condition.\n"
      ],
      "metadata": {
        "id": "AB1F0BaUZJKl"
      }
    },
    {
      "cell_type": "code",
      "source": [
        "domain = [1, 2, 3, 4]\n",
        "\n",
        "# ∀x ∃y (x < y)\n",
        "def forall_exists():\n",
        "    for x in domain:\n",
        "        exists = any(y > x for y in domain)\n",
        "        if not exists:\n",
        "            return False\n",
        "    return True\n",
        "\n",
        "print(\"∀x ∃y (x < y):\", forall_exists())"
      ],
      "metadata": {
        "colab": {
          "base_uri": "https://localhost:8080/"
        },
        "id": "YGMM1qwoZVsa",
        "outputId": "71496725-b4b5-4a35-fa4b-9f737bb62366"
      },
      "execution_count": 26,
      "outputs": [
        {
          "output_type": "stream",
          "name": "stdout",
          "text": [
            "∀x ∃y (x < y): False\n"
          ]
        }
      ]
    },
    {
      "cell_type": "markdown",
      "source": [
        "## 4.4 Negation of Quantified Statements\n",
        "\n",
        "Understanding how to **negate quantified statements** is essential for mathematical proofs and logical reasoning in fields like AI.\n",
        "\n",
        "- Rules of Negation:\n",
        "\n",
        "| Statement | Negation |\n",
        "| --------- | -------- |\n",
        "| ∀x P(x)   | ∃x ¬P(x) |\n",
        "| ∃x P(x)   | ∀x ¬P(x) |\n",
        "\n",
        "- Explanation:\n",
        "\n",
        "  - The **negation of a universal statement** ∀x P(x) means that **not all** elements satisfy P(x), i.e., **there exists** at least one for which P(x) is **false**.\n",
        "\n",
        "  $$\n",
        "  \\neg (\\forall x\\ P(x)) \\equiv \\exists x\\ \\neg P(x)\n",
        "  $$\n",
        "\n",
        "  - The **negation of an existential statement** ∃x P(x) means that **no element** satisfies P(x), i.e., P(x) is **false for all x**.\n",
        "\n",
        "  $$\n",
        "  \\neg (\\exists x\\ P(x)) \\equiv \\forall x\\ \\neg P(x)\n",
        "  $$\n"
      ],
      "metadata": {
        "id": "sMe5i2_uZY10"
      }
    },
    {
      "cell_type": "code",
      "source": [
        "domain = [1, 2, 3]\n",
        "\n",
        "# P(x): x > 0\n",
        "def P(x): return x > 0\n",
        "\n",
        "# ¬(∀x P(x)) ≡ ∃x ¬P(x)\n",
        "negation = any(not P(x) for x in domain)\n",
        "print(\"¬(∀x P(x)) ≡ ∃x ¬P(x):\", negation)"
      ],
      "metadata": {
        "colab": {
          "base_uri": "https://localhost:8080/"
        },
        "id": "yEWB8P7QZ5eq",
        "outputId": "7b2d424b-64e3-480a-b113-171cc2c2e784"
      },
      "execution_count": 27,
      "outputs": [
        {
          "output_type": "stream",
          "name": "stdout",
          "text": [
            "¬(∀x P(x)) ≡ ∃x ¬P(x): False\n"
          ]
        }
      ]
    },
    {
      "cell_type": "markdown",
      "source": [
        "#Section 5:Functions, Relations, and Their Properties"
      ],
      "metadata": {
        "id": "E7nocbssZ_rG"
      }
    },
    {
      "cell_type": "markdown",
      "source": [
        "## 5.1 Relations\n",
        "- Definition: Relation\n",
        "  - A **relation** from set $A$ to set $B$ is a **subset** of the Cartesian product $A \\times B$.\n",
        "  - If $A = \\{1, 2\\}$ and $B = \\{a, b\\}$, then a possible relation $R$ is:\n",
        "\n",
        "$$\n",
        "R = \\{ (1, a),\\ (2, b) \\}\n",
        "$$\n",
        "\n",
        "- Types of Relations on a Set $A$\n",
        "\n",
        "  - Let $R$ be a relation on set $A$. It may satisfy the following properties:\n",
        "    - **Reflexive:**  \n",
        "  $$\n",
        "  (a, a) \\in R\\ \\text{for all } a \\in A\n",
        "  $$\n",
        "\n",
        "    - **Symmetric:**  \n",
        "  $$\n",
        "  (a, b) \\in R \\Rightarrow (b, a) \\in R\n",
        "  $$\n",
        "\n",
        "    - **Antisymmetric:**  \n",
        "  $$\n",
        "  (a, b) \\in R \\ \\text{and} \\ (b, a) \\in R \\Rightarrow a = b\n",
        "  $$\n",
        "\n",
        "    - **Transitive:**  \n",
        "  $$\n",
        "  (a, b) \\in R \\ \\text{and} \\ (b, c) \\in R \\Rightarrow (a, c) \\in R\n",
        "  $$\n"
      ],
      "metadata": {
        "id": "OMrThPh-aCvm"
      }
    },
    {
      "cell_type": "code",
      "source": [
        "def check_relation_properties(A, R):\n",
        "    reflexive = all((a, a) in R for a in A)\n",
        "    symmetric = all((b, a) in R for (a, b) in R)\n",
        "    antisymmetric = all((b, a) not in R or a == b for (a, b) in R)\n",
        "    transitive = all((a, c) in R for (a, b1) in R for (b2, c) in R if b1 == b2)\n",
        "\n",
        "    print(\"Reflexive:\", reflexive)\n",
        "    print(\"Symmetric:\", symmetric)\n",
        "    print(\"Antisymmetric:\", antisymmetric)\n",
        "    print(\"Transitive:\", transitive)\n",
        "\n",
        "A = {1, 2, 3}\n",
        "R = {(1, 1), (2, 2), (3, 3), (1, 2), (2, 1)}\n",
        "check_relation_properties(A, R)"
      ],
      "metadata": {
        "colab": {
          "base_uri": "https://localhost:8080/"
        },
        "id": "MwnM5_ZWaine",
        "outputId": "331066f7-06f8-4aad-e0f0-203db6fe0a04"
      },
      "execution_count": 28,
      "outputs": [
        {
          "output_type": "stream",
          "name": "stdout",
          "text": [
            "Reflexive: True\n",
            "Symmetric: True\n",
            "Antisymmetric: False\n",
            "Transitive: True\n"
          ]
        }
      ]
    },
    {
      "cell_type": "markdown",
      "source": [
        "## 5.2 Functions\n",
        "- Definition: Function\n",
        "  - A **function** $f: A \\to B$ is a **relation** in which each element of $A$ maps to **exactly one** element in $B$.\n",
        "- Notation:\n",
        "\n",
        "$$\n",
        "f: A \\to B \\quad \\text{where} \\quad f(a) = b\n",
        "$$\n",
        "\n",
        "This means the function $f$ assigns each element $a \\in A$ to a **unique** element $b \\in B$.\n",
        "\n",
        "\n",
        "- Types of Functions\n",
        "\n",
        "  - **Injective (One-to-One):**  \n",
        "    - No two elements in $A$ map to the same element in $B$.\n",
        "  \n",
        "  $$\n",
        "  f(a_1) = f(a_2) \\Rightarrow a_1 = a_2\n",
        "  $$\n",
        "\n",
        "  - **Surjective (Onto):**  \n",
        "    - Every element in $B$ is mapped to by **at least one** element in $A$.\n",
        "  \n",
        "  $$\n",
        "  \\forall b \\in B,\\ \\exists a \\in A\\ \\text{such that}\\ f(a) = b\n",
        "  $$\n",
        "\n",
        "  - **Bijective (One-to-One and Onto):**  \n",
        "    - A function is **bijective** if it is both **injective** and **surjective**.\n",
        "  \n",
        "      - Each $a \\in A$ maps to a **unique** $b \\in B$  \n",
        "      - Every $b \\in B$ is **covered** (i.e., has a pre-image in $A$)\n",
        "    - Bijective functions have **inverses**, denoted as $f^{-1}: B \\to A$\n"
      ],
      "metadata": {
        "id": "u-XFbpzQaueW"
      }
    },
    {
      "cell_type": "code",
      "source": [
        "def check_function_properties(f, A, B):\n",
        "    image = list(f.values())\n",
        "    injective = len(set(image)) == len(image)\n",
        "    surjective = set(image) == B\n",
        "    bijective = injective and surjective\n",
        "\n",
        "    print(\"Injective:\", injective)\n",
        "    print(\"Surjective:\", surjective)\n",
        "    print(\"Bijective:\", bijective)\n",
        "\n",
        "A = {1, 2, 3}\n",
        "B = {'a', 'b', 'c'}\n",
        "f = {1: 'a', 2: 'b', 3: 'c'}\n",
        "check_function_properties(f, A, B)"
      ],
      "metadata": {
        "colab": {
          "base_uri": "https://localhost:8080/"
        },
        "id": "qi7PKblSa-MH",
        "outputId": "88fe1360-901a-4791-cacd-d1843e670270"
      },
      "execution_count": 29,
      "outputs": [
        {
          "output_type": "stream",
          "name": "stdout",
          "text": [
            "Injective: True\n",
            "Surjective: True\n",
            "Bijective: True\n"
          ]
        }
      ]
    },
    {
      "cell_type": "markdown",
      "source": [
        "## 5.3 Inverse and Composition of Functions\n",
        "\n",
        "- Inverse Function\n",
        "\n",
        "  - A function $f$ has an **inverse** if it is **bijective** (both injective and surjective).\n",
        "  - The inverse of $f$ is denoted as $f^{-1}$ and satisfies:\n",
        "\n",
        "$$\n",
        "f^{-1}(f(x)) = x \\quad \\text{and} \\quad f(f^{-1}(y)) = y\n",
        "$$\n",
        "\n",
        "  for all $x \\in A$ and $y \\in B$.\n",
        "\n",
        "- Composition of Functions\n",
        "  - Given two functions:\n",
        "    - $f: A \\to B$\n",
        "    - $g: B \\to C$\n",
        "  - The **composition** of $g$ and $f$, denoted as $g \\circ f$, is defined by:\n",
        "\n",
        "$$\n",
        "(g \\circ f)(x) = g(f(x))\n",
        "$$\n",
        "\n",
        "for all $x \\in A$.\n",
        "\n",
        "  - This means we first apply $f$ to $x$, then apply $g$ to the result.\n"
      ],
      "metadata": {
        "id": "Jk7BqmTLbDoO"
      }
    },
    {
      "cell_type": "code",
      "source": [
        "def compose(f, g, A):\n",
        "    return {x: g[f[x]] for x in A if f[x] in g}\n",
        "\n",
        "f = {1: 'a', 2: 'b', 3: 'c'}\n",
        "g = {'a': 10, 'b': 20, 'c': 30}\n",
        "A = {1, 2, 3}\n",
        "print(\"g ∘ f:\", compose(f, g, A))"
      ],
      "metadata": {
        "colab": {
          "base_uri": "https://localhost:8080/"
        },
        "id": "bTfr1Yw-bWSb",
        "outputId": "cb64d99b-c617-4798-8651-0cefae092923"
      },
      "execution_count": 30,
      "outputs": [
        {
          "output_type": "stream",
          "name": "stdout",
          "text": [
            "g ∘ f: {1: 10, 2: 20, 3: 30}\n"
          ]
        }
      ]
    },
    {
      "cell_type": "markdown",
      "source": [
        "#Section 6:Principles of Counting"
      ],
      "metadata": {
        "id": "BP5i4FDKbrbG"
      }
    },
    {
      "cell_type": "markdown",
      "source": [
        "## 6.1 The Rule of Sum and Rule of Product\n",
        "\n",
        "###Rule of Sum (Addition Principle)\n",
        "\n",
        "If one task can be done in $m$ ways and another **mutually exclusive** task can be done in $n$ ways,  \n",
        "then the total number of ways to do **either** task is:\n",
        "\n",
        "$$\n",
        "m + n\n",
        "$$\n",
        "\n",
        "**Example:**  \n",
        "You can choose **3 fruits** or **4 vegetables**.  \n",
        "Total choices = $3 + 4 = 7$\n",
        "\n",
        "---\n",
        "\n",
        "###Rule of Product (Multiplication Principle)\n",
        "\n",
        "If a task consists of multiple steps:\n",
        "\n",
        "- Step 1 can be done in $m$ ways  \n",
        "- Step 2 can be done in $n$ ways\n",
        "\n",
        "Then the total number of ways to perform **both steps** is:\n",
        "\n",
        "$$\n",
        "m \\times n\n",
        "$$\n",
        "\n",
        "**Example:**  \n",
        "You have **3 shirts** and **2 pants**.  "
      ],
      "metadata": {
        "id": "-8WQ9avIbvEf"
      }
    },
    {
      "cell_type": "code",
      "source": [
        "def rule_of_sum(options1, options2):\n",
        "    return len(options1) + len(options2)\n",
        "\n",
        "def rule_of_product(options1, options2):\n",
        "    return [(a, b) for a in options1 for b in options2]\n",
        "\n",
        "# Example\n",
        "fruits = ['apple', 'banana', 'orange']\n",
        "vegetables = ['carrot', 'spinach', 'potato', 'broccoli']\n",
        "print(\"Rule of Sum:\", rule_of_sum(fruits, vegetables))\n",
        "print(\"Rule of Product:\", rule_of_product(fruits, vegetables))"
      ],
      "metadata": {
        "colab": {
          "base_uri": "https://localhost:8080/"
        },
        "id": "ie7VJe_CceMy",
        "outputId": "4657b7e9-c590-426b-b4fd-d64ccb288b2b"
      },
      "execution_count": 31,
      "outputs": [
        {
          "output_type": "stream",
          "name": "stdout",
          "text": [
            "Rule of Sum: 7\n",
            "Rule of Product: [('apple', 'carrot'), ('apple', 'spinach'), ('apple', 'potato'), ('apple', 'broccoli'), ('banana', 'carrot'), ('banana', 'spinach'), ('banana', 'potato'), ('banana', 'broccoli'), ('orange', 'carrot'), ('orange', 'spinach'), ('orange', 'potato'), ('orange', 'broccoli')]\n"
          ]
        }
      ]
    },
    {
      "cell_type": "markdown",
      "source": [
        "## 6.2 The Inclusion-Exclusion Principle\n",
        "\n",
        "Used to **avoid overcounting** when sets **overlap**.\n",
        "\n",
        "- Formula for Two Sets:\n",
        "\n",
        "$$\n",
        "|A \\cup B| = |A| + |B| - |A \\cap B|\n",
        "$$\n",
        "\n",
        "This corrects the overcounting of elements in both $A$ and $B$.\n",
        "\n",
        "-  Formula for Three Sets:\n",
        "\n",
        "$$\n",
        "|A \\cup B \\cup C| = |A| + |B| + |C|\n",
        "- |A \\cap B| - |B \\cap C| - |A \\cap C|\n",
        "+ |A \\cap B \\cap C|\n",
        "$$\n",
        "\n",
        "This accounts for all pairwise overlaps and adds back the triple overlap, which was subtracted too many times.\n",
        "\n"
      ],
      "metadata": {
        "id": "5pQIFy47cVzK"
      }
    },
    {
      "cell_type": "code",
      "source": [
        "def inclusion_exclusion(A, B):\n",
        "    return len(A) + len(B) - len(A.intersection(B))\n",
        "\n",
        "# Example\n",
        "A = {1, 2, 3, 4}\n",
        "B = {3, 4, 5, 6}\n",
        "print(\"Inclusion-Exclusion:\", inclusion_exclusion(A, B))"
      ],
      "metadata": {
        "colab": {
          "base_uri": "https://localhost:8080/"
        },
        "id": "cOEZbJQscwK_",
        "outputId": "37b27ed5-c3d5-4264-91e3-cb2cd7d3247f"
      },
      "execution_count": 33,
      "outputs": [
        {
          "output_type": "stream",
          "name": "stdout",
          "text": [
            "Inclusion-Exclusion: 6\n"
          ]
        }
      ]
    },
    {
      "cell_type": "markdown",
      "source": [
        "## 6.3 Pigeonhole Principle\n",
        "\n",
        "- Basic Form:\n",
        "  - If $n$ items are placed into $m$ containers and $n > m$,  \n",
        "then **at least one container must contain more than one item**.\n",
        "  - This is known as the **Pigeonhole Principle**.\n",
        "\n",
        "- Example:\n",
        "  - There are **13 people** and **12 months**.\n",
        "  - Since $13 > 12$,  \n",
        "at least **two people** must share the **same birth month**.\n",
        "\n"
      ],
      "metadata": {
        "id": "gZz74nJ0c5pv"
      }
    },
    {
      "cell_type": "code",
      "source": [
        "def pigeonhole(items, boxes):\n",
        "    if len(items) > boxes:\n",
        "        print(\"At least one box has more than one item.\")\n",
        "    else:\n",
        "        print(\"Each item can go in a separate box.\")\n",
        "\n",
        "pigeonhole(list(range(13)), 12)"
      ],
      "metadata": {
        "colab": {
          "base_uri": "https://localhost:8080/"
        },
        "id": "bhqEw6HtdBZs",
        "outputId": "0f6321a2-6a9b-44e6-8813-8e9e221d0e81"
      },
      "execution_count": 34,
      "outputs": [
        {
          "output_type": "stream",
          "name": "stdout",
          "text": [
            "At least one box has more than one item.\n"
          ]
        }
      ]
    },
    {
      "cell_type": "markdown",
      "source": [
        "#Section 7:Permutations and Combinations"
      ],
      "metadata": {
        "id": "9zCYMfSQdIDu"
      }
    },
    {
      "cell_type": "markdown",
      "source": [
        "## 7.1 Permutations (Ordered Arrangements)\n",
        "\n",
        "- A **permutation** is an **arrangement of objects where order matters**.\n",
        "- Formula:\n",
        "  - The number of ways to select and arrange $r$ items from $n$ distinct items is:\n",
        "\n",
        "$$\n",
        "P(n, r) = \\frac{n!}{(n - r)!}\n",
        "$$\n",
        "\n",
        "- Example:\n",
        "  - Number of ways to assign **1st, 2nd, and 3rd prizes** to **10 contestants**:\n",
        "\n",
        "$$\n",
        "P(10, 3) = \\frac{10!}{(10 - 3)!} = \\frac{10!}{7!} = 10 \\times 9 \\times 8 = 720\n",
        "$$\n"
      ],
      "metadata": {
        "id": "hA-HqDDzdNiq"
      }
    },
    {
      "cell_type": "code",
      "source": [
        "import math\n",
        "\n",
        "def permutation(n, r):\n",
        "    return math.factorial(n) // math.factorial(n - r)\n",
        "\n",
        "print(\"P(10, 3):\", permutation(10, 3))"
      ],
      "metadata": {
        "colab": {
          "base_uri": "https://localhost:8080/"
        },
        "id": "TEUqZ-T-dZ14",
        "outputId": "bbe7b0a0-cbd7-40ec-91f5-ab55a7dd29fd"
      },
      "execution_count": 35,
      "outputs": [
        {
          "output_type": "stream",
          "name": "stdout",
          "text": [
            "P(10, 3): 720\n"
          ]
        }
      ]
    },
    {
      "cell_type": "markdown",
      "source": [
        "## 7.2 Combinations (Unordered Selections)\n",
        "\n",
        "- A **combination** is a **selection of items where order does not matter**.\n",
        "- Formula:\n",
        "  - The number of ways to choose $r$ items from $n$ distinct items is:\n",
        "\n",
        "$$\n",
        "C(n, r) = \\frac{n!}{r!(n - r)!}\n",
        "$$\n",
        "\n",
        "- Example:\n",
        "  - Number of ways to select **3 team members** from **10 people**:\n",
        "\n",
        "$$\n",
        "C(10, 3) = \\frac{10!}{3! \\cdot 7!} = \\frac{10 \\times 9 \\times 8}{3 \\times 2 \\times 1} = 120\n",
        "$$\n"
      ],
      "metadata": {
        "id": "yfmdL36WdiOX"
      }
    },
    {
      "cell_type": "code",
      "source": [
        "def combination(n, r):\n",
        "    return math.comb(n, r)  # or: math.factorial(n) // (math.factorial(r) * math.factorial(n - r))\n",
        "\n",
        "print(\"C(10, 3):\", combination(10, 3))"
      ],
      "metadata": {
        "colab": {
          "base_uri": "https://localhost:8080/"
        },
        "id": "AdT9nzXsdgLn",
        "outputId": "c51a1b87-113d-4f31-b63c-38f12ce30185"
      },
      "execution_count": 37,
      "outputs": [
        {
          "output_type": "stream",
          "name": "stdout",
          "text": [
            "C(10, 3): 120\n"
          ]
        }
      ]
    },
    {
      "cell_type": "markdown",
      "source": [
        "## 7.3 Real-Life Use Cases\n",
        "\n",
        "| **Scenario**                                 | **Use**        |\n",
        "|---------------------------------------------|----------------|\n",
        "| Seating people in a row                      | Permutation    |\n",
        "| Choosing a team from a group                 | Combination    |\n",
        "| Arranging books on a shelf                   | Permutation    |\n",
        "| Selecting toppings for pizza (any order)     | Combination    |\n"
      ],
      "metadata": {
        "id": "JtzNiZmmd2Zi"
      }
    },
    {
      "cell_type": "markdown",
      "source": [
        "## 7.4 Handling Repetition\n",
        "- Permutations with Repetition\n",
        "  - When repetition **is allowed**, the number of possible arrangements of $r$ items chosen from $n$ options is:\n",
        "\n",
        "$$\n",
        "n^r\n",
        "$$\n",
        "\n",
        "- Example:\n",
        "  - How many **4-digit PINs** can be formed using digits 0–9?\n",
        "\n",
        "$$\n",
        "10^4 = 10,000\n",
        "$$"
      ],
      "metadata": {
        "id": "QzUPHCzBd3R7"
      }
    },
    {
      "cell_type": "code",
      "source": [
        "def permutation_with_repetition(n, r):\n",
        "    return n ** r\n",
        "\n",
        "print(\"4-digit PINs:\", permutation_with_repetition(10, 4))"
      ],
      "metadata": {
        "colab": {
          "base_uri": "https://localhost:8080/"
        },
        "id": "e-JvdvYXd_WR",
        "outputId": "44e47b75-0841-4fed-bac5-40416bed8d2d"
      },
      "execution_count": 38,
      "outputs": [
        {
          "output_type": "stream",
          "name": "stdout",
          "text": [
            "4-digit PINs: 10000\n"
          ]
        }
      ]
    },
    {
      "cell_type": "markdown",
      "source": [
        "#Section 8: Recurrence Relations"
      ],
      "metadata": {
        "id": "K8Uo5HwWeEYf"
      }
    },
    {
      "cell_type": "markdown",
      "source": [
        "## 8.1 What is a Recurrence Relation?\n",
        "\n",
        "- A **recurrence relation** defines a sequence recursively: each term is expressed in terms of previous terms.\n",
        "- **Example (Fibonacci Sequence):**\n",
        "$$\n",
        "F(n) = F(n-1) + F(n-2), \\quad \\text{with } F(0) = 0,\\ F(1) = 1\n",
        "$$"
      ],
      "metadata": {
        "id": "h3MjkM5BeFJn"
      }
    },
    {
      "cell_type": "markdown",
      "source": [
        "## 8.2 Types of Recurrence Relations\n",
        "\n",
        "| **Type**                   | **Description**                                                              | **Example**        |\n",
        "| -------------------------- | ---------------------------------------------------------------------------- | ------------------ |\n",
        "| **Linear**                 | Each term is a linear combination of previous terms (no powers/products).    | aₙ = 2aₙ₋₁ + 3     |\n",
        "| **Homogeneous**            | No constant or non-recursive terms; all terms depend only on previous terms. | aₙ = 2aₙ₋₁ + 3aₙ₋₂ |\n",
        "| **Non-Homogeneous**        | Includes a constant or function as an extra term.                            | aₙ = 2aₙ₋₁ + 5     |\n",
        "| **First-order**            | Involves only the immediately preceding term.                                | aₙ = 4aₙ₋₁ + 1     |\n",
        "| **Second-order**           | Involves two previous terms.                                                 | aₙ = 2aₙ₋₁ + 3aₙ₋₂ |\n",
        "| **Higher-order**           | Involves three or more previous terms.                                       | aₙ = aₙ₋₁ + aₙ₋₃   |\n",
        "| **Linear Homogeneous**     | Linear, no added constants or functions.                                     | aₙ = 5aₙ₋₁ - 6aₙ₋₂ |\n",
        "| **Linear Non-Homogeneous** | Linear with additional constant/function.                                    | aₙ = 3aₙ₋₁ + 2ⁿ    |\n",
        "| **Constant Coefficient**   | Coefficients (like 3 in 3aₙ₋₁) are constants.                                | aₙ = 3aₙ₋₁ + 1     |\n"
      ],
      "metadata": {
        "id": "2j_PUXNceS3-"
      }
    },
    {
      "cell_type": "markdown",
      "source": [
        "## 8.3 Solving Techniques\n",
        "\n",
        "- Iteration (Unrolling the Recurrence)\n",
        "  - Expand the relation step by step until a clear pattern or closed-form expression emerges.\n",
        "\n",
        "- Substitution (Guess and Prove by Induction)\n",
        "  - Make a guess for the closed-form.\n",
        "  - Prove it using **mathematical induction**.\n",
        "\n",
        "- Characteristic Equation (for linear homogeneous recurrences)\n",
        "\n",
        "  - Given:\n",
        "$$\n",
        "a_n = c_1 a_{n-1} + c_2 a_{n-2}\n",
        "$$\n",
        "\n",
        "  - Form the characteristic equation:\n",
        "$$\n",
        "r^2 - c_1 r - c_2 = 0\n",
        "$$\n",
        "\n",
        "  - Solve the quadratic to find the roots and determine the **closed-form solution**."
      ],
      "metadata": {
        "id": "ZLTShLsredl8"
      }
    },
    {
      "cell_type": "code",
      "source": [
        "def fibonacci(n):\n",
        "    if n <= 1:\n",
        "        return n\n",
        "    return fibonacci(n-1) + fibonacci(n-2)\n",
        "\n",
        "print(\"Fibonacci(7):\", fibonacci(7))"
      ],
      "metadata": {
        "colab": {
          "base_uri": "https://localhost:8080/"
        },
        "id": "uV5KLt-ketXr",
        "outputId": "a02b5676-c8a7-4014-e189-b8de621c4082"
      },
      "execution_count": 39,
      "outputs": [
        {
          "output_type": "stream",
          "name": "stdout",
          "text": [
            "Fibonacci(7): 13\n"
          ]
        }
      ]
    },
    {
      "cell_type": "markdown",
      "source": [
        "### Linear Recurrence Using Iteration\n",
        "\n",
        "**Given:**\n",
        "$$\n",
        "a_n = 3a_{n-1} + 1, \\quad a_0 = 2\n",
        "$$\n",
        "\n",
        "Let us compute the first few terms by iteration:\n",
        "\n",
        "- $a_0 = 2$  \n",
        "- $a_1 = 3a_0 + 1 = 3(2) + 1 = 7$  \n",
        "- $a_2 = 3a_1 + 1 = 3(7) + 1 = 22$  \n",
        "- $a_3 = 3a_2 + 1 = 3(22) + 1 = 67$  \n",
        "- $a_4 = 3a_3 + 1 = 3(67) + 1 = 202$\n",
        "\n",
        "Now, generalize:\n",
        "\n",
        "Start from:\n",
        "$$\n",
        "a_n = 3a_{n-1} + 1\n",
        "$$\n",
        "\n",
        "Iterate back:\n",
        "\\[\n",
        "\\begin{align*}\n",
        "a_n &= 3a_{n-1} + 1 \\\\\n",
        "    &= 3(3a_{n-2} + 1) + 1 = 3^2 a_{n-2} + 3 + 1 \\\\\n",
        "    &= 3^3 a_{n-3} + 3^2 + 3 + 1 \\\\\n",
        "    &= \\dots \\\\\n",
        "    &= 3^n a_0 + 3^{n-1} + 3^{n-2} + \\cdots + 3^0\n",
        "\\end{align*}\n",
        "\\]\n",
        "\n",
        "So:\n",
        "$$\n",
        "a_n = 3^n a_0 + \\sum_{k=0}^{n-1} 3^k\n",
        "$$\n",
        "\n",
        "We know:\n",
        "$$\n",
        "\\sum_{k=0}^{n-1} 3^k = \\frac{3^n - 1}{3 - 1} = \\frac{3^n - 1}{2}\n",
        "$$\n",
        "\n",
        "Final closed-form solution:\n",
        "$$\n",
        "a_n = 3^n \\cdot 2 + \\frac{3^n - 1}{2}\n",
        "$$\n",
        "\n",
        "You can simplify further if needed:\n",
        "$$\n",
        "a_n = \\frac{4 \\cdot 3^n - 1}{2}\n",
        "$$\n",
        "\n",
        "This is the **closed-form** of the recurrence relation."
      ],
      "metadata": {
        "id": "XJ8baPBHeymo"
      }
    },
    {
      "cell_type": "code",
      "source": [
        "def linear_recurrence(n):\n",
        "    a = [2]  # a_0 = 2\n",
        "    for i in range(1, n + 1):\n",
        "        a.append(3 * a[i - 1] + 1)\n",
        "    return a\n",
        "\n",
        "print(\"First 6 terms:\", linear_recurrence(5))"
      ],
      "metadata": {
        "colab": {
          "base_uri": "https://localhost:8080/"
        },
        "id": "IPRmqo5aevyG",
        "outputId": "85860ce1-8ad6-4dee-d347-c003c027a416"
      },
      "execution_count": 40,
      "outputs": [
        {
          "output_type": "stream",
          "name": "stdout",
          "text": [
            "First 6 terms: [2, 7, 22, 67, 202, 607]\n"
          ]
        }
      ]
    },
    {
      "cell_type": "markdown",
      "source": [
        "##8.6 Solving with Characteristic Equation\n",
        "\n",
        "- Given the recurrence relation:\n",
        "\n",
        "$$\n",
        "a_n = 2a_{n-1} - a_{n-2}\n",
        "$$\n",
        "\n",
        "- We form the characteristic equation by assuming a solution of the form \\( a_n = r^n \\):\n",
        "\n",
        "$$\n",
        "r^2 - 2r + 1 = 0\n",
        "$$\n",
        "\n",
        "- Factoring the quadratic:\n",
        "\n",
        "$$\n",
        "(r - 1)^2 = 0\n",
        "$$\n",
        "\n",
        "- So the characteristic root is a repeated root: \\( r = 1 \\)\n",
        "\n",
        "**General Solution:**\n",
        "\n",
        "$$\n",
        "a_n = (A + Bn) \\cdot 1^n = A + Bn\n",
        "$$\n",
        "\n",
        "- To find constants \\( A \\) and \\( B \\), use initial conditions a0 and a1:\n",
        "\n",
        "- If a0=x, and a1=y:\n",
        "\n",
        "$$\n",
        "a_0 = A = x\n",
        "$$\n",
        "\n",
        "$$\n",
        "a_1 = A + B = y \\Rightarrow B = y - x\n",
        "$$\n",
        "\n",
        "- **Final Solution:**\n",
        "\n",
        "$$\n",
        "a_n = x + (y - x)n\n",
        "$$\n"
      ],
      "metadata": {
        "id": "FRXeHF9ff2qV"
      }
    },
    {
      "cell_type": "markdown",
      "source": [
        "##8.7 Applications of Recurrence Relations\n",
        "\n",
        "- **Analyzing algorithm complexities:**\n",
        "\n",
        "  $$\n",
        "  \\text{Example: Merge Sort } \\quad T(n) = 2T(n/2) + n\n",
        "  $$\n",
        "\n",
        "- **Modeling real-world problems:**\n",
        "  - Population growth\n",
        "  - Financial prediction (e.g., compound interest, annuities)\n",
        "\n",
        "- **Solving dynamic programming problems:**\n",
        "  - Fibonacci series\n",
        "  - Shortest path algorithms\n",
        "  - Optimal substructure-based problems"
      ],
      "metadata": {
        "id": "yjUcYWlKgLVQ"
      }
    },
    {
      "cell_type": "markdown",
      "source": [
        "#Section 9: Graph Theory Basics"
      ],
      "metadata": {
        "id": "_nzObvJ3gORX"
      }
    },
    {
      "cell_type": "markdown",
      "source": [
        "## 9.1 What is a Graph?\n",
        "\n",
        "- A **graph** is a mathematical structure used to model pairwise relations between objects.\n",
        "- It is defined as:\n",
        "\n",
        "$$\n",
        "G = (V, E)\n",
        "$$\n",
        "    - Where:\n",
        "- V is a set of **vertices** (nodes)\n",
        "- E is a set of **edges** (connections between pairs of vertices)\n",
        "\n",
        "### Types of Graphs\n",
        "\n",
        "| Type                | Description                                      |\n",
        "|---------------------|--------------------------------------------------|\n",
        "| Undirected Graph     | Edges have no direction                         |\n",
        "| Directed Graph (Digraph) | Edges have a direction (arrows)               |\n",
        "| Weighted Graph       | Edges carry weights (e.g., distances, costs)    |\n",
        "| Simple Graph         | No loops or multiple edges                      |\n",
        "| Multigraph           | Multiple edges between the same pair of vertices |\n",
        "| Complete Graph       | Every pair of nodes is connected                |"
      ],
      "metadata": {
        "id": "91gvynDmgRGv"
      }
    },
    {
      "cell_type": "markdown",
      "source": [
        "## 9.2 Key Terms\n",
        "\n",
        "| Term       | Description                                             |\n",
        "|------------|---------------------------------------------------------|\n",
        "| Vertex     | A node in a graph                                       |\n",
        "| Edge       | A connection between two vertices                       |\n",
        "| Degree     | Number of edges connected to a vertex                   |\n",
        "| Path       | A sequence of edges from one vertex to another          |\n",
        "| Cycle      | A path that starts and ends at the same vertex          |\n",
        "| Connected  | There exists a path between every pair of vertices      |\n",
        "| Tree       | A connected acyclic graph                               |\n",
        "| Subgraph   | A part of a graph formed using a subset of nodes/edges  |"
      ],
      "metadata": {
        "id": "HYh1bo5KgqmT"
      }
    },
    {
      "cell_type": "markdown",
      "source": [
        "## 9.3 Degree of a Vertex\n",
        "\n",
        "- In an **Undirected Graph**:\n",
        "\n",
        "  - **Degree** of a vertex = Number of incident edges\n",
        "\n",
        "- In a **Directed Graph**:\n",
        "\n",
        "  - **In-degree** = Number of incoming edges\n",
        "  - **Out-degree** = Number of outgoing edges"
      ],
      "metadata": {
        "id": "wNQJrfh8gt63"
      }
    },
    {
      "cell_type": "code",
      "source": [
        "# Undirected graph using adjacency list\n",
        "graph = {\n",
        "    'A': ['B', 'C'],\n",
        "    'B': ['A', 'D'],\n",
        "    'C': ['A', 'D'],\n",
        "    'D': ['B', 'C']\n",
        "}\n",
        "\n",
        "def print_graph(graph):\n",
        "    for node in graph:\n",
        "        print(f\"{node} -> {graph[node]}\")\n",
        "\n",
        "print_graph(graph)"
      ],
      "metadata": {
        "colab": {
          "base_uri": "https://localhost:8080/"
        },
        "id": "WLdtu6Kgg2I4",
        "outputId": "19572365-122c-4e47-f13f-ea17879bef3e"
      },
      "execution_count": 41,
      "outputs": [
        {
          "output_type": "stream",
          "name": "stdout",
          "text": [
            "A -> ['B', 'C']\n",
            "B -> ['A', 'D']\n",
            "C -> ['A', 'D']\n",
            "D -> ['B', 'C']\n"
          ]
        }
      ]
    },
    {
      "cell_type": "markdown",
      "source": [
        "##9.4 Path Detection"
      ],
      "metadata": {
        "id": "1IP-zzUKg6UX"
      }
    },
    {
      "cell_type": "code",
      "source": [
        "def dfs(graph, start, visited=None):\n",
        "    if visited is None:\n",
        "        visited = set()\n",
        "    visited.add(start)\n",
        "    print(start, end=' ')\n",
        "    for neighbor in graph[start]:\n",
        "        if neighbor not in visited:\n",
        "            dfs(graph, neighbor, visited)\n",
        "\n",
        "print(\"DFS traversal:\")\n",
        "dfs(graph, 'A')"
      ],
      "metadata": {
        "colab": {
          "base_uri": "https://localhost:8080/"
        },
        "id": "x9EbXKqtg9oD",
        "outputId": "21e16ce8-5658-40cb-f29a-28222d39fe43"
      },
      "execution_count": 42,
      "outputs": [
        {
          "output_type": "stream",
          "name": "stdout",
          "text": [
            "DFS traversal:\n",
            "A B D C "
          ]
        }
      ]
    },
    {
      "cell_type": "markdown",
      "source": [
        "##9.5 Trees vs Graphs\n",
        "| Feature      | Graph                     | Tree                |\n",
        "| ------------ | ------------------------- | ------------------- |\n",
        "| Cycles       | May have cycles           | No cycles (acyclic) |\n",
        "| Connectivity | Not necessarily connected | Always connected    |\n",
        "| Edges        | ≤ $n(n-1)/2$              | Exactly $n - 1$     |\n"
      ],
      "metadata": {
        "id": "4gg1NDkChAsv"
      }
    },
    {
      "cell_type": "markdown",
      "source": [
        "##9.7 Applications of Graphs\n",
        "- Computer Networks: Devices as nodes, connections as edges\n",
        "- Google Maps: Cities as nodes, roads as edges (with weights)\n",
        "- Social Networks: People as nodes, friendships as edges\n",
        "- Dependency Trees in AI/Compilers\n",
        "\n"
      ],
      "metadata": {
        "id": "n_SXU6fJhEeZ"
      }
    },
    {
      "cell_type": "markdown",
      "source": [
        "#Section 10: Graph Algorithms"
      ],
      "metadata": {
        "id": "SqU-ZzRMhJVG"
      }
    },
    {
      "cell_type": "markdown",
      "source": [
        "##10.1 Breadth-First Search (BFS)\n",
        "- Explores neighbors level by level\n",
        "- Uses a queue\n",
        "- Great for finding shortest path in unweighted graphs\n",
        "- Algorithm Steps:\n",
        "  - Start at a node, mark it visited.\n",
        "  - Visit all its unvisited neighbors.\n",
        "  - Repeat using a queue."
      ],
      "metadata": {
        "id": "2Kj8wv_IhNpr"
      }
    },
    {
      "cell_type": "code",
      "source": [
        "from collections import deque\n",
        "\n",
        "def bfs(graph, start):\n",
        "    visited = set()\n",
        "    queue = deque([start])\n",
        "\n",
        "    while queue:\n",
        "        node = queue.popleft()\n",
        "        if node not in visited:\n",
        "            print(node, end=' ')\n",
        "            visited.add(node)\n",
        "            queue.extend(neighbor for neighbor in graph[node] if neighbor not in visited)\n",
        "\n",
        "# Example Graph\n",
        "graph = {\n",
        "    'A': ['B', 'C'],\n",
        "    'B': ['A', 'D', 'E'],\n",
        "    'C': ['A', 'F'],\n",
        "    'D': ['B'],\n",
        "    'E': ['B'],\n",
        "    'F': ['C']\n",
        "}\n",
        "\n",
        "print(\"BFS Traversal:\")\n",
        "bfs(graph, 'A')"
      ],
      "metadata": {
        "colab": {
          "base_uri": "https://localhost:8080/"
        },
        "id": "sckGpGihhaPP",
        "outputId": "811a0c3c-f55d-4787-f377-8de2790a6353"
      },
      "execution_count": 43,
      "outputs": [
        {
          "output_type": "stream",
          "name": "stdout",
          "text": [
            "BFS Traversal:\n",
            "A B C D E F "
          ]
        }
      ]
    },
    {
      "cell_type": "markdown",
      "source": [
        "##10.2 Depth-First Search (DFS)\n",
        "- Explores as far as possible along a path before backtracking\n",
        "- Uses recursion or a stack"
      ],
      "metadata": {
        "id": "fMWHBgEchchT"
      }
    },
    {
      "cell_type": "code",
      "source": [
        "def dfs(graph, node, visited=None):\n",
        "    if visited is None:\n",
        "        visited = set()\n",
        "    visited.add(node)\n",
        "    print(node, end=' ')\n",
        "\n",
        "    for neighbor in graph[node]:\n",
        "        if neighbor not in visited:\n",
        "            dfs(graph, neighbor, visited)\n",
        "\n",
        "print(\"\\nDFS Traversal:\")\n",
        "dfs(graph, 'A')"
      ],
      "metadata": {
        "colab": {
          "base_uri": "https://localhost:8080/"
        },
        "id": "W-tIyueRhft4",
        "outputId": "ddc97d0b-e529-49c6-8157-2c7b4a9f46f8"
      },
      "execution_count": 44,
      "outputs": [
        {
          "output_type": "stream",
          "name": "stdout",
          "text": [
            "\n",
            "DFS Traversal:\n",
            "A B D E C F "
          ]
        }
      ]
    },
    {
      "cell_type": "markdown",
      "source": [
        "##10.3 Shortest Path: Dijkstra’s Algorithm\n",
        "- Works on weighted graphs\n",
        "- Finds the shortest path from a source node to all other nodes\n",
        "- Uses a priority queue (min-heap)"
      ],
      "metadata": {
        "id": "4LBwAjRjhhqk"
      }
    },
    {
      "cell_type": "code",
      "source": [
        "import heapq\n",
        "\n",
        "def dijkstra(graph, start):\n",
        "    distances = {node: float('inf') for node in graph}\n",
        "    distances[start] = 0\n",
        "    queue = [(0, start)]\n",
        "\n",
        "    while queue:\n",
        "        current_dist, current_node = heapq.heappop(queue)\n",
        "\n",
        "        for neighbor, weight in graph[current_node]:\n",
        "            distance = current_dist + weight\n",
        "            if distance < distances[neighbor]:\n",
        "                distances[neighbor] = distance\n",
        "                heapq.heappush(queue, (distance, neighbor))\n",
        "\n",
        "    return distances\n",
        "\n",
        "# Weighted Graph\n",
        "weighted_graph = {\n",
        "    'A': [('B', 2), ('C', 5)],\n",
        "    'B': [('A', 2), ('D', 1)],\n",
        "    'C': [('A', 5), ('D', 2)],\n",
        "    'D': [('B', 1), ('C', 2)]\n",
        "}\n",
        "\n",
        "print(\"\\nShortest distances from A:\")\n",
        "print(dijkstra(weighted_graph, 'A'))"
      ],
      "metadata": {
        "colab": {
          "base_uri": "https://localhost:8080/"
        },
        "id": "P5znAGoxhls8",
        "outputId": "16003f6b-0381-4b8b-f80b-e274e5cd84e6"
      },
      "execution_count": 45,
      "outputs": [
        {
          "output_type": "stream",
          "name": "stdout",
          "text": [
            "\n",
            "Shortest distances from A:\n",
            "{'A': 0, 'B': 2, 'C': 5, 'D': 3}\n"
          ]
        }
      ]
    },
    {
      "cell_type": "markdown",
      "source": [
        "##10.4 Topological Sort (for Directed Acyclic Graphs - DAGs)\n",
        "- Linear ordering of vertices such that for every edge u → v, u comes before v\n",
        "- Used in task scheduling, dependency resolution"
      ],
      "metadata": {
        "id": "50NuJVqohoCc"
      }
    },
    {
      "cell_type": "code",
      "source": [
        "def topological_sort(graph):\n",
        "    visited = set()\n",
        "    stack = []\n",
        "\n",
        "    def dfs(node):\n",
        "        visited.add(node)\n",
        "        for neighbor in graph[node]:\n",
        "            if neighbor not in visited:\n",
        "                dfs(neighbor)\n",
        "        stack.append(node)\n",
        "\n",
        "    for node in graph:\n",
        "        if node not in visited:\n",
        "            dfs(node)\n",
        "\n",
        "    return stack[::-1]\n",
        "\n",
        "dag = {\n",
        "    'A': ['C'],\n",
        "    'B': ['C', 'D'],\n",
        "    'C': ['E'],\n",
        "    'D': ['F'],\n",
        "    'E': [],\n",
        "    'F': []\n",
        "}\n",
        "\n",
        "print(\"\\nTopological Sort Order:\")\n",
        "print(topological_sort(dag))"
      ],
      "metadata": {
        "id": "yhj92JvWhrUB"
      },
      "execution_count": null,
      "outputs": []
    },
    {
      "cell_type": "markdown",
      "source": [
        "##Comparison table\n",
        "\n",
        "| Algorithm        | Used For                   | Data Structure Used |\n",
        "| ---------------- | -------------------------- | ------------------- |\n",
        "| BFS              | Shortest path (unweighted) | Queue               |\n",
        "| DFS              | Traversal, Cycle detection | Stack/Recursion     |\n",
        "| Dijkstra         | Shortest path (weighted)   | Priority Queue      |\n",
        "| Topological Sort | Scheduling DAGs            | Stack (post-order)  |\n"
      ],
      "metadata": {
        "id": "rjc4WoQThtbj"
      }
    },
    {
      "cell_type": "markdown",
      "source": [
        "# Section 11: Boolean Algebra and Logic Circuits"
      ],
      "metadata": {
        "id": "EQ8qZHS0hxKn"
      }
    },
    {
      "cell_type": "markdown",
      "source": [
        "## 11.1 Boolean Variables and Operations\n",
        "\n",
        "**Boolean variables** take values **0 (False)** or **1 (True)**.\n",
        "\n",
        "🔧 **Fundamental Operations**:\n",
        "\n",
        "- **AND** (·): Output is 1 *only if* both inputs are 1 — \\( A . B \\)\n",
        "- **OR** (+): Output is 1 *if at least one* input is 1 — \\( A + B \\)\n",
        "- **NOT** (¬ or !): Output is the complement (inverts the value) — \\( - A \\) or \\( A' )\n",
        "\n",
        "###  Truth Table for Basic Gates\n",
        "\n",
        "| A | B | A · B (AND) | A + B (OR) | ¬A (NOT) |\n",
        "|---|---|-------------|------------|----------|\n",
        "| 0 | 0 |      0      |     0      |    1     |\n",
        "| 0 | 1 |      0      |     1      |    1     |\n",
        "| 1 | 0 |      0      |     1      |    0     |\n",
        "| 1 | 1 |      1      |     1      |    0     |"
      ],
      "metadata": {
        "id": "_V0HHhfHh0m9"
      }
    },
    {
      "cell_type": "markdown",
      "source": [
        "## 11.2 Boolean Identities and Laws\n",
        "\n",
        "| Law / Identity   | Expression                             |\n",
        "| ---------------- | -------------------------------------- |\n",
        "| Identity Law     | A + 0 = A, A · 1 = A                   |\n",
        "| Null Law         | A + 1 = 1, A · 0 = 0                   |\n",
        "| Idempotent Law   | A + A = A, A · A = A                   |\n",
        "| Complement Law   | A + ¬A = 1, A · ¬A = 0                 |\n",
        "| Double Negation  | ¬(¬A) = A                              |\n",
        "| DeMorgan’s Laws  | ¬(A + B) = ¬A · ¬B, ¬(A · B) = ¬A + ¬B |\n",
        "| Distributive Law | A · (B + C) = A·B + A·C                |\n",
        "\n",
        "\n",
        "These laws are essential for simplifying **Boolean expressions** and **digital circuits**."
      ],
      "metadata": {
        "id": "bwLuPS-3idif"
      }
    },
    {
      "cell_type": "markdown",
      "source": [
        "## 11.3 Logic Circuits\n",
        "\n",
        "- A **logic circuit** is a physical implementation of a Boolean function using **logic gates**.\n",
        "\n",
        "- Example: Half Adder\n",
        "\n",
        "**Inputs**: A, B  \n",
        "**Outputs**:\n",
        "\n",
        "- **Sum** = \\( A ⊕ B \\) (XOR gate)\n",
        "- **Carry** = \\( A . B \\) (AND gate)\n",
        "\n",
        "Used for binary addition in arithmetic logic units (ALUs)."
      ],
      "metadata": {
        "id": "mgZTdk5cihiQ"
      }
    },
    {
      "cell_type": "code",
      "source": [
        "def AND(a, b):\n",
        "    return a & b\n",
        "\n",
        "def OR(a, b):\n",
        "    return a | b\n",
        "\n",
        "def NOT(a):\n",
        "    return 1 - a\n",
        "\n",
        "def XOR(a, b):\n",
        "    return a ^ b\n",
        "\n",
        "print(\"A | B | AND | OR | NOT A | XOR\")\n",
        "for A in [0, 1]:\n",
        "    for B in [0, 1]:\n",
        "        print(f\"{A} | {B} |  {AND(A,B)}  |  {OR(A,B)}  |   {NOT(A)}   |  {XOR(A,B)}\")"
      ],
      "metadata": {
        "colab": {
          "base_uri": "https://localhost:8080/"
        },
        "id": "f1_bDLoyi0bE",
        "outputId": "9dcd2325-c70d-469e-a15b-ebe4e5cefc8e"
      },
      "execution_count": 46,
      "outputs": [
        {
          "output_type": "stream",
          "name": "stdout",
          "text": [
            "A | B | AND | OR | NOT A | XOR\n",
            "0 | 0 |  0  |  0  |   1   |  0\n",
            "0 | 1 |  0  |  1  |   1   |  1\n",
            "1 | 0 |  0  |  1  |   0   |  1\n",
            "1 | 1 |  1  |  1  |   0   |  0\n"
          ]
        }
      ]
    },
    {
      "cell_type": "markdown",
      "source": [
        "## 11.5 Karnaugh Map (K-Map) Overview\n",
        "- A **K-Map** is a visual method for **minimizing Boolean expressions**.\n",
        "- **Example: 2-variable K-Map**\n",
        "\n",
        "| A \\ B | 0 | 1 |\n",
        "|-------|---|---|\n",
        "| 0     | 0 | 1 |\n",
        "| 1     | 1 | 1 |\n",
        "\n",
        "- We group **adjacent 1’s** (horizontally or vertically) to simplify Boolean expressions.\n",
        "\n",
        "- The goal is to form the largest possible power-of-2 groups (1, 2, 4...) for minimization.\n",
        "\n",
        "- We’ll implement a **K-Map generator** in the final implementation section."
      ],
      "metadata": {
        "id": "wIR_upKbmz-o"
      }
    },
    {
      "cell_type": "markdown",
      "source": [
        "##11.6 Applications of K-Map\n",
        "\n",
        "- Digital circuit design  \n",
        "- Microprocessor architecture  \n",
        "- Hardware optimization  \n",
        "- Error detection and correction systems"
      ],
      "metadata": {
        "id": "Vkq6rEYpm7M5"
      }
    },
    {
      "cell_type": "markdown",
      "source": [
        "#Section 12: Applications in AI/ML"
      ],
      "metadata": {
        "id": "JlZE__ZCnCO-"
      }
    },
    {
      "cell_type": "markdown",
      "source": [
        "##12.1 Graphs in AI/ML\n",
        "- Use Cases:\n",
        "  - Knowledge graphs for representing semantic relationships\n",
        "  - Social networks and recommendation engines\n",
        "  - Graph neural networks (GNNs) for structure-aware learning\n",
        "  - Search algorithms in games (like A*, Minimax)"
      ],
      "metadata": {
        "id": "FR7tCSn-nHGo"
      }
    },
    {
      "cell_type": "code",
      "source": [
        "#Representing a Knowledge Graph\n",
        "graph = {\n",
        "    \"AI\": [\"ML\", \"Logic\"],\n",
        "    \"ML\": [\"Supervised\", \"Unsupervised\"],\n",
        "    \"Logic\": [\"Propositional\", \"Predicate\"]\n",
        "}\n",
        "\n",
        "def traverse_graph(g, node, visited=None):\n",
        "    if visited is None:\n",
        "        visited = set()\n",
        "    print(node)\n",
        "    visited.add(node)\n",
        "    for neighbor in g.get(node, []):\n",
        "        if neighbor not in visited:\n",
        "            traverse_graph(g, neighbor, visited)\n",
        "\n",
        "traverse_graph(graph, \"AI\")"
      ],
      "metadata": {
        "colab": {
          "base_uri": "https://localhost:8080/"
        },
        "id": "7RSZV7KKngHT",
        "outputId": "2d6103ce-3cf9-4689-e6ba-1376302c5d46"
      },
      "execution_count": 47,
      "outputs": [
        {
          "output_type": "stream",
          "name": "stdout",
          "text": [
            "AI\n",
            "ML\n",
            "Supervised\n",
            "Unsupervised\n",
            "Logic\n",
            "Propositional\n",
            "Predicate\n"
          ]
        }
      ]
    },
    {
      "cell_type": "markdown",
      "source": [
        "##12.2 Probabilistic Reasoning (from Set Theory + Logic)\n",
        "- Used in Bayesian Networks, Hidden Markov Models, etc.\n",
        "- Combines probability with logic for uncertain reasoning\n",
        "- Discrete variables form the basis of many ML datasets"
      ],
      "metadata": {
        "id": "Az8H6VvlnfiR"
      }
    },
    {
      "cell_type": "markdown",
      "source": [
        "##12.3 Logic and Reasoning in AI\n",
        "- Propositional logic for rule-based systems and expert systems\n",
        "- Predicate logic for representing complex knowledge (used in Prolog, rule engines)"
      ],
      "metadata": {
        "id": "GaWX53Ifntua"
      }
    },
    {
      "cell_type": "code",
      "source": [
        "#Simple Prolog-style Inference\n",
        "facts = {\n",
        "    \"human\": [\"Socrates\"],\n",
        "    \"mortal\": []\n",
        "}\n",
        "\n",
        "# Rule: All humans are mortal\n",
        "for x in facts[\"human\"]:\n",
        "    facts[\"mortal\"].append(x)\n",
        "\n",
        "print(\"Mortal beings:\", facts[\"mortal\"])"
      ],
      "metadata": {
        "colab": {
          "base_uri": "https://localhost:8080/"
        },
        "id": "NTUBvVdUnykZ",
        "outputId": "da5c8291-fc01-4628-d058-74abc1d54248"
      },
      "execution_count": 48,
      "outputs": [
        {
          "output_type": "stream",
          "name": "stdout",
          "text": [
            "Mortal beings: ['Socrates']\n"
          ]
        }
      ]
    },
    {
      "cell_type": "markdown",
      "source": [
        "##12.4 Automata Theory and Finite State Machines\n",
        "- Used in:\n",
        "  - Natural Language Processing (NLP) for tokenization, grammar checking\n",
        "  - Chatbots and interactive agents with state transitions"
      ],
      "metadata": {
        "id": "ZunzkZoNpLac"
      }
    },
    {
      "cell_type": "code",
      "source": [
        "#Simple Finite State Machine (FSM)\n",
        "class FSM:\n",
        "    def __init__(self):\n",
        "        self.state = 'start'\n",
        "\n",
        "    def transition(self, input):\n",
        "        if self.state == 'start':\n",
        "            if input == 'hello':\n",
        "                self.state = 'greeting'\n",
        "        elif self.state == 'greeting':\n",
        "            if input == 'bye':\n",
        "                self.state = 'end'\n",
        "        return self.state\n",
        "\n",
        "fsm = FSM()\n",
        "print(fsm.transition('hello'))  # greeting\n",
        "print(fsm.transition('bye'))    # end"
      ],
      "metadata": {
        "colab": {
          "base_uri": "https://localhost:8080/"
        },
        "id": "3PhziaYGpPD1",
        "outputId": "dec4944c-4aa0-425a-9baf-9757343a0cb1"
      },
      "execution_count": 49,
      "outputs": [
        {
          "output_type": "stream",
          "name": "stdout",
          "text": [
            "greeting\n",
            "end\n"
          ]
        }
      ]
    },
    {
      "cell_type": "markdown",
      "source": [
        "#Truth Table Generator (from scratch)"
      ],
      "metadata": {
        "id": "fgZP95pCpWbt"
      }
    },
    {
      "cell_type": "markdown",
      "source": [
        "- Supports logical operators:\n",
        "  - ~ for NOT\n",
        "  - & for AND\n",
        "  - | for OR\n",
        "  - ^ for XOR\n",
        "  - -> for implication\n",
        "  - <-> for biconditional"
      ],
      "metadata": {
        "id": "gkJy1gUdsi8_"
      }
    },
    {
      "cell_type": "code",
      "source": [
        "import itertools\n",
        "import re\n",
        "\n",
        "# Supported operators and replacements\n",
        "def preprocess(expr):\n",
        "    expr = expr.replace(\"->\", \"IMPLIES\")\n",
        "    expr = expr.replace(\"<->\", \"IFF\")\n",
        "    expr = expr.replace(\"~\", \" not \")\n",
        "    expr = expr.replace(\"&\", \" and \")\n",
        "    expr = expr.replace(\"|\", \" or \")\n",
        "    expr = expr.replace(\"^\", \" != \")\n",
        "    return expr"
      ],
      "metadata": {
        "id": "_rTKNKLFsuGV"
      },
      "execution_count": 50,
      "outputs": []
    },
    {
      "cell_type": "code",
      "source": [
        "def evaluate(expr, values):\n",
        "    expr = preprocess(expr)\n",
        "    for var, val in values.items():\n",
        "        expr = re.sub(rf'\\b{var}\\b', str(val), expr)\n",
        "    # Custom implication\n",
        "    expr = re.sub(r'(\\bTrue\\b|\\bFalse\\b)\\s+IMPLIES\\s+(\\bTrue\\b|\\bFalse\\b)',\n",
        "                  lambda m: str((not eval(m.group(1))) or eval(m.group(2))),\n",
        "                  expr)\n",
        "    # Custom biconditional\n",
        "    expr = re.sub(r'(\\bTrue\\b|\\bFalse\\b)\\s+IFF\\s+(\\bTrue\\b|\\bFalse\\b)',\n",
        "                  lambda m: str(eval(m.group(1)) == eval(m.group(2))),\n",
        "                  expr)\n",
        "    return eval(expr)\n"
      ],
      "metadata": {
        "id": "G5WRoXxpszEF"
      },
      "execution_count": 51,
      "outputs": []
    },
    {
      "cell_type": "code",
      "source": [
        "def generate_truth_table(expression):\n",
        "    variables = sorted(set(re.findall(r'\\b[a-zA-Z]\\w*\\b', expression)))\n",
        "    print(\" | \".join(variables + [expression]))\n",
        "    print(\"-\" * (5 * len(variables) + len(expression) + 3))\n",
        "\n",
        "    for combo in itertools.product([False, True], repeat=len(variables)):\n",
        "        values = dict(zip(variables, combo))\n",
        "        result = evaluate(expression, values)\n",
        "        row = \" | \".join(str(values[var]) for var in variables)\n",
        "        print(f\"{row} | {result}\")\n",
        "\n",
        "# Example usage:\n",
        "expr = \"(P -> Q) & (~Q)\"\n",
        "generate_truth_table(expr)"
      ],
      "metadata": {
        "colab": {
          "base_uri": "https://localhost:8080/"
        },
        "id": "kdcg18U_s1x0",
        "outputId": "d46d73ca-a5e1-4757-b0fb-c05de773a85b"
      },
      "execution_count": 52,
      "outputs": [
        {
          "output_type": "stream",
          "name": "stdout",
          "text": [
            "P | Q | (P -> Q) & (~Q)\n",
            "----------------------------\n",
            "False | False | True\n",
            "False | True | False\n",
            "True | False | False\n",
            "True | True | False\n"
          ]
        }
      ]
    },
    {
      "cell_type": "markdown",
      "source": [
        "#Karnaugh Map Generator (Up to 4 Variables)"
      ],
      "metadata": {
        "id": "uQkL92cUs-1P"
      }
    },
    {
      "cell_type": "markdown",
      "source": [
        "- Features:\n",
        "  - Accepts a truth table (manually or auto-generated)\n",
        "  - Displays a 2-variable, 3-variable, or 4-variable Karnaugh map\n",
        "  - Uses Gray code ordering\n",
        "  - Simplifies logic visualization\n",
        "\n"
      ],
      "metadata": {
        "id": "cs3p8F6_s_6w"
      }
    },
    {
      "cell_type": "code",
      "source": [
        "import itertools\n",
        "\n",
        "def gray_code(n):\n",
        "    \"\"\"Generate Gray code sequence for n bits.\"\"\"\n",
        "    if n == 0:\n",
        "        return ['']\n",
        "    first_half = gray_code(n - 1)\n",
        "    return ['0' + code for code in first_half] + ['1' + code for code in reversed(first_half)]\n"
      ],
      "metadata": {
        "id": "uh96QgmZtHYX"
      },
      "execution_count": 53,
      "outputs": []
    },
    {
      "cell_type": "code",
      "source": [
        "def get_binary_combinations(n):\n",
        "    \"\"\"Return variable combinations for n bits in Gray code order.\"\"\"\n",
        "    return [list(map(int, code)) for code in gray_code(n)]"
      ],
      "metadata": {
        "id": "yHhdd-PGtMTq"
      },
      "execution_count": 54,
      "outputs": []
    },
    {
      "cell_type": "code",
      "source": [
        "def generate_truth_dict(expression, variables):\n",
        "    \"\"\"Generate truth table dictionary for an expression.\"\"\"\n",
        "    table = {}\n",
        "    for combo in itertools.product([0, 1], repeat=len(variables)):\n",
        "        env = dict(zip(variables, combo))\n",
        "        expr = expression\n",
        "        for var, val in env.items():\n",
        "            expr = expr.replace(var, str(bool(val)))\n",
        "        expr = expr.replace(\"~\", \" not \").replace(\"&\", \" and \").replace(\"|\", \" or \")\n",
        "        value = int(eval(expr))\n",
        "        table[combo] = value\n",
        "    return table"
      ],
      "metadata": {
        "id": "NHqXjc-GtPX8"
      },
      "execution_count": 55,
      "outputs": []
    },
    {
      "cell_type": "code",
      "source": [
        "def generate_kmap(expression, variables):\n",
        "    \"\"\"Generates a K-map for the given Boolean expression.\"\"\"\n",
        "    n = len(variables)\n",
        "    if n not in [2, 3, 4]:\n",
        "        raise ValueError(\"Only 2 to 4 variables are supported for K-map generation.\")\n",
        "\n",
        "    truth_table = generate_truth_dict(expression, variables)\n",
        "\n",
        "    # Variable split for rows and columns\n",
        "    split = {\n",
        "        2: (1, 1),   # row:1 var, col:1 var\n",
        "        3: (1, 2),   # row:1 var, col:2 vars\n",
        "        4: (2, 2),   # row:2 vars, col:2 vars\n",
        "    }[n]\n",
        "\n",
        "    row_vars = variables[:split[0]]\n",
        "    col_vars = variables[split[0]:]\n",
        "\n",
        "    row_codes = get_binary_combinations(len(row_vars))\n",
        "    col_codes = get_binary_combinations(len(col_vars))\n",
        "\n",
        "    # Print header\n",
        "    print(f\"\\nKarnaugh Map for: {expression}\")\n",
        "    header = \"    | \" + \" | \".join(\"\".join(map(str, col)) for col in col_codes)\n",
        "    print(header)\n",
        "    print(\"-\" * len(header))\n",
        "\n",
        "    # Print rows\n",
        "    for r in row_codes:\n",
        "        row_label = \"\".join(map(str, r))\n",
        "        row_data = []\n",
        "        for c in col_codes:\n",
        "            key = tuple(r + c)\n",
        "            value = truth_table.get(key, 0)\n",
        "            row_data.append(str(value))\n",
        "        print(f\"{row_label} | \" + \" | \".join(row_data))\n",
        "\n",
        "# Example usage\n",
        "expr = \"(A & B) | (~A & C)\"\n",
        "variables = ['A', 'B', 'C']\n",
        "generate_kmap(expr, variables)"
      ],
      "metadata": {
        "colab": {
          "base_uri": "https://localhost:8080/"
        },
        "id": "E7EoqGSAtSOL",
        "outputId": "430cd5c7-a1d6-40e9-d36d-589d321dfcac"
      },
      "execution_count": 56,
      "outputs": [
        {
          "output_type": "stream",
          "name": "stdout",
          "text": [
            "\n",
            "Karnaugh Map for: (A & B) | (~A & C)\n",
            "    | 00 | 01 | 11 | 10\n",
            "-----------------------\n",
            "0 | 0 | 1 | 1 | 0\n",
            "1 | 0 | 0 | 1 | 1\n"
          ]
        }
      ]
    },
    {
      "cell_type": "markdown",
      "source": [
        "# Final Summary: Discrete Mathematics for AI/ML\n",
        "\n",
        "This notebook explored foundational topics in **Discrete Mathematics** that are essential for logic building, algorithm design, and reasoning in **Artificial Intelligence** and **Machine Learning**.  \n",
        "We bridged theoretical concepts with hands-on Python implementations, including truth tables, Karnaugh maps, propositional logic parsing, and combinatorics utilities.\n",
        "\n",
        "---\n",
        "\n",
        "## Key Concepts Covered\n",
        "\n",
        "### 1. Set Theory and Operations\n",
        "- Sets, subsets, power sets, Venn diagrams  \n",
        "- Union (\\\\( A \\cup B \\\\)), intersection (\\\\( A \\cap B \\\\)), difference (\\\\( A - B \\\\)), complement (\\\\( A^c \\\\))  \n",
        "- *Python*: Set operations, membership testing  \n",
        "\n",
        "### 2. Logic and Propositional Calculus\n",
        "- Propositions, logical connectives (¬, ∧, ∨, →, ↔)  \n",
        "- Tautology, contradiction, logical equivalence  \n",
        "- *Python*: Truth table generator with implication (→) and biconditional (↔) support  \n",
        "\n",
        "### 3. Predicate Logic and Quantifiers\n",
        "- Universal (\\\\( \\forall \\\\)) and existential (\\\\( \\exists \\\\)) quantifiers  \n",
        "- Translating real-world statements into formal logic  \n",
        "- *Python*: Manual evaluation of quantified statements  \n",
        "\n",
        "### 4. Functions and Relations\n",
        "- Injective, surjective, bijective mappings  \n",
        "- Composition, inverse, domain, and codomain  \n",
        "- *Python*: Custom function properties checker  \n",
        "\n",
        "### 5. Principles of Counting\n",
        "- Rule of sum, rule of product, inclusion-exclusion  \n",
        "- Pigeonhole principle  \n",
        "- *Python*: Generalized combinatorial functions  \n",
        "\n",
        "### 6. Permutations and Combinations\n",
        "- Factorials, permutations (\\\\( P(n, r) \\\\)), combinations (\\\\( C(n, r) \\\\))  \n",
        "- Multisets and circular permutations  \n",
        "- *Python*: From-scratch permutation/combination calculators  \n",
        "\n",
        "### 7. Recurrence Relations\n",
        "- Linear homogeneous recurrence relations  \n",
        "- Iteration and characteristic equation methods  \n",
        "- *Python*: Recurrence solver and sequence visualizer  \n",
        "\n",
        "### 8. Graph Theory and Algorithms\n",
        "- Graphs, trees, degree, paths, cycles  \n",
        "- BFS, DFS, Dijkstra’s shortest path, topological sort  \n",
        "- *Python*: NetworkX + from-scratch traversal implementations  \n",
        "\n",
        "### 9. Boolean Algebra and Logic Circuits\n",
        "- Boolean identities and simplifications  \n",
        "- Logic gates, expressions, and circuits  \n",
        "- *Python*: Boolean expression parser and simplifier  \n",
        "\n",
        "---\n",
        "\n",
        "##  From-Scratch Implementations\n",
        "\n",
        "- **Truth Table Generator** – Supports complex logical expressions: `~`, `&`, `|`, `→`, `↔`\n",
        "- **Karnaugh Map Generator** – Up to 4-variable Gray-coded K-maps\n",
        "- **Propositional Logic Evaluator** – Parses & evaluates logical formulas\n",
        "- **Combinatorics Tools** – Permutations, combinations, Pascal’s triangle\n",
        "- **Graph Algorithms** – BFS, DFS, and Dijkstra’s algorithm without libraries\n",
        "\n",
        "---\n",
        "\n",
        "## Applications to AI/ML\n",
        "\n",
        "| Topic                      | Use Case in AI/ML                                           |\n",
        "|---------------------------|-------------------------------------------------------------|\n",
        "| Logic & Propositional Calc| Rule-based AI, knowledge representation                     |\n",
        "| Set Theory & Relations    | Feature selection, clustering, relation modeling            |\n",
        "| Graph Theory              | Social network analysis, knowledge graphs, decision trees   |\n",
        "| Recurrence Relations      | Dynamic programming, sequence modeling                      |\n",
        "| Boolean Algebra           | Digital logic, binary classifiers, logic circuit simulation |\n",
        "| Combinatorics & Counting  | Model complexity, probabilistic modeling                    |\n",
        "\n",
        "---"
      ],
      "metadata": {
        "id": "xflOx7jkttMQ"
      }
    }
  ]
}