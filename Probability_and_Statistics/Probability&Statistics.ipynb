{
  "nbformat": 4,
  "nbformat_minor": 0,
  "metadata": {
    "colab": {
      "provenance": [],
      "collapsed_sections": [
        "kCd8bc_yIity",
        "_AXKDGjXJ0Hy",
        "GIr6NC6QKZTH",
        "M77R0vz2LIyb",
        "J4DV-Yn_Mcwy",
        "-J_eTXsbNtEO",
        "EOabp9OVQpxT",
        "GnJb_ADaUykT",
        "efVUO-yDXpy-",
        "cLnmcFArTrN0",
        "EBmgLCcDSX-q",
        "EGsVHWBIdiN7",
        "XeRIfVyAejPg",
        "AYtFSRtcgCzm",
        "n2lu9LNMiJj4"
      ]
    },
    "kernelspec": {
      "name": "python3",
      "display_name": "Python 3"
    },
    "language_info": {
      "name": "python"
    }
  },
  "cells": [
    {
      "cell_type": "markdown",
      "source": [
        "#Section 1: Introduction to Data and Statistics"
      ],
      "metadata": {
        "id": "kCd8bc_yIity"
      }
    },
    {
      "cell_type": "markdown",
      "source": [
        "### 1.1 What is Data?\n",
        "- Data is a collection of facts such as numbers, words, measurements, or observations.\n",
        "- It forms the basis of statistical analysis and machine learning."
      ],
      "metadata": {
        "id": "Xa-l1fR9Ik9O"
      }
    },
    {
      "cell_type": "markdown",
      "source": [
        "### 1.2 Types of Data\n",
        "- Categorical Data\n",
        "  - Nominal: No natural order (e.g., Gender, Color).\n",
        "  - Ordinal: Ordered categories (e.g., Ratings: Low, Medium, High).\n",
        "- Numerical Data\n",
        "  - Discrete: Countable values (e.g., Number of students).\n",
        "  - Continuous: Measurable quantities (e.g., Height, Weight)."
      ],
      "metadata": {
        "id": "FDgnK-u_I7xf"
      }
    },
    {
      "cell_type": "code",
      "source": [
        "import pandas as pd\n",
        "\n",
        "data = {\n",
        "    'Name': ['Alice', 'Bob', 'Charlie'],\n",
        "    'Gender': ['Female', 'Male', 'Male'],\n",
        "    'Satisfaction': ['High', 'Medium', 'Low'],\n",
        "    'Age': [25, 30, 35],\n",
        "    'Temperature': [36.6, 37.2, 36.8]\n",
        "}\n",
        "\n",
        "df = pd.DataFrame(data)\n",
        "df"
      ],
      "metadata": {
        "colab": {
          "base_uri": "https://localhost:8080/",
          "height": 143
        },
        "id": "RcGOjmYlJLRv",
        "outputId": "e3e05236-5737-4daf-cdb1-3b4db18d5316"
      },
      "execution_count": null,
      "outputs": [
        {
          "output_type": "execute_result",
          "data": {
            "text/plain": [
              "      Name  Gender Satisfaction  Age  Temperature\n",
              "0    Alice  Female         High   25         36.6\n",
              "1      Bob    Male       Medium   30         37.2\n",
              "2  Charlie    Male          Low   35         36.8"
            ],
            "text/html": [
              "\n",
              "  <div id=\"df-fc6130a4-6720-4a81-8009-a82ba5b40428\" class=\"colab-df-container\">\n",
              "    <div>\n",
              "<style scoped>\n",
              "    .dataframe tbody tr th:only-of-type {\n",
              "        vertical-align: middle;\n",
              "    }\n",
              "\n",
              "    .dataframe tbody tr th {\n",
              "        vertical-align: top;\n",
              "    }\n",
              "\n",
              "    .dataframe thead th {\n",
              "        text-align: right;\n",
              "    }\n",
              "</style>\n",
              "<table border=\"1\" class=\"dataframe\">\n",
              "  <thead>\n",
              "    <tr style=\"text-align: right;\">\n",
              "      <th></th>\n",
              "      <th>Name</th>\n",
              "      <th>Gender</th>\n",
              "      <th>Satisfaction</th>\n",
              "      <th>Age</th>\n",
              "      <th>Temperature</th>\n",
              "    </tr>\n",
              "  </thead>\n",
              "  <tbody>\n",
              "    <tr>\n",
              "      <th>0</th>\n",
              "      <td>Alice</td>\n",
              "      <td>Female</td>\n",
              "      <td>High</td>\n",
              "      <td>25</td>\n",
              "      <td>36.6</td>\n",
              "    </tr>\n",
              "    <tr>\n",
              "      <th>1</th>\n",
              "      <td>Bob</td>\n",
              "      <td>Male</td>\n",
              "      <td>Medium</td>\n",
              "      <td>30</td>\n",
              "      <td>37.2</td>\n",
              "    </tr>\n",
              "    <tr>\n",
              "      <th>2</th>\n",
              "      <td>Charlie</td>\n",
              "      <td>Male</td>\n",
              "      <td>Low</td>\n",
              "      <td>35</td>\n",
              "      <td>36.8</td>\n",
              "    </tr>\n",
              "  </tbody>\n",
              "</table>\n",
              "</div>\n",
              "    <div class=\"colab-df-buttons\">\n",
              "\n",
              "  <div class=\"colab-df-container\">\n",
              "    <button class=\"colab-df-convert\" onclick=\"convertToInteractive('df-fc6130a4-6720-4a81-8009-a82ba5b40428')\"\n",
              "            title=\"Convert this dataframe to an interactive table.\"\n",
              "            style=\"display:none;\">\n",
              "\n",
              "  <svg xmlns=\"http://www.w3.org/2000/svg\" height=\"24px\" viewBox=\"0 -960 960 960\">\n",
              "    <path d=\"M120-120v-720h720v720H120Zm60-500h600v-160H180v160Zm220 220h160v-160H400v160Zm0 220h160v-160H400v160ZM180-400h160v-160H180v160Zm440 0h160v-160H620v160ZM180-180h160v-160H180v160Zm440 0h160v-160H620v160Z\"/>\n",
              "  </svg>\n",
              "    </button>\n",
              "\n",
              "  <style>\n",
              "    .colab-df-container {\n",
              "      display:flex;\n",
              "      gap: 12px;\n",
              "    }\n",
              "\n",
              "    .colab-df-convert {\n",
              "      background-color: #E8F0FE;\n",
              "      border: none;\n",
              "      border-radius: 50%;\n",
              "      cursor: pointer;\n",
              "      display: none;\n",
              "      fill: #1967D2;\n",
              "      height: 32px;\n",
              "      padding: 0 0 0 0;\n",
              "      width: 32px;\n",
              "    }\n",
              "\n",
              "    .colab-df-convert:hover {\n",
              "      background-color: #E2EBFA;\n",
              "      box-shadow: 0px 1px 2px rgba(60, 64, 67, 0.3), 0px 1px 3px 1px rgba(60, 64, 67, 0.15);\n",
              "      fill: #174EA6;\n",
              "    }\n",
              "\n",
              "    .colab-df-buttons div {\n",
              "      margin-bottom: 4px;\n",
              "    }\n",
              "\n",
              "    [theme=dark] .colab-df-convert {\n",
              "      background-color: #3B4455;\n",
              "      fill: #D2E3FC;\n",
              "    }\n",
              "\n",
              "    [theme=dark] .colab-df-convert:hover {\n",
              "      background-color: #434B5C;\n",
              "      box-shadow: 0px 1px 3px 1px rgba(0, 0, 0, 0.15);\n",
              "      filter: drop-shadow(0px 1px 2px rgba(0, 0, 0, 0.3));\n",
              "      fill: #FFFFFF;\n",
              "    }\n",
              "  </style>\n",
              "\n",
              "    <script>\n",
              "      const buttonEl =\n",
              "        document.querySelector('#df-fc6130a4-6720-4a81-8009-a82ba5b40428 button.colab-df-convert');\n",
              "      buttonEl.style.display =\n",
              "        google.colab.kernel.accessAllowed ? 'block' : 'none';\n",
              "\n",
              "      async function convertToInteractive(key) {\n",
              "        const element = document.querySelector('#df-fc6130a4-6720-4a81-8009-a82ba5b40428');\n",
              "        const dataTable =\n",
              "          await google.colab.kernel.invokeFunction('convertToInteractive',\n",
              "                                                    [key], {});\n",
              "        if (!dataTable) return;\n",
              "\n",
              "        const docLinkHtml = 'Like what you see? Visit the ' +\n",
              "          '<a target=\"_blank\" href=https://colab.research.google.com/notebooks/data_table.ipynb>data table notebook</a>'\n",
              "          + ' to learn more about interactive tables.';\n",
              "        element.innerHTML = '';\n",
              "        dataTable['output_type'] = 'display_data';\n",
              "        await google.colab.output.renderOutput(dataTable, element);\n",
              "        const docLink = document.createElement('div');\n",
              "        docLink.innerHTML = docLinkHtml;\n",
              "        element.appendChild(docLink);\n",
              "      }\n",
              "    </script>\n",
              "  </div>\n",
              "\n",
              "\n",
              "    <div id=\"df-04d48bfe-160e-46ff-a373-666989c9bd26\">\n",
              "      <button class=\"colab-df-quickchart\" onclick=\"quickchart('df-04d48bfe-160e-46ff-a373-666989c9bd26')\"\n",
              "                title=\"Suggest charts\"\n",
              "                style=\"display:none;\">\n",
              "\n",
              "<svg xmlns=\"http://www.w3.org/2000/svg\" height=\"24px\"viewBox=\"0 0 24 24\"\n",
              "     width=\"24px\">\n",
              "    <g>\n",
              "        <path d=\"M19 3H5c-1.1 0-2 .9-2 2v14c0 1.1.9 2 2 2h14c1.1 0 2-.9 2-2V5c0-1.1-.9-2-2-2zM9 17H7v-7h2v7zm4 0h-2V7h2v10zm4 0h-2v-4h2v4z\"/>\n",
              "    </g>\n",
              "</svg>\n",
              "      </button>\n",
              "\n",
              "<style>\n",
              "  .colab-df-quickchart {\n",
              "      --bg-color: #E8F0FE;\n",
              "      --fill-color: #1967D2;\n",
              "      --hover-bg-color: #E2EBFA;\n",
              "      --hover-fill-color: #174EA6;\n",
              "      --disabled-fill-color: #AAA;\n",
              "      --disabled-bg-color: #DDD;\n",
              "  }\n",
              "\n",
              "  [theme=dark] .colab-df-quickchart {\n",
              "      --bg-color: #3B4455;\n",
              "      --fill-color: #D2E3FC;\n",
              "      --hover-bg-color: #434B5C;\n",
              "      --hover-fill-color: #FFFFFF;\n",
              "      --disabled-bg-color: #3B4455;\n",
              "      --disabled-fill-color: #666;\n",
              "  }\n",
              "\n",
              "  .colab-df-quickchart {\n",
              "    background-color: var(--bg-color);\n",
              "    border: none;\n",
              "    border-radius: 50%;\n",
              "    cursor: pointer;\n",
              "    display: none;\n",
              "    fill: var(--fill-color);\n",
              "    height: 32px;\n",
              "    padding: 0;\n",
              "    width: 32px;\n",
              "  }\n",
              "\n",
              "  .colab-df-quickchart:hover {\n",
              "    background-color: var(--hover-bg-color);\n",
              "    box-shadow: 0 1px 2px rgba(60, 64, 67, 0.3), 0 1px 3px 1px rgba(60, 64, 67, 0.15);\n",
              "    fill: var(--button-hover-fill-color);\n",
              "  }\n",
              "\n",
              "  .colab-df-quickchart-complete:disabled,\n",
              "  .colab-df-quickchart-complete:disabled:hover {\n",
              "    background-color: var(--disabled-bg-color);\n",
              "    fill: var(--disabled-fill-color);\n",
              "    box-shadow: none;\n",
              "  }\n",
              "\n",
              "  .colab-df-spinner {\n",
              "    border: 2px solid var(--fill-color);\n",
              "    border-color: transparent;\n",
              "    border-bottom-color: var(--fill-color);\n",
              "    animation:\n",
              "      spin 1s steps(1) infinite;\n",
              "  }\n",
              "\n",
              "  @keyframes spin {\n",
              "    0% {\n",
              "      border-color: transparent;\n",
              "      border-bottom-color: var(--fill-color);\n",
              "      border-left-color: var(--fill-color);\n",
              "    }\n",
              "    20% {\n",
              "      border-color: transparent;\n",
              "      border-left-color: var(--fill-color);\n",
              "      border-top-color: var(--fill-color);\n",
              "    }\n",
              "    30% {\n",
              "      border-color: transparent;\n",
              "      border-left-color: var(--fill-color);\n",
              "      border-top-color: var(--fill-color);\n",
              "      border-right-color: var(--fill-color);\n",
              "    }\n",
              "    40% {\n",
              "      border-color: transparent;\n",
              "      border-right-color: var(--fill-color);\n",
              "      border-top-color: var(--fill-color);\n",
              "    }\n",
              "    60% {\n",
              "      border-color: transparent;\n",
              "      border-right-color: var(--fill-color);\n",
              "    }\n",
              "    80% {\n",
              "      border-color: transparent;\n",
              "      border-right-color: var(--fill-color);\n",
              "      border-bottom-color: var(--fill-color);\n",
              "    }\n",
              "    90% {\n",
              "      border-color: transparent;\n",
              "      border-bottom-color: var(--fill-color);\n",
              "    }\n",
              "  }\n",
              "</style>\n",
              "\n",
              "      <script>\n",
              "        async function quickchart(key) {\n",
              "          const quickchartButtonEl =\n",
              "            document.querySelector('#' + key + ' button');\n",
              "          quickchartButtonEl.disabled = true;  // To prevent multiple clicks.\n",
              "          quickchartButtonEl.classList.add('colab-df-spinner');\n",
              "          try {\n",
              "            const charts = await google.colab.kernel.invokeFunction(\n",
              "                'suggestCharts', [key], {});\n",
              "          } catch (error) {\n",
              "            console.error('Error during call to suggestCharts:', error);\n",
              "          }\n",
              "          quickchartButtonEl.classList.remove('colab-df-spinner');\n",
              "          quickchartButtonEl.classList.add('colab-df-quickchart-complete');\n",
              "        }\n",
              "        (() => {\n",
              "          let quickchartButtonEl =\n",
              "            document.querySelector('#df-04d48bfe-160e-46ff-a373-666989c9bd26 button');\n",
              "          quickchartButtonEl.style.display =\n",
              "            google.colab.kernel.accessAllowed ? 'block' : 'none';\n",
              "        })();\n",
              "      </script>\n",
              "    </div>\n",
              "\n",
              "  <div id=\"id_bcd9c74d-3dcc-4667-9f15-c108c7d7ad97\">\n",
              "    <style>\n",
              "      .colab-df-generate {\n",
              "        background-color: #E8F0FE;\n",
              "        border: none;\n",
              "        border-radius: 50%;\n",
              "        cursor: pointer;\n",
              "        display: none;\n",
              "        fill: #1967D2;\n",
              "        height: 32px;\n",
              "        padding: 0 0 0 0;\n",
              "        width: 32px;\n",
              "      }\n",
              "\n",
              "      .colab-df-generate:hover {\n",
              "        background-color: #E2EBFA;\n",
              "        box-shadow: 0px 1px 2px rgba(60, 64, 67, 0.3), 0px 1px 3px 1px rgba(60, 64, 67, 0.15);\n",
              "        fill: #174EA6;\n",
              "      }\n",
              "\n",
              "      [theme=dark] .colab-df-generate {\n",
              "        background-color: #3B4455;\n",
              "        fill: #D2E3FC;\n",
              "      }\n",
              "\n",
              "      [theme=dark] .colab-df-generate:hover {\n",
              "        background-color: #434B5C;\n",
              "        box-shadow: 0px 1px 3px 1px rgba(0, 0, 0, 0.15);\n",
              "        filter: drop-shadow(0px 1px 2px rgba(0, 0, 0, 0.3));\n",
              "        fill: #FFFFFF;\n",
              "      }\n",
              "    </style>\n",
              "    <button class=\"colab-df-generate\" onclick=\"generateWithVariable('df')\"\n",
              "            title=\"Generate code using this dataframe.\"\n",
              "            style=\"display:none;\">\n",
              "\n",
              "  <svg xmlns=\"http://www.w3.org/2000/svg\" height=\"24px\"viewBox=\"0 0 24 24\"\n",
              "       width=\"24px\">\n",
              "    <path d=\"M7,19H8.4L18.45,9,17,7.55,7,17.6ZM5,21V16.75L18.45,3.32a2,2,0,0,1,2.83,0l1.4,1.43a1.91,1.91,0,0,1,.58,1.4,1.91,1.91,0,0,1-.58,1.4L9.25,21ZM18.45,9,17,7.55Zm-12,3A5.31,5.31,0,0,0,4.9,8.1,5.31,5.31,0,0,0,1,6.5,5.31,5.31,0,0,0,4.9,4.9,5.31,5.31,0,0,0,6.5,1,5.31,5.31,0,0,0,8.1,4.9,5.31,5.31,0,0,0,12,6.5,5.46,5.46,0,0,0,6.5,12Z\"/>\n",
              "  </svg>\n",
              "    </button>\n",
              "    <script>\n",
              "      (() => {\n",
              "      const buttonEl =\n",
              "        document.querySelector('#id_bcd9c74d-3dcc-4667-9f15-c108c7d7ad97 button.colab-df-generate');\n",
              "      buttonEl.style.display =\n",
              "        google.colab.kernel.accessAllowed ? 'block' : 'none';\n",
              "\n",
              "      buttonEl.onclick = () => {\n",
              "        google.colab.notebook.generateWithVariable('df');\n",
              "      }\n",
              "      })();\n",
              "    </script>\n",
              "  </div>\n",
              "\n",
              "    </div>\n",
              "  </div>\n"
            ],
            "application/vnd.google.colaboratory.intrinsic+json": {
              "type": "dataframe",
              "variable_name": "df",
              "summary": "{\n  \"name\": \"df\",\n  \"rows\": 3,\n  \"fields\": [\n    {\n      \"column\": \"Name\",\n      \"properties\": {\n        \"dtype\": \"string\",\n        \"num_unique_values\": 3,\n        \"samples\": [\n          \"Alice\",\n          \"Bob\",\n          \"Charlie\"\n        ],\n        \"semantic_type\": \"\",\n        \"description\": \"\"\n      }\n    },\n    {\n      \"column\": \"Gender\",\n      \"properties\": {\n        \"dtype\": \"string\",\n        \"num_unique_values\": 2,\n        \"samples\": [\n          \"Male\",\n          \"Female\"\n        ],\n        \"semantic_type\": \"\",\n        \"description\": \"\"\n      }\n    },\n    {\n      \"column\": \"Satisfaction\",\n      \"properties\": {\n        \"dtype\": \"string\",\n        \"num_unique_values\": 3,\n        \"samples\": [\n          \"High\",\n          \"Medium\"\n        ],\n        \"semantic_type\": \"\",\n        \"description\": \"\"\n      }\n    },\n    {\n      \"column\": \"Age\",\n      \"properties\": {\n        \"dtype\": \"number\",\n        \"std\": 5,\n        \"min\": 25,\n        \"max\": 35,\n        \"num_unique_values\": 3,\n        \"samples\": [\n          25,\n          30\n        ],\n        \"semantic_type\": \"\",\n        \"description\": \"\"\n      }\n    },\n    {\n      \"column\": \"Temperature\",\n      \"properties\": {\n        \"dtype\": \"number\",\n        \"std\": 0.30550504633039055,\n        \"min\": 36.6,\n        \"max\": 37.2,\n        \"num_unique_values\": 3,\n        \"samples\": [\n          36.6,\n          37.2\n        ],\n        \"semantic_type\": \"\",\n        \"description\": \"\"\n      }\n    }\n  ]\n}"
            }
          },
          "metadata": {},
          "execution_count": 1
        }
      ]
    },
    {
      "cell_type": "markdown",
      "source": [
        "### 1.3 Descriptive vs Inferential Statistics\n",
        "- Descriptive Statistics\n",
        "  - Summarizes and describes data.\n",
        "  - Examples: Mean, Median, Mode, Standard Deviation.\n",
        "- Inferential Statistics\n",
        "  - Uses sample data to make inferences about a population.\n",
        "  - Examples: Hypothesis Testing, Confidence Intervals."
      ],
      "metadata": {
        "id": "SXwSb_QYJHz9"
      }
    },
    {
      "cell_type": "markdown",
      "source": [
        "### 1.4 Scales of Measurement\n",
        "\n",
        "| **Scale** | **Description**                      | **Example**                      |\n",
        "|-----------|--------------------------------------|----------------------------------|\n",
        "| Nominal   | Categories with no order             | Colors: Red, Blue, Green         |\n",
        "| Ordinal   | Ordered categories                   | Satisfaction: Low → High         |\n",
        "| Interval  | Equal intervals, no true zero        | Temperature in °C                |\n",
        "| Ratio     | Equal intervals, true zero exists    | Age, Weight, Distance            |\n",
        "\n"
      ],
      "metadata": {
        "id": "zKmBKuPKJZLn"
      }
    },
    {
      "cell_type": "markdown",
      "source": [
        "#Section 2: Describing Categorical Data"
      ],
      "metadata": {
        "id": "_AXKDGjXJ0Hy"
      }
    },
    {
      "cell_type": "markdown",
      "source": [
        "### 2.1 Frequency Distribution of Categorical Data\n",
        "- A frequency distribution shows how often each category occurs.\n",
        "- Helpful to summarize nominal or ordinal data."
      ],
      "metadata": {
        "id": "ut_flUDVJ7za"
      }
    },
    {
      "cell_type": "code",
      "source": [
        "import pandas as pd\n",
        "\n",
        "data = {'Color': ['Red', 'Blue', 'Green', 'Red', 'Green', 'Blue', 'Red']}\n",
        "df = pd.DataFrame(data)\n",
        "\n",
        "# Frequency count\n",
        "freq = df['Color'].value_counts()\n",
        "print(freq)"
      ],
      "metadata": {
        "colab": {
          "base_uri": "https://localhost:8080/"
        },
        "id": "a30ewYJRJ_x3",
        "outputId": "2c834112-3cd9-48d5-d07c-2a0703984a04"
      },
      "execution_count": null,
      "outputs": [
        {
          "output_type": "stream",
          "name": "stdout",
          "text": [
            "Color\n",
            "Red      3\n",
            "Blue     2\n",
            "Green    2\n",
            "Name: count, dtype: int64\n"
          ]
        }
      ]
    },
    {
      "cell_type": "markdown",
      "source": [
        "### 2.2 Best Practices for Graphing Categorical Data\n",
        "-  bar charts or pie charts for categorical data.\n",
        "- Avoid histograms (they are for numerical data)."
      ],
      "metadata": {
        "id": "HuS_mo55KGdT"
      }
    },
    {
      "cell_type": "code",
      "source": [
        "import matplotlib.pyplot as plt\n",
        "\n",
        "freq.plot(kind='bar', color=['red', 'blue', 'green'])\n",
        "plt.title(\"Color Frequency\")\n",
        "plt.xlabel(\"Color\")\n",
        "plt.ylabel(\"Count\")\n",
        "plt.show()"
      ],
      "metadata": {
        "colab": {
          "base_uri": "https://localhost:8080/",
          "height": 500
        },
        "id": "UwBlL3XbKIeG",
        "outputId": "8a358214-1035-4b3c-84a0-1117091b6bfe"
      },
      "execution_count": null,
      "outputs": [
        {
          "output_type": "display_data",
          "data": {
            "text/plain": [
              "<Figure size 640x480 with 1 Axes>"
            ],
            "image/png": "[encoded data removed]"
          },
          "metadata": {}
        }
      ]
    },
    {
      "cell_type": "markdown",
      "source": [
        "### 2.3 Mode and Median for Categorical Variables\n",
        "- Mode: Most frequently occurring category.\n",
        "- Median: Only meaningful for ordinal data (with ordered categories).\n",
        "- Note: Median is not defined for nominal variables."
      ],
      "metadata": {
        "id": "5_bsoWQgKK6k"
      }
    },
    {
      "cell_type": "code",
      "source": [
        "mode_color = df['Color'].mode()[0]\n",
        "print(\"Mode:\", mode_color)"
      ],
      "metadata": {
        "colab": {
          "base_uri": "https://localhost:8080/"
        },
        "id": "yfU47r6sKQfA",
        "outputId": "f4b49aee-47f4-483c-fa52-670914b78ae6"
      },
      "execution_count": null,
      "outputs": [
        {
          "output_type": "stream",
          "name": "stdout",
          "text": [
            "Mode: Red\n"
          ]
        }
      ]
    },
    {
      "cell_type": "markdown",
      "source": [
        "#Section 3: Describing Numerical Data"
      ],
      "metadata": {
        "id": "GIr6NC6QKZTH"
      }
    },
    {
      "cell_type": "markdown",
      "source": [
        "### 3.1 Frequency Tables for Numerical Data\n",
        "- Grouping data into intervals (called bins) helps in understanding the distribution."
      ],
      "metadata": {
        "id": "MEKa8RR-Kflq"
      }
    },
    {
      "cell_type": "code",
      "source": [
        "import pandas as pd\n",
        "\n",
        "data = {'Scores': [45, 78, 56, 89, 90, 67, 55, 49, 72, 84]}\n",
        "df = pd.DataFrame(data)\n",
        "\n",
        "# Frequency table using bins\n",
        "freq_table = pd.cut(df['Scores'], bins=[40, 60, 70, 80, 100]).value_counts().sort_index()\n",
        "print(freq_table)"
      ],
      "metadata": {
        "colab": {
          "base_uri": "https://localhost:8080/"
        },
        "id": "igGCE-OAKdsK",
        "outputId": "dc56c5fa-5446-40d1-bafb-53df8ea76173"
      },
      "execution_count": null,
      "outputs": [
        {
          "output_type": "stream",
          "name": "stdout",
          "text": [
            "Scores\n",
            "(40, 60]     4\n",
            "(60, 70]     1\n",
            "(70, 80]     2\n",
            "(80, 100]    3\n",
            "Name: count, dtype: int64\n"
          ]
        }
      ]
    },
    {
      "cell_type": "markdown",
      "source": [
        "### 3.2 Measures of Central Tendency\n",
        "- Mean: Average\n",
        "- Median: Middle value\n",
        "- Mode: Most frequent value"
      ],
      "metadata": {
        "id": "bear6MxdKm5u"
      }
    },
    {
      "cell_type": "code",
      "source": [
        "mean = df['Scores'].mean()\n",
        "median = df['Scores'].median()\n",
        "mode = df['Scores'].mode()[0]\n",
        "\n",
        "print(\"Mean:\", mean)\n",
        "print(\"Median:\", median)\n",
        "print(\"Mode:\", mode)"
      ],
      "metadata": {
        "colab": {
          "base_uri": "https://localhost:8080/"
        },
        "id": "LPO3YQnxKrcA",
        "outputId": "8c77f975-7b5f-424a-9604-f656a25e06cb"
      },
      "execution_count": null,
      "outputs": [
        {
          "output_type": "stream",
          "name": "stdout",
          "text": [
            "Mean: 68.5\n",
            "Median: 69.5\n",
            "Mode: 45\n"
          ]
        }
      ]
    },
    {
      "cell_type": "markdown",
      "source": [
        "### 3.3 Quartiles and Percentiles\n",
        "- Quartiles: Split data into 4 parts\n",
        "- Percentiles: Split data into 100 parts"
      ],
      "metadata": {
        "id": "a0HmmjWaKu9e"
      }
    },
    {
      "cell_type": "code",
      "source": [
        "q1 = df['Scores'].quantile(0.25)\n",
        "q3 = df['Scores'].quantile(0.75)\n",
        "percentile_90 = df['Scores'].quantile(0.90)\n",
        "\n",
        "print(\"Q1:\", q1)\n",
        "print(\"Q3:\", q3)\n",
        "print(\"90th Percentile:\", percentile_90)"
      ],
      "metadata": {
        "colab": {
          "base_uri": "https://localhost:8080/"
        },
        "id": "3mvUraFUKyXi",
        "outputId": "b1466536-895c-4ea0-9cdb-6a8c540e0e41"
      },
      "execution_count": null,
      "outputs": [
        {
          "output_type": "stream",
          "name": "stdout",
          "text": [
            "Q1: 55.25\n",
            "Q3: 82.5\n",
            "90th Percentile: 89.1\n"
          ]
        }
      ]
    },
    {
      "cell_type": "markdown",
      "source": [
        "### 3.4 Measures of Dispersion\n",
        "- Range = Max - Min\n",
        "- Variance = Average of squared deviations from the mean\n",
        "- Standard Deviation = Square root of variance\n",
        "- Interquartile Range (IQR) = Q3 - Q1"
      ],
      "metadata": {
        "id": "Vv7C_PQGK1kV"
      }
    },
    {
      "cell_type": "code",
      "source": [
        "range_val = df['Scores'].max() - df['Scores'].min()\n",
        "variance = df['Scores'].var()\n",
        "std_dev = df['Scores'].std()\n",
        "iqr = q3 - q1\n",
        "\n",
        "print(\"Range:\", range_val)\n",
        "print(\"Variance:\", variance)\n",
        "print(\"Standard Deviation:\", std_dev)\n",
        "print(\"IQR:\", iqr)"
      ],
      "metadata": {
        "colab": {
          "base_uri": "https://localhost:8080/"
        },
        "id": "DwZC4ZisK7dg",
        "outputId": "961f1fa2-c2a6-41ef-9218-a68489b98de7"
      },
      "execution_count": null,
      "outputs": [
        {
          "output_type": "stream",
          "name": "stdout",
          "text": [
            "Range: 45\n",
            "Variance: 277.6111111111111\n",
            "Standard Deviation: 16.66166591644158\n",
            "IQR: 27.25\n"
          ]
        }
      ]
    },
    {
      "cell_type": "markdown",
      "source": [
        "### 3.5 Five Number Summary\n",
        "- Includes: Min, Q1, Median, Q3, Max"
      ],
      "metadata": {
        "id": "xc4koyoWLC2f"
      }
    },
    {
      "cell_type": "code",
      "source": [
        "summary = df['Scores'].describe()\n",
        "print(summary[['min', '25%', '50%', '75%', 'max']])"
      ],
      "metadata": {
        "colab": {
          "base_uri": "https://localhost:8080/"
        },
        "id": "dcWOQxviLEGr",
        "outputId": "f5731108-f3ab-49cb-a3bf-5119921ece3d"
      },
      "execution_count": null,
      "outputs": [
        {
          "output_type": "stream",
          "name": "stdout",
          "text": [
            "min    45.00\n",
            "25%    55.25\n",
            "50%    69.50\n",
            "75%    82.50\n",
            "max    90.00\n",
            "Name: Scores, dtype: float64\n"
          ]
        }
      ]
    },
    {
      "cell_type": "markdown",
      "source": [
        "#Section 4: Association Between Two Variables"
      ],
      "metadata": {
        "id": "M77R0vz2LIyb"
      }
    },
    {
      "cell_type": "markdown",
      "source": [
        "### 4.1 Covariance\n",
        "- Covariance tells us how two variables vary together:\n",
        "  - Positive value → as one increases, the other tends to increase.\n",
        "  - Negative value → as one increases, the other tends to decrease.\n",
        "  - Near zero → no consistent relationship.\n",
        "- Note: The magnitude of covariance is not standardized, so it depends on units and scale of the variables."
      ],
      "metadata": {
        "id": "G5fK9EUlLQi7"
      }
    },
    {
      "cell_type": "code",
      "source": [
        "import pandas as pd\n",
        "\n",
        "data = {\n",
        "    'Hours_Studied': [2, 4, 6, 8, 10],\n",
        "    'Exam_Score': [50, 60, 65, 70, 85]\n",
        "}\n",
        "df = pd.DataFrame(data)\n",
        "\n",
        "covariance = df.cov().iloc[0, 1]\n",
        "print(\"Covariance:\", covariance)"
      ],
      "metadata": {
        "colab": {
          "base_uri": "https://localhost:8080/"
        },
        "id": "uS8yP21ILNrm",
        "outputId": "29f2dc69-39c8-4670-d2a7-63fe2d27346e"
      },
      "execution_count": null,
      "outputs": [
        {
          "output_type": "stream",
          "name": "stdout",
          "text": [
            "Covariance: 40.0\n"
          ]
        }
      ]
    },
    {
      "cell_type": "markdown",
      "source": [
        "### 4.2 Correlation\n",
        "- Correlation measures the strength and direction of a linear relationship between two variables.\n",
        "- It is unitless and always lies in the range: –1 to +1.\n",
        "- ### Correlation Coefficient (r) Interpretation Table\n",
        "\n",
        "| **Correlation Value (r)** | **Interpretation**                        |\n",
        "|---------------------------|-------------------------------------------|\n",
        "| +1.0                      | Perfect positive linear relationship      |\n",
        "| +0.7 to +0.9              | Strong positive                           |\n",
        "| +0.4 to +0.6              | Moderate positive                         |\n",
        "| +0.1 to +0.3              | Weak positive                             |\n",
        "| 0                         | No correlation                            |\n",
        "| –0.1 to –0.3              | Weak negative                             |\n",
        "| –0.4 to –0.6              | Moderate negative                         |\n",
        "| –0.7 to –0.9              | Strong negative                           |\n",
        "| –1.0                      | Perfect negative linear relationship      |\n"
      ],
      "metadata": {
        "id": "2qjAI87LLeQa"
      }
    },
    {
      "cell_type": "code",
      "source": [
        "correlation = df.corr().iloc[0, 1]\n",
        "print(\"Correlation Coefficient:\", correlation)"
      ],
      "metadata": {
        "colab": {
          "base_uri": "https://localhost:8080/"
        },
        "id": "Krnai-cdLg8K",
        "outputId": "eff8cc1b-8695-403d-9b92-e551dbaa9f64"
      },
      "execution_count": null,
      "outputs": [
        {
          "output_type": "stream",
          "name": "stdout",
          "text": [
            "Correlation Coefficient: 0.9773555548504419\n"
          ]
        }
      ]
    },
    {
      "cell_type": "markdown",
      "source": [
        "### 4.3 Scatter Plots\n",
        "- Visual representation of relationship between two numerical variables.\n",
        "- You can visually see:\n",
        "  - Upward slope → positive correlation\n",
        "  - Downward slope → negative correlation\n",
        "  - No pattern → weak or no correlation"
      ],
      "metadata": {
        "id": "WtaHWC9oLj7i"
      }
    },
    {
      "cell_type": "code",
      "source": [
        "import matplotlib.pyplot as plt\n",
        "\n",
        "plt.scatter(df['Hours_Studied'], df['Exam_Score'])\n",
        "plt.xlabel(\"Hours Studied\")\n",
        "plt.ylabel(\"Exam Score\")\n",
        "plt.title(\"Scatter Plot: Hours vs Exam Score\")\n",
        "plt.grid(True)\n",
        "plt.show()"
      ],
      "metadata": {
        "colab": {
          "base_uri": "https://localhost:8080/",
          "height": 472
        },
        "id": "V-cyQ7IDLm3K",
        "outputId": "1e356353-4538-4b52-e48f-f98b7195ff04"
      },
      "execution_count": null,
      "outputs": [
        {
          "output_type": "display_data",
          "data": {
            "text/plain": [
              "<Figure size 640x480 with 1 Axes>"
            ],
            "image/png": "[encoded data removed]"
          },
          "metadata": {}
        }
      ]
    },
    {
      "cell_type": "markdown",
      "source": [
        "#Section 5: Introduction to Probability\n"
      ],
      "metadata": {
        "id": "J4DV-Yn_Mcwy"
      }
    },
    {
      "cell_type": "markdown",
      "source": [
        "### 5.1 What is Probability?\n",
        "- Probability measures how likely an event is to occur, expressed as a value between 0 and 1.\n",
        "  - 0 → Impossible event\n",
        "  - 1 → Certain event\n",
        "  - 0.5 → 50-50 chance\n",
        "- Think of flipping a fair coin:\n",
        "  - Probability(Heads) = 0.5\n",
        "  - Probability(Tails) = 0.5"
      ],
      "metadata": {
        "id": "VVnI_DtMMf7_"
      }
    },
    {
      "cell_type": "markdown",
      "source": [
        "### 5.2 Types of Events\n",
        "- Simple Event: One outcome (e.g., rolling a 3)\n",
        "- Compound Event: More than one outcome (e.g., rolling an odd number)\n",
        "- Complementary Event: Probability of event not happening\n",
        "  - P(Not A) = 1 – P(A)"
      ],
      "metadata": {
        "id": "HeoSoU5_MyLH"
      }
    },
    {
      "cell_type": "markdown",
      "source": [
        "### 5.3 Sample Space\n",
        "- The set of all possible outcomes of a random experiment."
      ],
      "metadata": {
        "id": "TYYiotu7M4SQ"
      }
    },
    {
      "cell_type": "code",
      "source": [
        "# Example: Rolling a die\n",
        "sample_space = [1, 2, 3, 4, 5, 6]\n",
        "print(\"Sample Space:\", sample_space)"
      ],
      "metadata": {
        "colab": {
          "base_uri": "https://localhost:8080/"
        },
        "id": "HC6GyhERM2Zx",
        "outputId": "ab67e934-36ac-43bb-9222-1ba5d2c88b89"
      },
      "execution_count": null,
      "outputs": [
        {
          "output_type": "stream",
          "name": "stdout",
          "text": [
            "Sample Space: [1, 2, 3, 4, 5, 6]\n"
          ]
        }
      ]
    },
    {
      "cell_type": "markdown",
      "source": [
        "### 5.4 Classical (Theoretical) Probability\n",
        "- The probability of an event \\( E \\) is given by:\n",
        "\n",
        "$$\n",
        "P(E) = \\frac{\\text{Number of favorable outcomes}}{\\text{Total number of outcomes}}\n",
        "$$\n"
      ],
      "metadata": {
        "id": "5gIYb0hOM9W1"
      }
    },
    {
      "cell_type": "code",
      "source": [
        "# Probability of rolling a 4 on a die\n",
        "P_4 = 1 / 6\n",
        "print(\"P(rolling 4):\", P_4)"
      ],
      "metadata": {
        "colab": {
          "base_uri": "https://localhost:8080/"
        },
        "id": "9e4RodxJNEbr",
        "outputId": "bfcdc463-0cc9-4922-ec99-75d284f0a43e"
      },
      "execution_count": null,
      "outputs": [
        {
          "output_type": "stream",
          "name": "stdout",
          "text": [
            "P(rolling 4): 0.16666666666666666\n"
          ]
        }
      ]
    },
    {
      "cell_type": "markdown",
      "source": [
        "### 5.5 Empirical (Experimental) Probability\n",
        "- Empirical probability is based on actual experiments or observed data. The formula is:\n",
        "\n",
        "$$\n",
        "P(E) = \\frac{\\text{Frequency of } E}{\\text{Total number of trials}}\n",
        "$$\n"
      ],
      "metadata": {
        "id": "DxPVzEsnNQSH"
      }
    },
    {
      "cell_type": "code",
      "source": [
        "# Example: 100 students, 60 passed\n",
        "P_pass = 60 / 100\n",
        "print(\"P(Pass):\", P_pass)"
      ],
      "metadata": {
        "colab": {
          "base_uri": "https://localhost:8080/"
        },
        "id": "gFGkPMtqNY8g",
        "outputId": "b01daf0a-3c16-4ebe-f81a-a69dbc4a44d1"
      },
      "execution_count": null,
      "outputs": [
        {
          "output_type": "stream",
          "name": "stdout",
          "text": [
            "P(Pass): 0.6\n"
          ]
        }
      ]
    },
    {
      "cell_type": "markdown",
      "source": [
        "### 5.6 Properties of Probability\n",
        "\n",
        "1. Probability of any event lies between 0 and 1:\n",
        "\n",
        "$$\n",
        "0 \\leq P(E) \\leq 1\n",
        "$$\n",
        "\n",
        "2. The probability of the sample space is 1:\n",
        "\n",
        "$$\n",
        "P(S) = 1 \\quad \\text{(where \\( S \\) is the sample space)}\n",
        "$$\n",
        "\n",
        "3. Addition rule for any two events:\n",
        "\n",
        "$$\n",
        "P(A \\cup B) = P(A) + P(B) - P(A \\cap B)\n",
        "$$\n",
        "\n",
        "4. If A and B are **mutually exclusive** (i.e., \\( A \\cap B = \\varnothing \\)):\n",
        "\n",
        "$$\n",
        "P(A \\cup B) = P(A) + P(B)\n",
        "$$\n"
      ],
      "metadata": {
        "id": "EA7h8jBXNcPR"
      }
    },
    {
      "cell_type": "markdown",
      "source": [
        "#Section 6: Conditional Probability & Bayes’ Theorem"
      ],
      "metadata": {
        "id": "-J_eTXsbNtEO"
      }
    },
    {
      "cell_type": "markdown",
      "source": [
        "### 6.1 What is Conditional Probability?\n",
        "\n",
        "- Conditional probability measures the probability of an event **given that another event has already occurred**.\n",
        "- **Notation:**\n",
        "\n",
        "$$\n",
        "P(A \\mid B) = \\frac{P(A \\cap B)}{P(B)} \\quad \\text{(provided } P(B) \\ne 0\\text{)}\n",
        "$$\n",
        "\n",
        "- This reads as:  \n",
        "  - **\"Probability of A given B\"** = Probability of both A and B occurring divided by the probability of B.\n",
        "- **Example:**\n",
        "  - Let:\n",
        "    - \\( A \\) = \"student passed math\"  \n",
        "    - \\( B \\) = \"student passed science\"  \n",
        "- Then:\n",
        "\n",
        "$$\n",
        "P(A \\mid B) = \\text{Probability that a student passed math given they passed science}\n",
        "$$\n"
      ],
      "metadata": {
        "id": "9jbl28jLNvJy"
      }
    },
    {
      "cell_type": "markdown",
      "source": [
        "### 6.2 Independence of Events\n",
        "- Two events A and B are independent if:\n",
        "\n",
        "$$\n",
        "P(A \\cap B) = P(A) \\cdot P(B)\n",
        "$$\n",
        "\n",
        "- Which means the outcome of one does not affect the other.\n"
      ],
      "metadata": {
        "id": "-kUhQ5GpOTMO"
      }
    },
    {
      "cell_type": "code",
      "source": [
        "# Tossing two coins\n",
        "P_heads_1 = 0.5\n",
        "P_heads_2 = 0.5\n",
        "P_both_heads = P_heads_1 * P_heads_2\n",
        "print(\"P(Both heads):\", P_both_heads)"
      ],
      "metadata": {
        "colab": {
          "base_uri": "https://localhost:8080/"
        },
        "id": "wqRhIATDOPwH",
        "outputId": "f62862ac-4f7d-48e9-a914-6fe65b19c049"
      },
      "execution_count": null,
      "outputs": [
        {
          "output_type": "stream",
          "name": "stdout",
          "text": [
            "P(Both heads): 0.25\n"
          ]
        }
      ]
    },
    {
      "cell_type": "markdown",
      "source": [
        "### 6.3 Law of Total Probability\n",
        "\n",
        "If events (B1,B2,.....Bi) are **mutually exclusive** and **exhaustive** (i.e., they cover the entire sample space), then the probability of event \\( A \\) is given by:\n",
        "\n",
        "$$\n",
        "P(A) = \\sum_{i=1}^{n} P(A \\mid B_i) \\cdot P(B_i)\n",
        "$$\n",
        "\n",
        "- **Used when** we break down a complex event into smaller, manageable conditional parts based on known partitions of the sample space.\n"
      ],
      "metadata": {
        "id": "tHEON9laOnke"
      }
    },
    {
      "cell_type": "markdown",
      "source": [
        "### 6.4 Bayes’ Theorem\n",
        "- Bayes' Theorem helps us **update probabilities** based on new evidence.\n",
        "\n",
        "$$\n",
        "P(B \\mid A) = \\frac{P(A \\mid B) \\cdot P(B)}{P(A)}\n",
        "$$\n",
        "\n",
        "- Where:\n",
        "\n",
        "  -  P(B | A) : Posterior probability (probability of **B given A**)\n",
        "  -  P(A | B) : Likelihood (probability of **A given B**)\n",
        "  -  P(B) : Prior probability of B  \n",
        "  -  P(A) : Total probability of A\n",
        "\n",
        "- **Real-World Example (Medical Test):**\n",
        "  -  B  = Person **has the disease**  \n",
        "  -  A  = Person **tests positive**\n",
        "- Bayes helps us find:\n",
        "\n",
        "$$\n",
        "P(\\text{Has disease} \\mid \\text{Tested positive})\n",
        "$$\n"
      ],
      "metadata": {
        "id": "s6bNjHgEPEil"
      }
    },
    {
      "cell_type": "code",
      "source": [
        "# Example: Bayes' Theorem\n",
        "P_D = 0.01              # Prior: 1% have disease\n",
        "P_Pos_D = 0.99          # 99% accurate if diseased\n",
        "P_Pos_notD = 0.05       # 5% false positive\n",
        "\n",
        "P_notD = 0.99\n",
        "P_Pos = P_Pos_D * P_D + P_Pos_notD * P_notD\n",
        "\n",
        "# Bayes' result\n",
        "P_D_Pos = (P_Pos_D * P_D) / P_Pos\n",
        "print(\"P(Disease | Positive Test):\", round(P_D_Pos, 3))"
      ],
      "metadata": {
        "colab": {
          "base_uri": "https://localhost:8080/"
        },
        "id": "eBOlH7J0Qf2M",
        "outputId": "544dd9dc-ee37-4ce2-e5f5-d72404ffa775"
      },
      "execution_count": null,
      "outputs": [
        {
          "output_type": "stream",
          "name": "stdout",
          "text": [
            "P(Disease | Positive Test): 0.167\n"
          ]
        }
      ]
    },
    {
      "cell_type": "markdown",
      "source": [
        "#Section 7 – Random Variables (Discrete + Continuous)"
      ],
      "metadata": {
        "id": "EOabp9OVQpxT"
      }
    },
    {
      "cell_type": "markdown",
      "source": [
        "### 7.1 Random Variable and its types\n",
        "  - A random variable assigns numerical values to outcomes of a random experiment.\n",
        "\n",
        "- Types of Random variables:\n",
        "\n",
        "| Type           | Description                         | Examples                 |\n",
        "| -------------- | ----------------------------------- | ------------------------ |\n",
        "| **Discrete**   | Takes finite/countable values       | No. of heads, dice rolls |\n",
        "| **Continuous** | Takes values in a range (intervals) | Height, weight, time     |\n",
        "\n",
        "- Key Takeaway:\n",
        "  - Random variables convert random outcomes into numerical analysis, forming the base of probabilistic modeling in AI/ML.\n",
        "\n"
      ],
      "metadata": {
        "id": "vwB0fVuiQrIz"
      }
    },
    {
      "cell_type": "markdown",
      "source": [
        "### 7.2 Discrete Random Variable\n",
        "- A **Discrete Random Variable** is defined by a **Probability Mass Function (PMF)**:\n",
        "\n",
        "$$\n",
        "P(X = x_i) = p_i \\quad \\text{where} \\quad \\sum p_i = 1\n",
        "$$\n",
        "\n",
        "- **Example: Dice Roll**\n",
        "\n",
        "  - Let \\( X \\) be the number that appears on a fair six-sided die.\n",
        "\n",
        "$$\n",
        "P(X = 1) = \\frac{1}{6}, \\quad P(X = 2) = \\frac{1}{6}, \\quad \\dots, \\quad P(X = 6) = \\frac{1}{6}\n",
        "$$\n"
      ],
      "metadata": {
        "id": "RGbqY6Z-RSjV"
      }
    },
    {
      "cell_type": "code",
      "source": [
        "# PMF of die roll\n",
        "import matplotlib.pyplot as plt\n",
        "\n",
        "x = [1, 2, 3, 4, 5, 6]\n",
        "p = [1/6]*6\n",
        "plt.bar(x, p)\n",
        "plt.title(\"PMF of Die Roll\")\n",
        "plt.xlabel(\"X\")\n",
        "plt.ylabel(\"P(X)\")\n",
        "plt.show()"
      ],
      "metadata": {
        "colab": {
          "base_uri": "https://localhost:8080/",
          "height": 472
        },
        "id": "PvPY-WvlRboo",
        "outputId": "97a76bc5-8269-4258-b1ed-61ddafd597ed"
      },
      "execution_count": null,
      "outputs": [
        {
          "output_type": "display_data",
          "data": {
            "text/plain": [
              "<Figure size 640x480 with 1 Axes>"
            ],
            "image/png": "[encoded data removed]"
          },
          "metadata": {}
        }
      ]
    },
    {
      "cell_type": "markdown",
      "source": [
        "### 7.3 Continuous Random Variable\n",
        "- A **Continuous Random Variable** is defined by a **Probability Density Function (PDF)**:\n",
        "\n",
        "$$\n",
        "P(a \\leq X \\leq b) = \\int_{a}^{b} f(x) \\, dx\n",
        "$$\n",
        "\n",
        "  - The probability is **area under the curve** of the PDF between \\( a \\) and \\( b \\).\n",
        "  - The total area under the entire PDF curve is **1**.\n",
        "\n",
        "- **Example: Height of Students**\n",
        "  - Heights can take any value within a range (e.g., 150.2 cm, 160.5 cm, etc.)\n",
        "  - The PDF may resemble a **bell curve** (Normal distribution).\n"
      ],
      "metadata": {
        "id": "xIyK5WHgRkXV"
      }
    },
    {
      "cell_type": "code",
      "source": [
        "# Plot of a normal distribution\n",
        "import numpy as np\n",
        "from scipy.stats import norm\n",
        "\n",
        "x = np.linspace(-3, 3, 100)\n",
        "y = norm.pdf(x, 0, 1)\n",
        "plt.plot(x, y)\n",
        "plt.title(\"Normal Distribution (PDF)\")\n",
        "plt.xlabel(\"x\")\n",
        "plt.ylabel(\"f(x)\")\n",
        "plt.grid(True)\n",
        "plt.show()"
      ],
      "metadata": {
        "colab": {
          "base_uri": "https://localhost:8080/",
          "height": 472
        },
        "id": "9e5AUnQeRwI9",
        "outputId": "f9e05cb7-5fbc-4f27-d0ad-4560b9de97b9"
      },
      "execution_count": null,
      "outputs": [
        {
          "output_type": "display_data",
          "data": {
            "text/plain": [
              "<Figure size 640x480 with 1 Axes>"
            ],
            "image/png": "[encoded data removed]"
          },
          "metadata": {}
        }
      ]
    },
    {
      "cell_type": "markdown",
      "source": [
        "### 7.4 Cumulative Distribution Function (CDF)\n",
        "- The **Cumulative Distribution Function (CDF)** gives the probability that the variable takes a value **less than or equal to** \\( x \\):\n",
        "\n",
        "$$\n",
        "F(x) = P(X \\leq x)\n",
        "$$"
      ],
      "metadata": {
        "id": "VXUg6bzjRzvW"
      }
    },
    {
      "cell_type": "markdown",
      "source": [
        "### 7.5 Expectations and Variance\n",
        "\n",
        "#### For Discrete Random Variables\n",
        "\n",
        "- **Expectation (Mean):**\n",
        "\n",
        "$$\n",
        "E[X] = \\sum x_i \\cdot P(X = x_i)\n",
        "$$\n",
        "\n",
        "- **Variance:**\n",
        "\n",
        "$$\n",
        "\\text{Var}(X) = E[X^2] - (E[X])^2\n",
        "$$\n",
        "\n",
        "\n",
        "#### For Continuous Random Variables\n",
        "\n",
        "- **Expectation (Mean):**\n",
        "\n",
        "$$\n",
        "E[X] = \\int x \\cdot f(x) \\, dx\n",
        "$$\n",
        "\n",
        "- **Variance:**\n",
        "\n",
        "$$\n",
        "\\text{Var}(X) = \\int (x - E[X])^2 \\cdot f(x) \\, dx\n",
        "$$"
      ],
      "metadata": {
        "id": "qxtu1sEASE6_"
      }
    },
    {
      "cell_type": "markdown",
      "source": [
        "#Section 8: Discrete Distributions – Binomial & Poisson"
      ],
      "metadata": {
        "id": "GnJb_ADaUykT"
      }
    },
    {
      "cell_type": "markdown",
      "source": [
        "### Objectives:\n",
        "- Understand when to use Binomial and Poisson distributions.\n",
        "- Learn formulas for PMF, mean, and variance.\n",
        "- Implement examples in Python.\n",
        "- Visualize distributions.\n",
        "- Interpret outputs intuitively."
      ],
      "metadata": {
        "id": "WTPfFMo_U0mI"
      }
    },
    {
      "cell_type": "markdown",
      "source": [
        "###8.1 Binomial Distribution\n",
        "\n",
        "- When to Use:\n",
        "  - You perform n independent trials.\n",
        "  - Each trial has only two outcomes: **success** or **failure**.\n",
        "  - The probability of success p is constant across all trials.\n",
        "\n",
        "-  Probability Mass Function (PMF):\n",
        "\n",
        "$$\n",
        "P(X = k) = \\binom{n}{k} p^k (1 - p)^{n - k}\n",
        "$$\n",
        "\n",
        "  - where:\n",
        "    - n is the number of trials  \n",
        "    - k is the number of successes  \n",
        "     p is the probability of success in each trial  \n",
        "    - (1 - p) is the probability of failure  \n",
        "    - (n k) is the binomial coefficient: number of ways to choose k successes from n trials\n",
        "\n",
        "\n",
        "- Mean and Variance:\n",
        "\n",
        "  - **Mean**:  \n",
        "  $$\n",
        "  \\mu = E[X] = np\n",
        "  $$\n",
        "\n",
        "  - **Variance**:  \n",
        "  $$\n",
        "  \\sigma^2 = Var(X) = np(1 - p)\n",
        "  $$\n",
        "\n"
      ],
      "metadata": {
        "id": "HJgbjxRZU9fK"
      }
    },
    {
      "cell_type": "code",
      "source": [
        "from scipy.stats import binom\n",
        "import matplotlib.pyplot as plt\n",
        "\n",
        "n = 10     # trials\n",
        "p = 0.5    # success probability\n",
        "\n",
        "x = range(0, n+1)\n",
        "pmf = binom.pmf(x, n, p)\n",
        "\n",
        "plt.bar(x, pmf)\n",
        "plt.title('Binomial Distribution (n=10, p=0.5)')\n",
        "plt.xlabel('Number of successes')\n",
        "plt.ylabel('Probability')\n",
        "plt.show()"
      ],
      "metadata": {
        "colab": {
          "base_uri": "https://localhost:8080/",
          "height": 472
        },
        "id": "lJkNJNnLWpfz",
        "outputId": "fe232d84-427e-4845-98e9-6615fb92afa8"
      },
      "execution_count": null,
      "outputs": [
        {
          "output_type": "display_data",
          "data": {
            "text/plain": [
              "<Figure size 640x480 with 1 Axes>"
            ],
            "image/png": "[encoded data removed]"
          },
          "metadata": {}
        }
      ]
    },
    {
      "cell_type": "markdown",
      "source": [
        "### 8.2 Poisson Distribution\n",
        "\n",
        "- Use when:\n",
        "  - You are counting the number of events occurring in a fixed interval of time or space.\n",
        "  - Events occur independently.\n",
        "  - Events happen at a constant average rate.\n",
        "  - Typically used for rare events in a large population (e.g., defects, arrivals).\n",
        "\n",
        "-  Probability Mass Function (PMF)\n",
        "\n",
        "$$\n",
        "P(X = k) = \\frac{e^{-\\lambda} \\cdot \\lambda^k}{k!}\n",
        "$$\n",
        "\n",
        "- Parameters\n",
        "\n",
        "    - λ is the expected number of events in the interval  \n",
        "    - k is the actual number of events (0, 1, 2, ...)  \n",
        "    - e is Euler’s number (approximately 2.718)\n",
        "\n",
        "- Mean and Variance\n",
        "\n",
        "  - **Mean**: $$\\mu = \\lambda$$  \n",
        "  - **Variance**: $$\\sigma^2 = \\lambda$$\n"
      ],
      "metadata": {
        "id": "WyEEgWMHWs5_"
      }
    },
    {
      "cell_type": "code",
      "source": [
        "from scipy.stats import poisson\n",
        "\n",
        "lam = 4  # expected events per interval\n",
        "x = range(0, 11)\n",
        "pmf = poisson.pmf(x, lam)\n",
        "\n",
        "plt.bar(x, pmf)\n",
        "plt.title('Poisson Distribution (λ = 4)')\n",
        "plt.xlabel('Number of events')\n",
        "plt.ylabel('Probability')\n",
        "plt.show()"
      ],
      "metadata": {
        "colab": {
          "base_uri": "https://localhost:8080/",
          "height": 472
        },
        "id": "C3BWKcKBXPzP",
        "outputId": "7486bbaa-f4bf-4ba0-9d28-18c185d666bf"
      },
      "execution_count": null,
      "outputs": [
        {
          "output_type": "display_data",
          "data": {
            "text/plain": [
              "<Figure size 640x480 with 1 Axes>"
            ],
            "image/png": "[encoded data removed]"
          },
          "metadata": {}
        }
      ]
    },
    {
      "cell_type": "markdown",
      "source": [
        "### 8.3 Summary Table\n",
        "\n",
        "| Concept     | Binomial Distribution                           | Poisson Distribution                             |\n",
        "|-------------|--------------------------------------------------|--------------------------------------------------|\n",
        "| **PMF Formula** | $\\displaystyle P(X = k) = \\binom{n}{k} p^k (1-p)^{n-k}$ | $\\displaystyle P(X = k) = \\frac{e^{-\\lambda} \\lambda^k}{k!}$ |\n",
        "| **Mean**        | $\\mu = np$                                    | $\\mu = \\lambda$                                  |\n",
        "| **Variance**    | $\\sigma^2 = np(1-p)$                          | $\\sigma^2 = \\lambda$                             |\n",
        "| **Support**     | $k = 0, 1, 2, \\dots, n$                       | $k = 0, 1, 2, \\dots$                              |\n",
        "| **Parameters**  | $n$: number of trials  <br> $p$: probability of success | $\\lambda$: expected number of events             |\n"
      ],
      "metadata": {
        "id": "KIbA7nluXaO3"
      }
    },
    {
      "cell_type": "markdown",
      "source": [
        "# Section 9: Continuous Distributions – Uniform, Exponential, Normal"
      ],
      "metadata": {
        "id": "efVUO-yDXpy-"
      }
    },
    {
      "cell_type": "markdown",
      "source": [
        "### 9.1 Uniform Distribution\n",
        "\n",
        "- **When to Use:**\n",
        "  - Every outcome in an interval $[a, b]$ is equally likely.\n",
        "  - Useful in simulations and random sampling.\n",
        "\n",
        "- **PDF Formula:**\n",
        "\n",
        "$$\n",
        "f(x) =\n",
        "\\begin{cases}\n",
        "\\frac{1}{b - a}, & \\text{for } a \\leq x \\leq b \\\\\\\\\n",
        "0, & \\text{otherwise}\n",
        "\\end{cases}\n",
        "$$\n",
        "\n",
        "- **Mean:**\n",
        "\n",
        "$$\n",
        "\\mu = \\frac{a + b}{2}\n",
        "$$\n",
        "\n",
        "- **Variance:**\n",
        "\n",
        "$$\n",
        "\\sigma^2 = \\frac{(b - a)^2}{12}\n",
        "$$\n"
      ],
      "metadata": {
        "id": "DqWZeZYwXvsB"
      }
    },
    {
      "cell_type": "code",
      "source": [
        "from scipy.stats import uniform\n",
        "import matplotlib.pyplot as plt\n",
        "import numpy as np\n",
        "\n",
        "a, b = 0, 1\n",
        "x = np.linspace(a, b, 100)\n",
        "pdf = uniform.pdf(x, a, b-a)\n",
        "\n",
        "plt.plot(x, pdf)\n",
        "plt.title('Uniform Distribution [0, 1]')\n",
        "plt.xlabel('x')\n",
        "plt.ylabel('Probability Density')\n",
        "plt.grid(True)\n",
        "plt.show()"
      ],
      "metadata": {
        "colab": {
          "base_uri": "https://localhost:8080/",
          "height": 472
        },
        "id": "vSJHh9pkYYxS",
        "outputId": "e3dfc658-41b2-4de7-e739-6342e6361c04"
      },
      "execution_count": null,
      "outputs": [
        {
          "output_type": "display_data",
          "data": {
            "text/plain": [
              "<Figure size 640x480 with 1 Axes>"
            ],
            "image/png": "[encoded data removed]"
          },
          "metadata": {}
        }
      ]
    },
    {
      "cell_type": "markdown",
      "source": [
        "## 9.2 Exponential Distribution\n",
        "\n",
        "- **When to Use:**\n",
        "  - Models the time until the next event (e.g., time between arrivals).\n",
        "  - Has the memoryless property: the probability of future events is independent of the past.\n",
        "\n",
        "- **PDF Formula:**\n",
        "\n",
        "$$\n",
        "f(x; \\lambda) = \\lambda e^{-\\lambda x}, \\quad x \\geq 0\n",
        "$$\n",
        "\n",
        "- **Mean:**\n",
        "\n",
        "$$\n",
        "\\mu = \\frac{1}{\\lambda}\n",
        "$$\n",
        "\n",
        "- **Variance:**\n",
        "\n",
        "$$\n",
        "\\sigma^2 = \\frac{1}{\\lambda^2}\n",
        "$$\n"
      ],
      "metadata": {
        "id": "dhtDBdA7YcGX"
      }
    },
    {
      "cell_type": "code",
      "source": [
        "from scipy.stats import expon\n",
        "\n",
        "lambd = 1.5\n",
        "x = np.linspace(0, 5, 100)\n",
        "pdf = expon.pdf(x, scale=1/lambd)\n",
        "\n",
        "plt.plot(x, pdf)\n",
        "plt.title('Exponential Distribution (λ=1.5)')\n",
        "plt.xlabel('x')\n",
        "plt.ylabel('Probability Density')\n",
        "plt.grid(True)\n",
        "plt.show()"
      ],
      "metadata": {
        "colab": {
          "base_uri": "https://localhost:8080/",
          "height": 472
        },
        "id": "XyLkhJf_YfbT",
        "outputId": "5f0b3ded-1ed5-44bd-af7e-0ce314c9eb0d"
      },
      "execution_count": null,
      "outputs": [
        {
          "output_type": "display_data",
          "data": {
            "text/plain": [
              "<Figure size 640x480 with 1 Axes>"
            ],
            "image/png": "[encoded data removed]"
          },
          "metadata": {}
        }
      ]
    },
    {
      "cell_type": "markdown",
      "source": [
        "## 9.3 Normal Distribution (Gaussian)\n",
        "\n",
        "- **When to Use:**\n",
        "  - Many real-world phenomena follow this (e.g., height, IQ, measurement noise).\n",
        "  - Central Limit Theorem: sums of random variables tend to be normally distributed.\n",
        "\n",
        "- **PDF Formula:**\n",
        "\n",
        "$$\n",
        "f(x; \\mu, \\sigma) = \\frac{1}{\\sqrt{2\\pi \\sigma^2}} \\, e^{- \\frac{(x - \\mu)^2}{2\\sigma^2}}\n",
        "$$\n",
        "\n",
        "- **Mean:**\n",
        "\n",
        "$$\n",
        "\\mu\n",
        "$$\n",
        "\n",
        "- **Variance:**\n",
        "\n",
        "$$\n",
        "\\sigma^2\n",
        "$$\n"
      ],
      "metadata": {
        "id": "L2SlX-pKYwub"
      }
    },
    {
      "cell_type": "code",
      "source": [
        "from scipy.stats import norm\n",
        "\n",
        "mu, sigma = 0, 1\n",
        "x = np.linspace(-4, 4, 100)\n",
        "pdf = norm.pdf(x, mu, sigma)\n",
        "\n",
        "plt.plot(x, pdf)\n",
        "plt.title('Standard Normal Distribution (μ=0, σ=1)')\n",
        "plt.xlabel('x')\n",
        "plt.ylabel('Probability Density')\n",
        "plt.grid(True)\n",
        "plt.show()"
      ],
      "metadata": {
        "colab": {
          "base_uri": "https://localhost:8080/",
          "height": 472
        },
        "id": "r5rGSdOMYy3k",
        "outputId": "0f3e239a-daa1-403c-ca89-a761b24a0233"
      },
      "execution_count": null,
      "outputs": [
        {
          "output_type": "display_data",
          "data": {
            "text/plain": [
              "<Figure size 640x480 with 1 Axes>"
            ],
            "image/png": "[encoded data removed]"
          },
          "metadata": {}
        }
      ]
    },
    {
      "cell_type": "markdown",
      "source": [
        "### 9.4 Summary Table\n",
        "\n",
        "| Distribution | PDF Expression               | Mean                | Variance              | Use Case                              |\n",
        "| ------------ | ---------------------------- | ------------------- | --------------------- | ------------------------------------- |\n",
        "| Uniform      | $\\frac{1}{b-a}$              | $\\frac{a+b}{2}$     | $\\frac{(b-a)^2}{12}$  | Equal chance within an interval       |\n",
        "| Exponential  | $\\lambda e^{-\\lambda x}$     | $\\frac{1}{\\lambda}$ | $\\frac{1}{\\lambda^2}$ | Time until next event                 |\n",
        "| Normal       | $\\frac{1}{\\sqrt{2\\pi \\sigma^2}} e^{-\\frac{(x - \\mu)^2}{2\\sigma^2}}$ | $\\mu$ | $\\sigma^2$ | Measurement errors, natural phenomena |\n"
      ],
      "metadata": {
        "id": "Ixw5iNqQZMV4"
      }
    },
    {
      "cell_type": "markdown",
      "source": [
        "#Section 10: Joint & Marginal Distributions, Functions of Multiple Variables"
      ],
      "metadata": {
        "id": "cLnmcFArTrN0"
      }
    },
    {
      "cell_type": "markdown",
      "source": [
        "### 10.1 Joint Distribution\n",
        "\n",
        "- Joint distribution describes the probability of two or more random variables occurring simultaneously.\n",
        "\n",
        "#### For Discrete Variables:\n",
        "$$\n",
        "P(X = x, Y = y)\n",
        "$$\n",
        "\n",
        "#### For Continuous Variables:\n",
        "$$\n",
        "f(x, y) = \\text{joint probability density function}\n",
        "$$\n"
      ],
      "metadata": {
        "id": "BburXX_hcB6D"
      }
    },
    {
      "cell_type": "code",
      "source": [
        "import numpy as np\n",
        "import pandas as pd\n",
        "\n",
        "# Define joint distribution as a DataFrame (PMF)\n",
        "joint_pmf = pd.DataFrame({\n",
        "    'Y=0': [0.1, 0.2],\n",
        "    'Y=1': [0.2, 0.5]\n",
        "}, index=['X=0', 'X=1'])\n",
        "\n",
        "print(\"Joint PMF:\")\n",
        "print(joint_pmf)"
      ],
      "metadata": {
        "colab": {
          "base_uri": "https://localhost:8080/"
        },
        "id": "BFPCM9evcP0G",
        "outputId": "6240c60d-69f5-45b8-a212-04968cfc6eca"
      },
      "execution_count": null,
      "outputs": [
        {
          "output_type": "stream",
          "name": "stdout",
          "text": [
            "Joint PMF:\n",
            "     Y=0  Y=1\n",
            "X=0  0.1  0.2\n",
            "X=1  0.2  0.5\n"
          ]
        }
      ]
    },
    {
      "cell_type": "markdown",
      "source": [
        "### 10.2 Marginal Distribution\n",
        "\n",
        "- Marginal distribution is the probability distribution of a single variable obtained from the joint distribution.\n",
        "\n",
        "#### For Discrete Variables:\n",
        "$$\n",
        "P(X = x) = \\sum_{y} P(X = x, Y = y)\n",
        "$$\n"
      ],
      "metadata": {
        "id": "IKCugA25cSh6"
      }
    },
    {
      "cell_type": "code",
      "source": [
        "# Marginal of X\n",
        "marginal_x = joint_pmf.sum(axis=1)\n",
        "print(\"\\nMarginal Distribution of X:\")\n",
        "print(marginal_x)\n",
        "\n",
        "# Marginal of Y\n",
        "marginal_y = joint_pmf.sum(axis=0)\n",
        "print(\"\\nMarginal Distribution of Y:\")\n",
        "print(marginal_y)"
      ],
      "metadata": {
        "colab": {
          "base_uri": "https://localhost:8080/"
        },
        "id": "k1LZ4a6IcXv9",
        "outputId": "fd6b404c-fe35-472d-fba3-f00b2d4fc403"
      },
      "execution_count": null,
      "outputs": [
        {
          "output_type": "stream",
          "name": "stdout",
          "text": [
            "\n",
            "Marginal Distribution of X:\n",
            "X=0    0.3\n",
            "X=1    0.7\n",
            "dtype: float64\n",
            "\n",
            "Marginal Distribution of Y:\n",
            "Y=0    0.3\n",
            "Y=1    0.7\n",
            "dtype: float64\n"
          ]
        }
      ]
    },
    {
      "cell_type": "markdown",
      "source": [
        "### 10.3 Independence\n",
        "  \n",
        "- Two variables \\( X \\) and \\( Y \\) are **independent** if:\n",
        "\n",
        "$$\n",
        "P(X = x, Y = y) = P(X = x) \\cdot P(Y = y)\n",
        "$$\n"
      ],
      "metadata": {
        "id": "nWX3q3I1celL"
      }
    },
    {
      "cell_type": "code",
      "source": [
        "# Check if P(X=0, Y=0) == P(X=0)*P(Y=0)\n",
        "is_independent = np.isclose(joint_pmf.loc['X=0', 'Y=0'],\n",
        "                            marginal_x['X=0'] * marginal_y['Y=0'])\n",
        "print(\"\\nAre X and Y independent at (X=0, Y=0)?\", is_independent)"
      ],
      "metadata": {
        "colab": {
          "base_uri": "https://localhost:8080/"
        },
        "id": "wwUlfNQecilI",
        "outputId": "6e46de1f-b553-4479-ec9e-b409428ab90e"
      },
      "execution_count": null,
      "outputs": [
        {
          "output_type": "stream",
          "name": "stdout",
          "text": [
            "\n",
            "Are X and Y independent at (X=0, Y=0)? False\n"
          ]
        }
      ]
    },
    {
      "cell_type": "markdown",
      "source": [
        "### 10.4 Function of Multiple Random Variables\n",
        "\n",
        "- Given two variables \\( X \\) and \\( Y \\), we can define a new variable:\n",
        "\n",
        "$$\n",
        "Z = g(X, Y)\n",
        "$$\n"
      ],
      "metadata": {
        "id": "uIjERvUIcp_E"
      }
    },
    {
      "cell_type": "code",
      "source": [
        "#Function Z = X + Y\n",
        "# Simulate X and Y\n",
        "X = np.random.randint(0, 3, 1000)\n",
        "Y = np.random.randint(0, 3, 1000)\n",
        "\n",
        "Z = X + Y\n",
        "\n",
        "import matplotlib.pyplot as plt\n",
        "plt.hist(Z, bins=range(0, 6), align='left', edgecolor='black')\n",
        "plt.title('Distribution of Z = X + Y')\n",
        "plt.xlabel('Z values')\n",
        "plt.ylabel('Frequency')\n",
        "plt.grid(True)\n",
        "plt.show()"
      ],
      "metadata": {
        "colab": {
          "base_uri": "https://localhost:8080/",
          "height": 472
        },
        "id": "rOnuXjDqcuQD",
        "outputId": "1672e450-a044-469d-bec1-2d460c52241b"
      },
      "execution_count": null,
      "outputs": [
        {
          "output_type": "display_data",
          "data": {
            "text/plain": [
              "<Figure size 640x480 with 1 Axes>"
            ],
            "image/png": "[encoded data removed]"
          },
          "metadata": {}
        }
      ]
    },
    {
      "cell_type": "markdown",
      "source": [
        "#Section 11: Expectations, Variance, Covariance & Correlation"
      ],
      "metadata": {
        "id": "EBmgLCcDSX-q"
      }
    },
    {
      "cell_type": "markdown",
      "source": [
        "## 11.1 Expectation (Mean)\n",
        "\n",
        "- The **expected value** (or mean) is the long-run average value of a random variable.\n",
        "\n",
        "- **Discrete:**\n",
        "\n",
        "$$\n",
        "E[X] = \\sum x_i \\cdot P(X = x_i)\n",
        "$$\n",
        "\n",
        "- **Continuous:**\n",
        "\n",
        "$$\n",
        "E[X] = \\int x \\cdot f(x) \\, dx\n",
        "$$\n",
        "\n",
        "- **Interpretation:** The expected value is what you \"expect\" on average."
      ],
      "metadata": {
        "id": "U5uyh9AASca7"
      }
    },
    {
      "cell_type": "code",
      "source": [
        "import numpy as np\n",
        "\n",
        "# Simulate a discrete random variable\n",
        "X = np.array([0, 1, 2])\n",
        "P_X = np.array([0.2, 0.5, 0.3])  # Probabilities must sum to 1\n",
        "\n",
        "# Expectation\n",
        "E_X = np.sum(X * P_X)\n",
        "print(\"E[X] =\", E_X)"
      ],
      "metadata": {
        "colab": {
          "base_uri": "https://localhost:8080/"
        },
        "id": "83_cwW6hdAqQ",
        "outputId": "23a31bf7-73cf-40b7-81a9-d00e4113c284"
      },
      "execution_count": null,
      "outputs": [
        {
          "output_type": "stream",
          "name": "stdout",
          "text": [
            "E[X] = 1.1\n"
          ]
        }
      ]
    },
    {
      "cell_type": "markdown",
      "source": [
        "## 11.2  Variance and Standard Deviation\n",
        "- Variance measures the **spread or dispersion** of a random variable from its mean.\n",
        "\n",
        "$$\n",
        "\\text{Var}(X) = E[(X - E[X])^2] = E[X^2] - (E[X])^2\n",
        "$$\n",
        "\n",
        "- **Standard Deviation**:\n",
        "\n",
        "$$\n",
        "\\sigma = \\sqrt{\\text{Var}(X)}\n",
        "$$\n",
        "\n",
        "- **Interpretation:**  \n",
        "  - High variance → more spread out  \n",
        "  - Low variance → values concentrated around the mean"
      ],
      "metadata": {
        "id": "NKnO2BNvSqQ2"
      }
    },
    {
      "cell_type": "code",
      "source": [
        "# Variance\n",
        "Var_X = np.sum((X - E_X) ** 2 * P_X)\n",
        "Std_X = np.sqrt(Var_X)\n",
        "\n",
        "print(\"Var[X] =\", Var_X)\n",
        "print(\"Std[X] =\", Std_X)"
      ],
      "metadata": {
        "colab": {
          "base_uri": "https://localhost:8080/"
        },
        "id": "Z1ur4udrdEOk",
        "outputId": "edc74fa9-aa3a-4d2a-b0e8-4f6b3817d5d7"
      },
      "execution_count": null,
      "outputs": [
        {
          "output_type": "stream",
          "name": "stdout",
          "text": [
            "Var[X] = 0.49\n",
            "Std[X] = 0.7\n"
          ]
        }
      ]
    },
    {
      "cell_type": "markdown",
      "source": [
        "## 11.3  Covariance\n",
        "- Covariance shows how **two random variables change together**.\n",
        "\n",
        "$$\n",
        "\\text{Cov}(X, Y) = E[(X - E[X])(Y - E[Y])]\n",
        "$$\n",
        "\n",
        "- **Interpretation:**\n",
        "\n",
        "  - Cov(X, Y) > 0 : X and Y increase together  \n",
        "  - Cov(X, Y) < 0 : X increases, Y tends to decrease  \n",
        "  - Cov(X, Y) = 0 : No linear relationship  \n",
        "\n",
        "- **Units of covariance** = product of units of X and Y"
      ],
      "metadata": {
        "id": "HNT9UJMaS8pK"
      }
    },
    {
      "cell_type": "code",
      "source": [
        "# Sample data\n",
        "x = np.random.normal(5, 1, 1000)\n",
        "y = 2 * x + np.random.normal(0, 1, 1000)\n",
        "\n",
        "cov_matrix = np.cov(x, y)\n",
        "print(\"Covariance Matrix:\\n\", cov_matrix)\n",
        "print(\"Cov(X, Y):\", cov_matrix[0, 1])"
      ],
      "metadata": {
        "colab": {
          "base_uri": "https://localhost:8080/"
        },
        "id": "8zcxqwY1dGKo",
        "outputId": "a684acdb-90bf-4302-8b21-1aee8d90e91f"
      },
      "execution_count": null,
      "outputs": [
        {
          "output_type": "stream",
          "name": "stdout",
          "text": [
            "Covariance Matrix:\n",
            " [[0.9110488  1.83660888]\n",
            " [1.83660888 4.69279507]]\n",
            "Cov(X, Y): 1.8366088836089924\n"
          ]
        }
      ]
    },
    {
      "cell_type": "markdown",
      "source": [
        "## 11.4 Correlation\n",
        "- Correlation is the **normalized version** of covariance, bounded between -1 and +1.\n",
        "\n",
        "$$\n",
        "\\rho_{X,Y} = \\frac{\\text{Cov}(X, Y)}{\\sigma_X \\cdot \\sigma_Y}\n",
        "$$\n",
        "\n",
        "- **Interpretation:**\n",
        "\n",
        "  - ρ = 1 : Perfect positive linear relationship  \n",
        "  - ρ = -1 : Perfect negative linear relationship  \n",
        "  - ρ = 0 : No linear relationship"
      ],
      "metadata": {
        "id": "HNhcjK9wTOcv"
      }
    },
    {
      "cell_type": "code",
      "source": [
        "# Pearson correlation coefficient\n",
        "correlation = np.corrcoef(x, y)\n",
        "print(\"Correlation Matrix:\\n\", correlation)\n",
        "print(\"Corr(X, Y):\", correlation[0, 1])"
      ],
      "metadata": {
        "colab": {
          "base_uri": "https://localhost:8080/"
        },
        "id": "AGMBM7Q-Teax",
        "outputId": "49daa7c3-0c8e-4682-eaf9-0b088e0ccde2"
      },
      "execution_count": null,
      "outputs": [
        {
          "output_type": "stream",
          "name": "stdout",
          "text": [
            "Correlation Matrix:\n",
            " [[1.         0.88823947]\n",
            " [0.88823947 1.        ]]\n",
            "Corr(X, Y): 0.8882394678202017\n"
          ]
        }
      ]
    },
    {
      "cell_type": "markdown",
      "source": [
        "## 11.5 What do these values mean?\n",
        "\n",
        "| Value of $\\text{Corr}(X, Y)$ | Interpretation                      |\n",
        "|-----------------------------|-------------------------------------|\n",
        "| +1                          | Perfect positive correlation        |\n",
        "| $\\sim 0.7$ to $1$           | Strong positive linear relationship |\n",
        "| 0                           | No linear correlation               |\n",
        "| $\\sim -0.7$ to $-1$         | Strong negative linear relationship |\n",
        "| -1                          | Perfect negative correlation        |\n"
      ],
      "metadata": {
        "id": "mWPpLmVSdP4s"
      }
    },
    {
      "cell_type": "markdown",
      "source": [
        "## 11.6 Summary Table\n",
        "\n",
        "| **Concept**     | **Measures**         | **Formula**                                                                 | **Range**            |\n",
        "|------------------|----------------------|-----------------------------------------------------------------------------|----------------------|\n",
        "| **Mean**         | Central tendency     | $$E[X]$$                                                                    | $$\\mathbb{R}$$       |\n",
        "| **Variance**     | Spread               | $$E[X^2] - (E[X])^2$$                                                       | $$\\geq 0$$           |\n",
        "| **Covariance**   | Joint variability    | $$E[(X - E[X])(Y - E[Y])]$$                                                 | $$\\mathbb{R}$$       |\n",
        "| **Correlation**  | Linear association   | $$\\rho_{X,Y} = \\frac{\\text{Cov}(X,Y)}{\\sigma_X \\cdot \\sigma_Y}$$           | $$-1 \\text{ to } 1$$ |\n",
        "\n"
      ],
      "metadata": {
        "id": "UoIDJKV0Tj3q"
      }
    },
    {
      "cell_type": "markdown",
      "source": [
        "#Section 12: Sampling, Estimation & Inference"
      ],
      "metadata": {
        "id": "EGsVHWBIdiN7"
      }
    },
    {
      "cell_type": "markdown",
      "source": [
        "### 12.1 Sampling\n",
        "\n",
        "- Population: The entire group we want to study.\n",
        "- Sample: A subset drawn from the population.\n",
        "- Sampling methods: Random, stratified, cluster, etc.\n",
        "- Sampling helps estimate unknown population parameters."
      ],
      "metadata": {
        "id": "7H8eS0e0dlOE"
      }
    },
    {
      "cell_type": "code",
      "source": [
        "import numpy as np\n",
        "\n",
        "population = np.arange(1, 101)  # Population of size 100\n",
        "sample = np.random.choice(population, size=10, replace=False)\n",
        "print(\"Sample:\", sample)"
      ],
      "metadata": {
        "colab": {
          "base_uri": "https://localhost:8080/"
        },
        "id": "I4r9nUWVdvOa",
        "outputId": "3da6129a-5849-460e-84d4-0e5db1d16f90"
      },
      "execution_count": null,
      "outputs": [
        {
          "output_type": "stream",
          "name": "stdout",
          "text": [
            "Sample: [13 56 78 51 97 72 28  6 65 53]\n"
          ]
        }
      ]
    },
    {
      "cell_type": "markdown",
      "source": [
        "### 12.2 Point Estimation\n",
        "- A point estimator gives a single best guess of a population parameter.\n",
        "\n",
        "| Parameter              | Estimator              |\n",
        "|------------------------|------------------------|\n",
        "| Population Mean $\\mu$  | Sample Mean $\\bar{x}$  |\n",
        "| Population Variance $\\sigma^2$ | Sample Variance $s^2$ |\n"
      ],
      "metadata": {
        "id": "saKJBm3qdzBD"
      }
    },
    {
      "cell_type": "code",
      "source": [
        "# Estimate mean and variance from sample\n",
        "sample_mean = np.mean(sample)\n",
        "sample_var = np.var(sample, ddof=1)\n",
        "\n",
        "print(\"Estimated Mean:\", sample_mean)\n",
        "print(\"Estimated Variance:\", sample_var)"
      ],
      "metadata": {
        "colab": {
          "base_uri": "https://localhost:8080/"
        },
        "id": "xwUTRS_eeCFv",
        "outputId": "f8096a2a-b667-4237-abd0-246b0b2f6866"
      },
      "execution_count": null,
      "outputs": [
        {
          "output_type": "stream",
          "name": "stdout",
          "text": [
            "Estimated Mean: 51.9\n",
            "Estimated Variance: 833.4333333333334\n"
          ]
        }
      ]
    },
    {
      "cell_type": "markdown",
      "source": [
        "### 12.3 Confidence Intervals\n",
        "\n",
        "- A confidence interval (CI) gives a range where the true parameter lies, with a given level of confidence (e.g., 95%).\n",
        "\n",
        "- **Formula**:  \n",
        "$$\n",
        "CI = \\bar{x} \\pm z^* \\cdot \\frac{s}{\\sqrt{n}}\n",
        "$$\n",
        "\n",
        "- Where:  \n",
        "  - $\\bar{x}$ = sample mean  \n",
        "  - $z^*$ = z-value for the desired confidence level (e.g., 1.96 for 95%)  \n",
        "  - $s$ = sample standard deviation  \n",
        "  - $n$ = sample size\n"
      ],
      "metadata": {
        "id": "0mQhAMeBeFT4"
      }
    },
    {
      "cell_type": "code",
      "source": [
        "#95% CI for the mean\n",
        "import scipy.stats as stats\n",
        "\n",
        "n = len(sample)\n",
        "z_star = stats.norm.ppf(0.975)  # for 95% confidence\n",
        "margin = z_star * (sample_var ** 0.5) / np.sqrt(n)\n",
        "ci_lower = sample_mean - margin\n",
        "ci_upper = sample_mean + margin\n",
        "\n",
        "print(f\"95% CI: [{ci_lower:.2f}, {ci_upper:.2f}]\")"
      ],
      "metadata": {
        "colab": {
          "base_uri": "https://localhost:8080/"
        },
        "id": "l16w32sreJ9V",
        "outputId": "70fd327d-b40f-4a1c-802c-08ef3b85c83c"
      },
      "execution_count": null,
      "outputs": [
        {
          "output_type": "stream",
          "name": "stdout",
          "text": [
            "95% CI: [34.01, 69.79]\n"
          ]
        }
      ]
    },
    {
      "cell_type": "markdown",
      "source": [
        "### 12.4 Inference\n",
        "- Statistical inference is drawing conclusions about populations from samples.\n",
        "- Two main branches:\n",
        "  - Estimation (Point & Interval)\n",
        "  - Hypothesis Testing (next section)"
      ],
      "metadata": {
        "id": "BrOaUQ1LeV8M"
      }
    },
    {
      "cell_type": "markdown",
      "source": [
        "#Section 13: Bayesian Estimation"
      ],
      "metadata": {
        "id": "XeRIfVyAejPg"
      }
    },
    {
      "cell_type": "markdown",
      "source": [
        "### 13.1 Introduction to Bayesian Thinking\n",
        "\n",
        " **Key Concepts**\n",
        "\n",
        "- **Prior** ($P(\\theta)$): What we believe about a parameter before seeing data.\n",
        "- **Likelihood** ($P(\\text{Data} \\mid \\theta)$): Probability of observed data given the parameter.\n",
        "- **Posterior** ($P(\\theta \\mid \\text{Data})$): Updated belief about the parameter after seeing data.\n",
        "\n",
        "**Bayesian Formula**  \n",
        "- Bayes’ Theorem in parameter estimation:\n",
        "\n",
        "$$\n",
        "\\text{Posterior} \\propto \\text{Likelihood} \\times \\text{Prior}\n",
        "$$\n",
        "\n",
        "- Or more formally:\n",
        "\n",
        "$$\n",
        "P(\\theta \\mid \\text{Data}) = \\frac{P(\\text{Data} \\mid \\theta) \\cdot P(\\theta)}{P(\\text{Data})}\n",
        "$$\n"
      ],
      "metadata": {
        "id": "b94zKwdmelPw"
      }
    },
    {
      "cell_type": "markdown",
      "source": [
        "### 13.2 Example: Estimating a Proportion\n",
        "- Scenario:\n",
        "  - You're estimating the probability that a coin is biased towards heads. You start with a prior belief and update it after observing coin flips."
      ],
      "metadata": {
        "id": "pXjgsNhVey2L"
      }
    },
    {
      "cell_type": "code",
      "source": [
        "#Beta Prior + Binomial Likelihood\n",
        "import numpy as np\n",
        "import matplotlib.pyplot as plt\n",
        "from scipy.stats import beta\n",
        "\n",
        "# Prior belief: Beta(2, 2) - roughly uniform\n",
        "a_prior, b_prior = 2, 2\n",
        "\n",
        "# Observed data: 8 heads, 2 tails\n",
        "heads = 8\n",
        "tails = 2\n",
        "\n",
        "# Posterior is Beta(a + heads, b + tails)\n",
        "a_post = a_prior + heads\n",
        "b_post = b_prior + tails\n",
        "\n",
        "x = np.linspace(0, 1, 1000)\n",
        "plt.plot(x, beta.pdf(x, a_post, b_post), label=f'Posterior: Beta({a_post}, {b_post})', color='purple')\n",
        "plt.axvline((a_post)/(a_post+b_post), color='gray', linestyle='--', label='Posterior Mean')\n",
        "plt.title(\"Bayesian Estimation of Coin Bias\")\n",
        "plt.xlabel(\"Probability of Heads\")\n",
        "plt.ylabel(\"Density\")\n",
        "plt.legend()\n",
        "plt.grid(True)\n",
        "plt.show()"
      ],
      "metadata": {
        "colab": {
          "base_uri": "https://localhost:8080/",
          "height": 472
        },
        "id": "Jm9ohuv1e4lJ",
        "outputId": "aaece0dd-038d-419b-ea1c-0b9339685fb1"
      },
      "execution_count": null,
      "outputs": [
        {
          "output_type": "display_data",
          "data": {
            "text/plain": [
              "<Figure size 640x480 with 1 Axes>"
            ],
            "image/png": "[encoded data removed]"
          },
          "metadata": {}
        }
      ]
    },
    {
      "cell_type": "markdown",
      "source": [
        "#### What the Graph Tells Us (Bayesian Posterior)\n",
        "\n",
        "**1. Bell-shaped Curve (Beta Distribution)**  \n",
        "- The purple curve represents the posterior distribution:\n",
        "\n",
        "$$\n",
        "P(\\theta \\mid \\text{data}) \\propto P(\\text{data} \\mid \\theta) \\cdot P(\\theta)\n",
        "$$\n",
        "\n",
        "- The **peak** shows the most probable value of $\\theta$ after combining prior belief and observed evidence.\n",
        "\n",
        "\n",
        "**2. Posterior Mean (gray dashed line)**  \n",
        "- This is the expected value of the updated belief:\n",
        "\n",
        "$$\n",
        "\\text{Posterior Mean} = \\frac{a + \\text{heads}}{a + b + \\text{trials}} = \\frac{10}{12} = 0.833\n",
        "$$\n",
        "\n",
        "- It represents the **best guess** for $\\theta$ based on both prior and observed data.\n",
        "\n",
        "**3. Updated Confidence**  \n",
        "- The posterior curve is **narrower** than the prior, meaning:\n",
        "\n",
        "  - Increased confidence in the estimate.\n",
        "  - If more data were collected, the posterior would become even more concentrated.\n",
        "\n",
        "**4. Prior Influence**  \n",
        "- The prior used here is $\\text{Beta}(2, 2)$ — roughly **uniform**, indicating no strong initial belief.\n",
        "- If we had a **strong prior** (e.g., $\\text{Beta}(10, 2)$), it would take more extreme data to change the belief.\n",
        "\n",
        "\n",
        "\n",
        "**Interpretation**:  \n",
        "- After seeing **8 heads and 2 tails**, the **most likely probability** of heads is approximately **0.83**, and we are fairly confident in this estimate due to the peaked shape of the posterior.\n"
      ],
      "metadata": {
        "id": "cYEV0tfifaNo"
      }
    },
    {
      "cell_type": "markdown",
      "source": [
        "### 13.3 Posterior Mean and MAP\n",
        "\n",
        " **Posterior Mean** (for Beta prior with Binomial likelihood):\n",
        "- If the prior is $\\text{Beta}(a, b)$ and we observe data with `heads` and `total trials`, then:\n",
        "\n",
        "$$\n",
        "\\text{Posterior Mean} = \\frac{a + \\text{heads}}{a + b + \\text{total trials}}\n",
        "$$\n",
        "\n",
        "**MAP Estimate**:  \n",
        "- Maximum A Posteriori estimate = Mode of the posterior distribution.\n",
        "- For a Beta distribution with posterior $\\text{Beta}(a', b')$, the MAP is:\n",
        "\n",
        "$$\n",
        "\\text{MAP} = \\frac{a' - 1}{a' + b' - 2} \\quad \\text{(for } a' > 1 \\text{ and } b' > 1\\text{)}\n",
        "$$\n"
      ],
      "metadata": {
        "id": "0htcqcj9fH2_"
      }
    },
    {
      "cell_type": "code",
      "source": [
        "posterior_mean = a_post / (a_post + b_post)\n",
        "map_estimate = (a_post - 1) / (a_post + b_post - 2)\n",
        "\n",
        "print(\"Posterior Mean:\", posterior_mean)\n",
        "print(\"MAP Estimate:\", map_estimate)"
      ],
      "metadata": {
        "colab": {
          "base_uri": "https://localhost:8080/"
        },
        "id": "hrqtzoUwfR3n",
        "outputId": "89c0cd10-5494-45a5-e5ce-b358cf96bbeb"
      },
      "execution_count": null,
      "outputs": [
        {
          "output_type": "stream",
          "name": "stdout",
          "text": [
            "Posterior Mean: 0.7142857142857143\n",
            "MAP Estimate: 0.75\n"
          ]
        }
      ]
    },
    {
      "cell_type": "markdown",
      "source": [
        "#Section 14: Hypothesis Testing I – One Sample & Two Sample Tests\n"
      ],
      "metadata": {
        "id": "AYtFSRtcgCzm"
      }
    },
    {
      "cell_type": "markdown",
      "source": [
        "### 14.1 What is Hypothesis Testing?\n",
        "\n",
        "- Hypothesis testing is a **statistical method** used to make decisions or inferences about **population parameters** based on **sample data**.\n",
        "-  Key Terms\n",
        "\n",
        "| **Term**                   | **Description**                                                                 |\n",
        "|----------------------------|---------------------------------------------------------------------------------|\n",
        "| **Null Hypothesis ($H_0$)**        | A default assumption that there is **no effect** or **no difference**.              |\n",
        "| **Alternative Hypothesis ($H_1$)** | A statement that **contradicts $H_0$** — there **is** an effect or difference.      |\n",
        "| **Test Statistic**         | A value calculated from the sample data used to assess how far the result deviates from $H_0$. |\n",
        "| **p-value**                | The probability of obtaining results at least as extreme as those observed, assuming $H_0$ is true. |\n",
        "| **Significance Level ($\\alpha$)** | A threshold (commonly $\\alpha = 0.05$) — if $p$-value < $\\alpha$, **reject $H_0$**.       |\n",
        "\n",
        "-  Decision Rule:\n",
        "  - If $p$-value $\\leq \\alpha$: **Reject $H_0$**\n",
        "  - If $p$-value $> \\alpha$: **Fail to Reject $H_0$**\n",
        "\n",
        "This process helps determine whether observed effects are **statistically significant** or likely due to **random chance**.\n"
      ],
      "metadata": {
        "id": "ImgjhI3FgHSG"
      }
    },
    {
      "cell_type": "markdown",
      "source": [
        "### 14.2 One-Sample t-test\n",
        "\n",
        "- Use Case:\n",
        "  - Used to test if a **sample mean** significantly differs from a **known population mean**.\n",
        "  - **Example:**  \n",
        "    A brand claims its energy bar contains **200 calories** on average. You want to test this using a sample of bars.\n",
        "\n",
        "-  Hypotheses:\n",
        "\n",
        "  - **Null Hypothesis ($H_0$):** $\\mu = 200$  \n",
        "  (The mean calories is 200)\n",
        "\n",
        "  - **Alternative Hypothesis ($H_1$):** $\\mu \\ne 200$  \n",
        "  (The mean calories is not 200)\n",
        "\n",
        "- Test Statistic Formula:\n",
        "\n",
        "$$\n",
        "t = \\frac{\\bar{x} - \\mu}{s / \\sqrt{n}}\n",
        "$$\n",
        "\n",
        "- Where:  \n",
        "  - $\\bar{x}$ = sample mean  \n",
        "  - $\\mu$ = population mean  \n",
        "  - $s$ = sample standard deviation  \n",
        "  - $n$ = sample size  \n",
        "\n",
        "- Decision Rule:\n",
        "  - Calculate the $t$-statistic and compare it to the **critical t-value** from the t-distribution table (based on $n-1$ degrees of freedom).\n",
        "  - Or, calculate the **p-value** and:\n",
        "    - If $p$-value $\\leq \\alpha$, **reject $H_0$**\n",
        "    - If $p$-value $> \\alpha$, **fail to reject $H_0$**\n",
        "\n",
        "- When to Use:\n",
        "  - You have a **small sample size** ($n < 30$)\n",
        "  - Population **standard deviation is unknown**\n"
      ],
      "metadata": {
        "id": "j-oA-mPzgeQ9"
      }
    },
    {
      "cell_type": "code",
      "source": [
        "from scipy import stats\n",
        "import numpy as np\n",
        "\n",
        "# Sample data\n",
        "sample = [202, 198, 203, 199, 205, 197, 200, 201, 196, 204]\n",
        "\n",
        "# Known population mean\n",
        "pop_mean = 200\n",
        "\n",
        "# One-sample t-test\n",
        "t_stat, p_val = stats.ttest_1samp(sample, pop_mean)\n",
        "\n",
        "print(f\"Sample Mean: {np.mean(sample):.2f}\")\n",
        "print(f\"T-statistic: {t_stat:.4f}\")\n",
        "print(f\"P-value: {p_val:.4f}\")"
      ],
      "metadata": {
        "colab": {
          "base_uri": "https://localhost:8080/"
        },
        "id": "Ww7tuZM6gD4A",
        "outputId": "50ceceda-eddf-4836-d62c-a337e22e7129"
      },
      "execution_count": null,
      "outputs": [
        {
          "output_type": "stream",
          "name": "stdout",
          "text": [
            "Sample Mean: 200.50\n",
            "T-statistic: 0.5222\n",
            "P-value: 0.6141\n"
          ]
        }
      ]
    },
    {
      "cell_type": "markdown",
      "source": [
        "Interpretation:\n",
        "- If p-value < α (say 0.05), reject H₀ → the mean significantly differs from 200.\n",
        "\n",
        "- If p-value >= α, we fail to reject H₀ → sample is consistent with mean = 200."
      ],
      "metadata": {
        "id": "rWMVJsiXhAxQ"
      }
    },
    {
      "cell_type": "markdown",
      "source": [
        "### 14.3 Two-Sample t-test\n",
        "\n",
        "- **Use Case:**\n",
        "  - Used to test if the **means of two independent groups** are significantly different.\n",
        "  - **Example:**  \n",
        "    Compare **math test scores** between **Class A** and **Class B**.\n",
        "\n",
        "- **Hypotheses:**\n",
        "\n",
        "  - **Null Hypothesis ($H_0$):** $\\mu_1 = \\mu_2$  \n",
        "    (The two group means are equal)\n",
        "\n",
        "  - **Alternative Hypothesis ($H_1$):** $\\mu_1 \\ne \\mu_2$  \n",
        "    (The two group means are different)\n",
        "\n",
        "- **Test Statistic Formula (Equal Variance Assumed):**\n",
        "\n",
        "$$\n",
        "t = \\frac{\\bar{x}_1 - \\bar{x}_2}{s_p \\cdot \\sqrt{\\frac{1}{n_1} + \\frac{1}{n_2}}}\n",
        "$$\n",
        "\n",
        "- Where:\n",
        "  - $\\bar{x}_1, \\bar{x}_2$ = sample means  \n",
        "  - $n_1, n_2$ = sample sizes  \n",
        "  - $s_p$ = **pooled standard deviation**, computed as:\n",
        "$$\n",
        "s_p = \\sqrt{ \\frac{(n_1 - 1)s_1^2 + (n_2 - 1)s_2^2}{n_1 + n_2 - 2} }\n",
        "$$\n",
        "  - $s_1, s_2$ = standard deviations of samples 1 and 2\n",
        "\n",
        "\n",
        "- **Decision Rule:**\n",
        "  - Calculate the $t$-statistic and compare it with the **critical value** from the t-distribution with $n_1 + n_2 - 2$ degrees of freedom.\n",
        "  - Or, compute the **p-value**:\n",
        "    - If $p$-value $\\leq \\alpha$, **reject $H_0$**\n",
        "    - If $p$-value $> \\alpha$, **fail to reject $H_0$**\n",
        "\n",
        "- **When to Use:**\n",
        "  - You want to compare **two independent groups**\n",
        "  - Population standard deviations are **unknown**\n",
        "  - Optionally assume equal or unequal variances (Welch’s t-test for unequal variances)\n"
      ],
      "metadata": {
        "id": "SSVcPeWwhFU0"
      }
    },
    {
      "cell_type": "code",
      "source": [
        "class_A = [78, 82, 85, 88, 90, 87, 83, 89]\n",
        "class_B = [75, 78, 74, 77, 79, 76, 78, 80]\n",
        "\n",
        "# Two-sample independent t-test\n",
        "t_stat, p_val = stats.ttest_ind(class_A, class_B)\n",
        "\n",
        "print(f\"Mean of Class A: {np.mean(class_A):.2f}\")\n",
        "print(f\"Mean of Class B: {np.mean(class_B):.2f}\")\n",
        "print(f\"T-statistic: {t_stat:.4f}\")\n",
        "print(f\"P-value: {p_val:.4f}\")"
      ],
      "metadata": {
        "colab": {
          "base_uri": "https://localhost:8080/"
        },
        "id": "6oeFQswnhrvk",
        "outputId": "352348d0-fc36-4e3b-ecd3-87b8a5fe5683"
      },
      "execution_count": null,
      "outputs": [
        {
          "output_type": "stream",
          "name": "stdout",
          "text": [
            "Mean of Class A: 85.25\n",
            "Mean of Class B: 77.12\n",
            "T-statistic: 5.0602\n",
            "P-value: 0.0002\n"
          ]
        }
      ]
    },
    {
      "cell_type": "markdown",
      "source": [
        "Interpretation:\n",
        "- If p-value < α, we reject H₀ → there's a significant difference between the two classes.\n",
        "- If p-value >= α, the difference is not statistically significant."
      ],
      "metadata": {
        "id": "9qe09JTJhvRM"
      }
    },
    {
      "cell_type": "markdown",
      "source": [
        "### 14.4 Summary Table\n",
        "\n",
        "| **Test Type**         | **Purpose**                                       | **Sample Size** | **Population Std Known?** | **Use t/z?** |\n",
        "|-----------------------|---------------------------------------------------|------------------|----------------------------|--------------|\n",
        "| One-Sample t-test     | Test sample mean vs. population mean              | 1 group          |  No                      | t-test       |\n",
        "| Two-Sample t-test     | Compare means of two independent samples          | 2 groups         |  No                      | t-test       |\n",
        "| Z-test                | Test mean(s) when population std. dev. is known   | 1 or 2 groups    |  Yes                     | z-test       |\n"
      ],
      "metadata": {
        "id": "_VHzwsQDhzDd"
      }
    },
    {
      "cell_type": "markdown",
      "source": [
        "####14.5 Intuition\n",
        "- The p-value tells you how unusual your data is assuming H₀ is true.\n",
        "- If the p-value is small, your sample is unlikely under H₀, hence you reject H₀.\n",
        "- Always report the effect size along with statistical significance when possible.\n",
        "\n"
      ],
      "metadata": {
        "id": "HnvLflJKh-96"
      }
    },
    {
      "cell_type": "markdown",
      "source": [
        "#Section 15: Hypothesis Testing II – Errors, Power, and Practical Interpretation\n"
      ],
      "metadata": {
        "id": "n2lu9LNMiJj4"
      }
    },
    {
      "cell_type": "markdown",
      "source": [
        "### 15.1 Types of Errors in Hypothesis Testing\n",
        "\n",
        "| **Error Type**            | **Description**                                                                                   |\n",
        "|---------------------------|-------------------------------------------------------------------------------------------------|\n",
        "| **Type I Error** α  | Rejecting a true \\(H_0\\) (false positive) — e.g., saying there's a difference when there isn't. |\n",
        "| **Type II Error** β  | Failing to reject a false \\(H_0\\) (false negative) — e.g., missing a real effect.               |\n",
        "\n",
        "- Confidence Level vs Significance Level\n",
        "\n",
        "$$\n",
        "\\text{Confidence Level} = 1 - \\alpha\n",
        "$$\n",
        "\n",
        "  - How confident you are in your test.\n",
        "  - Common choice: \\(α = 0.05\\) → 95% confidence.\n"
      ],
      "metadata": {
        "id": "7L1Ocn4cihs8"
      }
    },
    {
      "cell_type": "markdown",
      "source": [
        "### 15.2 Power of a Test\n",
        "\n",
        "$$\n",
        "\\text{Power} = 1 - \\beta\n",
        "$$\n",
        "\n",
        "- It is the probability of **correctly rejecting a false** \\( H_0 \\). A high power means the test is more likely to detect true effects.\n",
        "\n",
        "- Factors that Affect Power:\n",
        "   - **Effect size** (difference between means)\n",
        "  - **Sample size**\n",
        "  - **Significance level** \\((\\alpha)\\)\n",
        "  - **Variance** in data\n"
      ],
      "metadata": {
        "id": "nT4_meZWiQZz"
      }
    },
    {
      "cell_type": "code",
      "source": [
        "#Type I & II Errors\n",
        "import numpy as np\n",
        "from scipy.stats import ttest_1samp\n",
        "\n",
        "np.random.seed(42)\n",
        "\n",
        "# Simulate 1000 experiments\n",
        "n_experiments = 1000\n",
        "n = 30\n",
        "mu_true = 0\n",
        "mu_test = 0.5  # under H1\n",
        "alpha = 0.05\n",
        "\n",
        "type1_errors = 0\n",
        "type2_errors = 0\n",
        "\n",
        "for _ in range(n_experiments):\n",
        "    # Simulating under H0\n",
        "    sample_h0 = np.random.normal(mu_true, 1, n)\n",
        "    t_stat, p_val = ttest_1samp(sample_h0, mu_true)\n",
        "    if p_val < alpha:\n",
        "        type1_errors += 1\n",
        "\n",
        "    # Simulating under H1\n",
        "    sample_h1 = np.random.normal(mu_test, 1, n)\n",
        "    t_stat, p_val = ttest_1samp(sample_h1, mu_true)\n",
        "    if p_val >= alpha:\n",
        "        type2_errors += 1\n",
        "\n",
        "print(f\"Type I Error Rate (α): {type1_errors/n_experiments:.3f}\")\n",
        "print(f\"Type II Error Rate (β): {type2_errors/n_experiments:.3f}\")\n",
        "print(f\"Power of the Test: {1 - type2_errors/n_experiments:.3f}\")"
      ],
      "metadata": {
        "colab": {
          "base_uri": "https://localhost:8080/"
        },
        "id": "6Vz4mOQEjO8I",
        "outputId": "2650c4cb-361b-4206-91fd-1172327699f4"
      },
      "execution_count": null,
      "outputs": [
        {
          "output_type": "stream",
          "name": "stdout",
          "text": [
            "Type I Error Rate (α): 0.052\n",
            "Type II Error Rate (β): 0.259\n",
            "Power of the Test: 0.741\n"
          ]
        }
      ]
    },
    {
      "cell_type": "markdown",
      "source": [
        "####Practical Interpretation\n",
        "- A p-value < 0.05 doesn’t prove H₁ is true — it just suggests the data is unlikely under H₀.\n",
        "\n",
        "- Always consider the practical effect size — small p-values with tiny effect sizes may not be meaningful.\n",
        "\n",
        "- Be mindful of multiple comparisons — doing many tests increases chance of Type I errors (use Bonferroni correction, etc.).\n",
        "\n"
      ],
      "metadata": {
        "id": "XeORQhBgjdeD"
      }
    },
    {
      "cell_type": "markdown",
      "source": [
        "### 15.3 Summary table\n",
        "\n",
        "| **Concept**           | **Meaning**                                                                 |\n",
        "|-----------------------|------------------------------------------------------------------------------|\n",
        "| **Type I Error** (\\(\\alpha\\))    | False positive — rejecting true \\(H_0\\)                                             |\n",
        "| **Type II Error** (\\(\\beta\\))    | False negative — failing to reject false \\(H_0\\)                                    |\n",
        "| **Power**             | Probability of correctly rejecting a false \\(H_0\\); \\(1 - \\beta\\)                              |\n",
        "| **Significance Level** | \\(\\alpha\\), commonly 0.05 (5%)                                                  |\n",
        "| **Confidence Level**   | \\(1 - \\alpha\\) (e.g., 95%)                                                     |\n"
      ],
      "metadata": {
        "id": "bWV8DkmmjhH0"
      }
    },
    {
      "cell_type": "markdown",
      "source": [
        "#Naive Bayes Classifier (from scratch)"
      ],
      "metadata": {
        "id": "5m47plGBlwvX"
      }
    },
    {
      "cell_type": "markdown",
      "source": [
        "Problem Setup:\n",
        "- We’ll implement a simple Naive Bayes classifier for categorical data (like weather conditions) and demonstrate training and prediction.\n",
        "\n"
      ],
      "metadata": {
        "id": "MQgrAOAsmiUQ"
      }
    },
    {
      "cell_type": "code",
      "source": [
        "import numpy as np\n",
        "import pandas as pd\n",
        "from collections import defaultdict\n",
        "from sklearn.preprocessing import LabelEncoder\n",
        "\n",
        "# Sample categorical dataset (Play Tennis Example)\n",
        "data = {\n",
        "    'Outlook': ['sunny', 'sunny', 'overcast', 'rainy', 'rainy', 'rainy', 'overcast', 'sunny', 'sunny', 'rainy', 'sunny', 'overcast', 'overcast', 'rainy'],\n",
        "    'Temperature': ['hot', 'hot', 'hot', 'mild', 'cool', 'cool', 'cool', 'mild', 'cool', 'mild', 'mild', 'mild', 'hot', 'mild'],\n",
        "    'Humidity': ['high', 'high', 'high', 'high', 'normal', 'normal', 'normal', 'high', 'normal', 'normal', 'normal', 'high', 'normal', 'high'],\n",
        "    'Windy': ['FALSE', 'TRUE', 'FALSE', 'FALSE', 'FALSE', 'TRUE', 'TRUE', 'FALSE', 'FALSE', 'FALSE', 'TRUE', 'TRUE', 'FALSE', 'TRUE'],\n",
        "    'Play': ['no', 'no', 'yes', 'yes', 'yes', 'no', 'yes', 'no', 'yes', 'yes', 'yes', 'yes', 'yes', 'no']\n",
        "}\n",
        "\n",
        "df = pd.DataFrame(data)"
      ],
      "metadata": {
        "id": "zlqrkWLply7W"
      },
      "execution_count": 47,
      "outputs": []
    },
    {
      "cell_type": "code",
      "source": [
        "# Encode categorical features and labels\n",
        "X = df.iloc[:, :-1]\n",
        "y = df.iloc[:, -1]"
      ],
      "metadata": {
        "id": "drmZqWiSl9ZH"
      },
      "execution_count": 48,
      "outputs": []
    },
    {
      "cell_type": "code",
      "source": [
        "# Label Encoding for features\n",
        "encoders = [LabelEncoder() for _ in range(X.shape[1])]\n",
        "X_encoded = X.copy()\n",
        "for i, col in enumerate(X.columns):\n",
        "    X_encoded[col] = encoders[i].fit_transform(X[col])"
      ],
      "metadata": {
        "id": "z2mHrI_GmrCF"
      },
      "execution_count": 49,
      "outputs": []
    },
    {
      "cell_type": "code",
      "source": [
        "# Label encoding for target\n",
        "label_enc = LabelEncoder()\n",
        "y_encoded = label_enc.fit_transform(y)"
      ],
      "metadata": {
        "id": "1VojUCOPms-_"
      },
      "execution_count": 50,
      "outputs": []
    },
    {
      "cell_type": "code",
      "source": [
        "# Convert to numpy\n",
        "X_np = X_encoded.to_numpy()\n",
        "y_np = np.array(y_encoded)"
      ],
      "metadata": {
        "id": "AlhwEjGQmtDW"
      },
      "execution_count": 51,
      "outputs": []
    },
    {
      "cell_type": "code",
      "source": [
        "#Naive Bayes Classifier Class\n",
        "class NaiveBayes:\n",
        "    def fit(self, X, y):\n",
        "        self.classes = np.unique(y)\n",
        "        self.priors = {cls: np.mean(y == cls) for cls in self.classes}\n",
        "        self.cond_probs = defaultdict(lambda: defaultdict(lambda: defaultdict(float)))\n",
        "\n",
        "        for cls in self.classes:\n",
        "            X_cls = X[y == cls]\n",
        "            for col in range(X.shape[1]):\n",
        "                values, counts = np.unique(X_cls[:, col], return_counts=True)\n",
        "                total = len(X_cls)\n",
        "                for val, count in zip(values, counts):\n",
        "                    self.cond_probs[cls][col][val] = count / total\n",
        "\n",
        "    def predict(self, x):\n",
        "        posteriors = {}\n",
        "        for cls in self.classes:\n",
        "            posterior = self.priors[cls]\n",
        "            for i, val in enumerate(x):\n",
        "                prob = self.cond_probs[cls][i].get(val, 1e-6)  # Smoothing\n",
        "                posterior *= prob\n",
        "            posteriors[cls] = posterior\n",
        "        return max(posteriors, key=posteriors.get)"
      ],
      "metadata": {
        "id": "IdfOYSzSm0Hv"
      },
      "execution_count": 52,
      "outputs": []
    },
    {
      "cell_type": "code",
      "source": [
        "# Train the model\n",
        "model = NaiveBayes()\n",
        "model.fit(X_np, y_np)"
      ],
      "metadata": {
        "id": "TDpObCAOm67r"
      },
      "execution_count": 53,
      "outputs": []
    },
    {
      "cell_type": "code",
      "source": [
        "# Predict a new instance (encoded like the training data)\n",
        "sample_raw = ['sunny', 'cool', 'normal', 'FALSE']\n",
        "sample_encoded = [encoders[i].transform([val])[0] for i, val in enumerate(sample_raw)]"
      ],
      "metadata": {
        "id": "BY_iQbkJm-Lw"
      },
      "execution_count": 54,
      "outputs": []
    },
    {
      "cell_type": "code",
      "source": [
        "# Predict and decode output\n",
        "prediction = model.predict(sample_encoded)\n",
        "print(\"Predicted class:\", label_enc.inverse_transform([prediction])[0])"
      ],
      "metadata": {
        "id": "GVaVhR-3nAtP",
        "colab": {
          "base_uri": "https://localhost:8080/"
        },
        "outputId": "415695c5-179c-4cfd-cce4-880a8c78a575"
      },
      "execution_count": 55,
      "outputs": [
        {
          "output_type": "stream",
          "name": "stdout",
          "text": [
            "Predicted class: yes\n"
          ]
        }
      ]
    },
    {
      "cell_type": "markdown",
      "source": [
        "# A/B Testing Framework"
      ],
      "metadata": {
        "id": "RbOPkazynouz"
      }
    },
    {
      "cell_type": "markdown",
      "source": [
        "- Use Case\n",
        "  - Compare conversion rates or accuracies between Model A and Model B to decide if one is significantly better.\n",
        "\n",
        "- Assumptions:\n",
        "  - We're comparing the proportion of success (e.g., clicks, conversions, model accuracy) between two groups.\n",
        "  - Each group is a Bernoulli distribution (success/failure) → use z-test for proportions.\n"
      ],
      "metadata": {
        "id": "q9bf8hSfnrFu"
      }
    },
    {
      "cell_type": "code",
      "source": [
        "import numpy as np\n",
        "from statsmodels.stats.proportion import proportions_ztest"
      ],
      "metadata": {
        "id": "dBeqRO-rn_tX"
      },
      "execution_count": 56,
      "outputs": []
    },
    {
      "cell_type": "code",
      "source": [
        "# Simulated data:\n",
        "# A - Old model or version\n",
        "# B - New model or version\n",
        "\n",
        "# Assume we're comparing conversion rates (or model accuracy on test samples)\n",
        "\n",
        "# Group A: 1000 users, 200 converted\n",
        "# Group B: 980 users, 240 converted\n",
        "\n",
        "successes = np.array([200, 240])\n",
        "samples = np.array([1000, 980])"
      ],
      "metadata": {
        "id": "daNgoPqkoCBK"
      },
      "execution_count": 57,
      "outputs": []
    },
    {
      "cell_type": "code",
      "source": [
        "# Perform two-proportion z-test (default is two-sided)\n",
        "z_stat, p_value = proportions_ztest(count=successes, nobs=samples)\n",
        "\n",
        "print(f\"Z-statistic: {z_stat:.4f}\")\n",
        "print(f\"P-value: {p_value:.4f}\")\n",
        "\n",
        "alpha = 0.05\n",
        "if p_value < alpha:\n",
        "    print(\"Reject the null hypothesis: Significant difference between A and B\")\n",
        "else:\n",
        "    print(\"Fail to reject the null hypothesis: No significant difference between A and B\")"
      ],
      "metadata": {
        "colab": {
          "base_uri": "https://localhost:8080/"
        },
        "id": "OPBEZuhGoErT",
        "outputId": "62f6afb2-e374-48a2-fd9c-f496fc767a1c"
      },
      "execution_count": 58,
      "outputs": [
        {
          "output_type": "stream",
          "name": "stdout",
          "text": [
            "Z-statistic: -2.4026\n",
            "P-value: 0.0163\n",
            "Reject the null hypothesis: Significant difference between A and B\n"
          ]
        }
      ]
    },
    {
      "cell_type": "markdown",
      "source": [
        "#Sampling Simulation – Central Limit Theorem (CLT)"
      ],
      "metadata": {
        "id": "tfPR8JQmoMOL"
      }
    },
    {
      "cell_type": "markdown",
      "source": [
        "Objective:\n",
        "- Show that the distribution of the sample means approximates a normal distribution as the number of samples increases, regardless of the population distribution."
      ],
      "metadata": {
        "id": "m7uhZCXfoVNj"
      }
    },
    {
      "cell_type": "code",
      "source": [
        "import numpy as np\n",
        "import matplotlib.pyplot as plt\n",
        "import seaborn as sns\n",
        "\n",
        "# Set style\n",
        "sns.set(style=\"whitegrid\")"
      ],
      "metadata": {
        "id": "UWpoTKP6oeVG"
      },
      "execution_count": 59,
      "outputs": []
    },
    {
      "cell_type": "code",
      "source": [
        "# Step 1: Generate a non-normal population (e.g., exponential distribution)\n",
        "population = np.random.exponential(scale=2.0, size=100000)"
      ],
      "metadata": {
        "id": "OJTo7SaooiVN"
      },
      "execution_count": 60,
      "outputs": []
    },
    {
      "cell_type": "code",
      "source": [
        "# Step 2: Function to draw multiple samples and compute their means\n",
        "def draw_sample_means(sample_size=30, num_samples=1000):\n",
        "    means = []\n",
        "    for _ in range(num_samples):\n",
        "        sample = np.random.choice(population, size=sample_size, replace=False)\n",
        "        means.append(np.mean(sample))\n",
        "    return means"
      ],
      "metadata": {
        "id": "nlyW4l42okH3"
      },
      "execution_count": 61,
      "outputs": []
    },
    {
      "cell_type": "code",
      "source": [
        "# Step 3: Draw sample means for different sample sizes\n",
        "sample_sizes = [5, 30, 100]\n",
        "fig, axes = plt.subplots(1, 3, figsize=(18, 5))\n",
        "\n",
        "for i, size in enumerate(sample_sizes):\n",
        "    sample_means = draw_sample_means(sample_size=size)\n",
        "    sns.histplot(sample_means, kde=True, ax=axes[i], bins=30, color='skyblue')\n",
        "    axes[i].set_title(f\"Sample Size = {size}\")\n",
        "    axes[i].set_xlabel(\"Sample Mean\")\n",
        "    axes[i].set_ylabel(\"Frequency\")\n",
        "\n",
        "fig.suptitle(\"Central Limit Theorem Visualization: Sampling Distributions of the Mean\", fontsize=16)\n",
        "plt.tight_layout(rect=[0, 0, 1, 0.95])\n",
        "plt.show()"
      ],
      "metadata": {
        "colab": {
          "base_uri": "https://localhost:8080/",
          "height": 407
        },
        "id": "LvIe-ANPomcL",
        "outputId": "951e635b-cdd1-4816-b46f-d351e6511600"
      },
      "execution_count": 62,
      "outputs": [
        {
          "output_type": "display_data",
          "data": {
            "text/plain": [
              "<Figure size 1800x500 with 3 Axes>"
            ],
            "image/png": "[encoded data removed]"
          },
          "metadata": {}
        }
      ]
    },
    {
      "cell_type": "markdown",
      "source": [
        "What This Does:\n",
        "- Starts with a non-normal population (Exponential).\n",
        "- Draws repeated random samples of size 5, 30, and 100.\n",
        "- Plots the distribution of sample means for each case.\n",
        "- As sample size increases:\n",
        "  - Distribution becomes more symmetric\n",
        "  - Shape becomes closer to normal\n",
        "  - Variance reduces\n",
        "\n"
      ],
      "metadata": {
        "id": "mitZ___Vown-"
      }
    },
    {
      "cell_type": "markdown",
      "source": [
        "# Final Summary: Probability & Statistics for AI/ML\n",
        "\n",
        "This notebook explored essential concepts in **Probability and Statistics**, building a solid foundation for understanding **uncertainty, decision-making, and inference** in Machine Learning. Each concept is reinforced with intuitive explanations, NumPy/Python-based simulations, and AI-relevant applications.\n",
        "\n",
        "###**Key Concepts Covered**\n",
        "\n",
        "* **Descriptive Statistics**  \n",
        "  - Central tendency: mean, median, mode  \n",
        "  - Dispersion: variance, standard deviation, IQR  \n",
        "  - Visualizations: histograms, boxplots, bar charts\n",
        "\n",
        "* **Probability Theory**  \n",
        "  - Axioms of probability, sample space, events  \n",
        "  - Conditional probability and **Bayes' Theorem**  \n",
        "  - Independence and Law of Total Probability\n",
        "\n",
        "* **Random Variables**  \n",
        "  - Discrete: Bernoulli, Binomial, Poisson  \n",
        "  - Continuous: Uniform, Exponential, Normal  \n",
        "  - PMF, PDF, and CDF functions\n",
        "\n",
        "* **Joint, Marginal, and Conditional Distributions**  \n",
        "  - Joint probability tables  \n",
        "  - Marginalization  \n",
        "  - Independence in multivariate settings\n",
        "\n",
        "* **Expectation, Variance, Covariance, Correlation**  \n",
        "  - $E[X]$, $Var(X)$, $Cov(X, Y)$, $Corr(X, Y)$  \n",
        "  - Covariance matrix and interpretation\n",
        "\n",
        "* **Sampling and Estimation**  \n",
        "  - Law of Large Numbers & Central Limit Theorem  \n",
        "  - Confidence intervals and standard error  \n",
        "  - Point vs interval estimation\n",
        "\n",
        "* **Hypothesis Testing**  \n",
        "  - Null vs alternative hypotheses  \n",
        "  - $z$-test, $t$-test, $p$-values, and critical values  \n",
        "  - One-sample and two-sample testing  \n",
        "  - Type I & Type II errors, power of a test\n",
        "\n",
        "* **Bayesian Estimation**  \n",
        "  - Prior, likelihood, posterior  \n",
        "  - MAP vs MLE  \n",
        "  - Bayesian inference basics\n",
        "\n",
        "---\n",
        "\n",
        "###  **From-Scratch ML Implementations**\n",
        "\n",
        "* **Naive Bayes Classifier**  \n",
        "  - Using conditional probability and Bayes’ Theorem\n",
        "\n",
        "* **A/B Testing Framework**  \n",
        "  - Implementing hypothesis testing for model comparison\n",
        "\n",
        "* **Sampling Simulations**  \n",
        "  - Central Limit Theorem visualization with repeated samples\n",
        "\n",
        "---\n",
        "\n",
        "### **Applications to Machine Learning**\n",
        "\n",
        "* **Naive Bayes** → Text classification, spam filtering  \n",
        "* **Statistical Testing** → Model comparison, A/B testing in production  \n",
        "* **Bayesian Methods** → Uncertainty quantification and priors in ML  \n",
        "* **Probabilistic Models** → Generative models, variational inference  \n",
        "* **Data Distributions** → Choosing activation/loss functions (e.g., Poisson, Gaussian)  \n",
        "* **Covariance & Correlation** → Feature selection, multicollinearity detection\n",
        "\n"
      ],
      "metadata": {
        "id": "XST6M4pRlTz6"
      }
    }
  ]
}